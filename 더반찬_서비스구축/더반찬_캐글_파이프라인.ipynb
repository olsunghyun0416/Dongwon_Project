{
 "cells": [
  {
   "cell_type": "code",
   "execution_count": 2,
   "metadata": {},
   "outputs": [],
   "source": [
    "import datetime\n",
    "import warnings\n",
    "import numpy as np\n",
    "import pandas as pd\n",
    "import seaborn as sns\n",
    "import matplotlib.pyplot as plt\n",
    "#!pip install catboost\n",
    "import catboost\n",
    "from catboost import Pool\n",
    "from catboost import CatBoostRegressor\n",
    "from xgboost import XGBRegressor\n",
    "from xgboost import plot_importance\n",
    "from sklearn.metrics import mean_squared_error\n",
    "from sklearn.linear_model import LinearRegression\n",
    "from sklearn.neighbors import KNeighborsRegressor\n",
    "from sklearn.ensemble import RandomForestRegressor\n",
    "from sklearn.preprocessing import StandardScaler, MinMaxScaler\n",
    "\n",
    "%matplotlib inline\n",
    "sns.set(style=\"darkgrid\")\n",
    "pd.set_option('display.float_format', lambda x: '%.2f' % x)\n",
    "warnings.filterwarnings(\"ignore\")"
   ]
  },
  {
   "cell_type": "markdown",
   "metadata": {},
   "source": [
    "## Loading data"
   ]
  },
  {
   "cell_type": "code",
   "execution_count": 3,
   "metadata": {},
   "outputs": [
    {
     "data": {
      "text/html": [
       "<div>\n",
       "<style scoped>\n",
       "    .dataframe tbody tr th:only-of-type {\n",
       "        vertical-align: middle;\n",
       "    }\n",
       "\n",
       "    .dataframe tbody tr th {\n",
       "        vertical-align: top;\n",
       "    }\n",
       "\n",
       "    .dataframe thead th {\n",
       "        text-align: right;\n",
       "    }\n",
       "</style>\n",
       "<table border=\"1\" class=\"dataframe\">\n",
       "  <thead>\n",
       "    <tr style=\"text-align: right;\">\n",
       "      <th></th>\n",
       "      <th>Unnamed: 0</th>\n",
       "      <th>ORD_NO</th>\n",
       "      <th>H_YMD</th>\n",
       "      <th>O_YMD</th>\n",
       "      <th>PKG_GOODS_NO</th>\n",
       "      <th>PKG_GOODS_NM</th>\n",
       "      <th>GOODS_NO</th>\n",
       "      <th>GOODS_NM</th>\n",
       "      <th>STD_GSGR_NO_LEV1_NM</th>\n",
       "      <th>ORD_QTY</th>\n",
       "      <th>CANCEL_QTY</th>\n",
       "      <th>RET_QTY</th>\n",
       "      <th>REAL_ORD_QTY</th>\n",
       "      <th>RECVR_ROAD_BASE_ADDR</th>\n",
       "      <th>SALE_PRICE</th>\n",
       "      <th>DISCOUNT_AMT</th>\n",
       "      <th>FINAL_PRICE</th>\n",
       "    </tr>\n",
       "  </thead>\n",
       "  <tbody>\n",
       "    <tr>\n",
       "      <th>0</th>\n",
       "      <td>0</td>\n",
       "      <td>202201095519105</td>\n",
       "      <td>2022-01-11 00:00:00</td>\n",
       "      <td>2022-01-09 12:26:10</td>\n",
       "      <td>단품</td>\n",
       "      <td>단품</td>\n",
       "      <td>1901012353</td>\n",
       "      <td>수제계란말이(350g)</td>\n",
       "      <td>반찬</td>\n",
       "      <td>1</td>\n",
       "      <td>0</td>\n",
       "      <td>0</td>\n",
       "      <td>1</td>\n",
       "      <td>충청북도 증평군 증평읍 송산로 11 (지평더웰아파트)</td>\n",
       "      <td>6900</td>\n",
       "      <td>569.00</td>\n",
       "      <td>6331</td>\n",
       "    </tr>\n",
       "    <tr>\n",
       "      <th>1</th>\n",
       "      <td>1</td>\n",
       "      <td>202201105522898</td>\n",
       "      <td>2022-01-11 00:00:00</td>\n",
       "      <td>2022-01-10 10:35:49</td>\n",
       "      <td>단품</td>\n",
       "      <td>단품</td>\n",
       "      <td>1901012353</td>\n",
       "      <td>수제계란말이(350g)</td>\n",
       "      <td>반찬</td>\n",
       "      <td>1</td>\n",
       "      <td>0</td>\n",
       "      <td>0</td>\n",
       "      <td>1</td>\n",
       "      <td>서울특별시 강남구 논현로85길 52 (역삼동)</td>\n",
       "      <td>6900</td>\n",
       "      <td>177.00</td>\n",
       "      <td>6723</td>\n",
       "    </tr>\n",
       "    <tr>\n",
       "      <th>2</th>\n",
       "      <td>2</td>\n",
       "      <td>202201115527172</td>\n",
       "      <td>2022-01-12 00:00:00</td>\n",
       "      <td>2022-01-11 11:38:32</td>\n",
       "      <td>단품</td>\n",
       "      <td>단품</td>\n",
       "      <td>1901012353</td>\n",
       "      <td>수제계란말이(350g)</td>\n",
       "      <td>반찬</td>\n",
       "      <td>1</td>\n",
       "      <td>0</td>\n",
       "      <td>0</td>\n",
       "      <td>1</td>\n",
       "      <td>서울특별시 송파구 올림픽로4길 42 (잠실동, 우성아파트)</td>\n",
       "      <td>6900</td>\n",
       "      <td>221.00</td>\n",
       "      <td>6679</td>\n",
       "    </tr>\n",
       "    <tr>\n",
       "      <th>3</th>\n",
       "      <td>3</td>\n",
       "      <td>202201105523467</td>\n",
       "      <td>2022-01-12 00:00:00</td>\n",
       "      <td>2022-01-10 13:21:51</td>\n",
       "      <td>단품</td>\n",
       "      <td>단품</td>\n",
       "      <td>1901012353</td>\n",
       "      <td>수제계란말이(350g)</td>\n",
       "      <td>반찬</td>\n",
       "      <td>1</td>\n",
       "      <td>0</td>\n",
       "      <td>0</td>\n",
       "      <td>1</td>\n",
       "      <td>강원도 속초시 도리원길 11-14 (노학동)</td>\n",
       "      <td>6900</td>\n",
       "      <td>128.00</td>\n",
       "      <td>6772</td>\n",
       "    </tr>\n",
       "    <tr>\n",
       "      <th>4</th>\n",
       "      <td>4</td>\n",
       "      <td>202201105522519</td>\n",
       "      <td>2022-01-11 00:00:00</td>\n",
       "      <td>2022-01-10 08:16:21</td>\n",
       "      <td>단품</td>\n",
       "      <td>단품</td>\n",
       "      <td>1901012353</td>\n",
       "      <td>수제계란말이(350g)</td>\n",
       "      <td>반찬</td>\n",
       "      <td>1</td>\n",
       "      <td>0</td>\n",
       "      <td>0</td>\n",
       "      <td>1</td>\n",
       "      <td>경기도 용인시 수지구 동천로 64 (동천동, 동천마을동문굿모닝힐5차아파트)</td>\n",
       "      <td>6900</td>\n",
       "      <td>157.00</td>\n",
       "      <td>6743</td>\n",
       "    </tr>\n",
       "  </tbody>\n",
       "</table>\n",
       "</div>"
      ],
      "text/plain": [
       "   Unnamed: 0           ORD_NO                H_YMD                O_YMD  \\\n",
       "0           0  202201095519105  2022-01-11 00:00:00  2022-01-09 12:26:10   \n",
       "1           1  202201105522898  2022-01-11 00:00:00  2022-01-10 10:35:49   \n",
       "2           2  202201115527172  2022-01-12 00:00:00  2022-01-11 11:38:32   \n",
       "3           3  202201105523467  2022-01-12 00:00:00  2022-01-10 13:21:51   \n",
       "4           4  202201105522519  2022-01-11 00:00:00  2022-01-10 08:16:21   \n",
       "\n",
       "  PKG_GOODS_NO PKG_GOODS_NM    GOODS_NO      GOODS_NM STD_GSGR_NO_LEV1_NM  \\\n",
       "0           단품           단품  1901012353  수제계란말이(350g)                  반찬   \n",
       "1           단품           단품  1901012353  수제계란말이(350g)                  반찬   \n",
       "2           단품           단품  1901012353  수제계란말이(350g)                  반찬   \n",
       "3           단품           단품  1901012353  수제계란말이(350g)                  반찬   \n",
       "4           단품           단품  1901012353  수제계란말이(350g)                  반찬   \n",
       "\n",
       "   ORD_QTY  CANCEL_QTY  RET_QTY  REAL_ORD_QTY  \\\n",
       "0        1           0        0             1   \n",
       "1        1           0        0             1   \n",
       "2        1           0        0             1   \n",
       "3        1           0        0             1   \n",
       "4        1           0        0             1   \n",
       "\n",
       "                        RECVR_ROAD_BASE_ADDR  SALE_PRICE  DISCOUNT_AMT  \\\n",
       "0              충청북도 증평군 증평읍 송산로 11 (지평더웰아파트)        6900        569.00   \n",
       "1                  서울특별시 강남구 논현로85길 52 (역삼동)        6900        177.00   \n",
       "2           서울특별시 송파구 올림픽로4길 42 (잠실동, 우성아파트)        6900        221.00   \n",
       "3                   강원도 속초시 도리원길 11-14 (노학동)        6900        128.00   \n",
       "4  경기도 용인시 수지구 동천로 64 (동천동, 동천마을동문굿모닝힐5차아파트)        6900        157.00   \n",
       "\n",
       "   FINAL_PRICE  \n",
       "0         6331  \n",
       "1         6723  \n",
       "2         6679  \n",
       "3         6772  \n",
       "4         6743  "
      ]
     },
     "execution_count": 3,
     "metadata": {},
     "output_type": "execute_result"
    }
   ],
   "source": [
    "# raw data 로딩 \n",
    "raw_data = pd.read_csv(r'C:\\\\Users\\\\user\\\\Desktop\\\\DBC_predict\\\\intern.csv')\n",
    "raw_data.head()"
   ]
  },
  {
   "cell_type": "code",
   "execution_count": 4,
   "metadata": {},
   "outputs": [],
   "source": [
    "# 불필요한 컬럼들 제거\n",
    "# Unnamed: 단순 데이터 순서를 나타내는 컬럼이기에 삭제\n",
    "# O_YMD: 주문 시간은 오더 건수와 큰 상관이 없기에 삭제\n",
    "# ORD_NO: 주문 내용의 일련번호이기에 삭제\n",
    "# PKG_GOODS_NO: PKG_GOODS_NM과 내용이 겹치고 잘못 적재된 데이터이기에 삭제\n",
    "# RECVR_ROAD_BASE_ADDR: 비대면으로 주문하는 시대에 지역정보는 큰 의미가 없을 것 같아 삭제\n",
    "# 등등 미래에 예측할 수 없는 데이터는 모두 삭제\n",
    "\n",
    "# 카피 데이터 생성\n",
    "copy_data = raw_data[['H_YMD', 'O_YMD', 'ORD_QTY', 'GOODS_NO', 'CANCEL_QTY', 'RET_QTY', 'SALE_PRICE', 'DISCOUNT_AMT', 'FINAL_PRICE', 'REAL_ORD_QTY']]\n",
    "\n",
    "# 희망배송일 순서대로 데이터를 정렬\n",
    "copy_data = copy_data.sort_values(by = 'H_YMD')"
   ]
  },
  {
   "cell_type": "markdown",
   "metadata": {},
   "source": [
    "### 파이프라인"
   ]
  },
  {
   "cell_type": "code",
   "execution_count": 5,
   "metadata": {},
   "outputs": [],
   "source": [
    "def ADD_DATETIME(df):\n",
    "    # 희망배송일의 연도,월,일 데이터를 각각 year, month, day 변수에 넣어준다.\n",
    "\n",
    "    df['H_YMD'] = pd.to_datetime(df['H_YMD'])\n",
    "    df['year'] = df['H_YMD'].dt.year\n",
    "    df['month'] = df['H_YMD'].dt.month\n",
    "    df['day'] = df['H_YMD'].dt.day\n",
    "\n",
    "    return df"
   ]
  },
  {
   "cell_type": "code",
   "execution_count": 6,
   "metadata": {},
   "outputs": [],
   "source": [
    "def ROLLING(df):\n",
    "    # 몇개의 데이터를 가지고 연산을 할 것인가\n",
    "    # 데이터들을 순차적으로 6일 (window=6)씩 선택해서 mean처럼 이동평균을 냄\n",
    "    # 3일치의 min,max,std도 고려할 수 있습니다. \n",
    "\n",
    "    # Min value\n",
    "    f_min = lambda x: x.rolling(window=7).min()\n",
    "    # Max value\n",
    "    f_max = lambda x: x.rolling(window=7).max()\n",
    "    # Mean value\n",
    "    f_mean = lambda x: x.rolling(window=7).mean()\n",
    "    # Standard deviation\n",
    "    f_std = lambda x: x.rolling(window=7).std()\n",
    "\n",
    "    function_list = [f_min, f_max, f_mean, f_std]\n",
    "    function_name = ['min', 'max', 'mean', 'std']\n",
    "    col = ['ORD_QTY', 'CANCEL_QTY', 'RET_QTY', 'SALE_PRICE', 'DISCOUNT_AMT', 'FINAL_PRICE', 'REAL_ORD_QTY']\n",
    "\n",
    "    for c in col:\n",
    "        for i in range(len(function_list)):\n",
    "            #df[('ORD_QTY_shifted_%s' % function_name[i])] = df.sort_values('H_YMD').groupby(['O_YMD', 'GOODS_NO'])['REAL_ORD_QTY'].apply(function_list[i])\n",
    "            df[('%s_shifted_%s' % (c, function_name[i]))] = df.sort_values('H_YMD').groupby(['GOODS_NO'])[c].apply(function_list[i])\n",
    "        # Fill the empty std features with 0\n",
    "        df['%s_shifted_std' % c ].fillna(0, inplace=True)\n",
    "    \n",
    "    return df"
   ]
  },
  {
   "cell_type": "code",
   "execution_count": 7,
   "metadata": {},
   "outputs": [],
   "source": [
    "def LAG(df):\n",
    "    # 시점을 1일, 2일, 3일로 미뤄서 lag 변수를 생성해준다.\n",
    "\n",
    "    lag_list = [6,7,8]\n",
    "    col = ['ORD_QTY', 'CANCEL_QTY', 'RET_QTY', 'SALE_PRICE', 'DISCOUNT_AMT', 'FINAL_PRICE', 'REAL_ORD_QTY']\n",
    "\n",
    "    for c in col:\n",
    "        for lag in lag_list:\n",
    "            ft_name = ('%s_shifted%s' % (c, lag))\n",
    "            #train_monthly[ft_name] = train_monthly.sort_values('date_block_num').groupby(['GOODS_NO'])['REAL_ORD_QTY'].shift(lag)\n",
    "            df[ft_name] = df.sort_values('H_YMD').groupby(['GOODS_NO'])[c].shift(lag)\n",
    "            # Fill the empty shifted features with 0\n",
    "            df[ft_name].fillna(0, inplace=True)\n",
    "\n",
    "    return df"
   ]
  },
  {
   "cell_type": "code",
   "execution_count": 8,
   "metadata": {},
   "outputs": [],
   "source": [
    "def TREND(df):\n",
    "    # lag 시켰을 때 나온 item_count 판매량을 lag로 나눠서 1을 더해준다.\n",
    "    lag_list = [6,7,8]\n",
    "    df['item_trend'] = df['REAL_ORD_QTY_shifted6']\n",
    "\n",
    "    for lag in lag_list:\n",
    "        ft_name = ('REAL_ORD_QTY_shifted%s' % lag)\n",
    "        df['item_trend'] -= df[ft_name]\n",
    "\n",
    "    df['item_trend'] /= len(lag_list) + 1\n",
    "\n",
    "    return df"
   ]
  },
  {
   "cell_type": "code",
   "execution_count": 9,
   "metadata": {},
   "outputs": [],
   "source": [
    "def MEAN_DATA(df):\n",
    "    \n",
    "    # 학습데이터의 상품번호 별 일별 판매량 평균\n",
    "    gp_goods_mean = df.groupby(['H_YMD','GOODS_NO']).agg({'REAL_ORD_QTY_shifted6': ['mean']})\n",
    "    gp_goods_mean.columns = ['GOODS_mean']\n",
    "    gp_goods_mean.reset_index(inplace=True)\n",
    "\n",
    "\n",
    "    # 핛습데이터의 연도별 일별 판매량 평균\n",
    "    gp_year_mean = df.groupby(['year']).agg({'REAL_ORD_QTY_shifted6': ['mean']})\n",
    "    gp_year_mean.columns = ['year_mean']\n",
    "    gp_year_mean.reset_index(inplace=True)\n",
    "\n",
    "    # 학습데이터의 월별 일별 판매량 평균\n",
    "    gp_month_mean = df.groupby(['month']).agg({'REAL_ORD_QTY_shifted6': ['mean']})\n",
    "    gp_month_mean.columns = ['month_mean']\n",
    "    gp_month_mean.reset_index(inplace=True)\n",
    "\n",
    "    # 훈련 데이터에 판매량 평균 데이터들 결함\n",
    "    df = pd.merge(df, gp_goods_mean, on=['H_YMD','GOODS_NO'], how='left')\n",
    "    df = pd.merge(df, gp_year_mean, on=['year'], how='left')\n",
    "    df = pd.merge(df, gp_month_mean, on=['month'], how='left')\n",
    "\n",
    "    return df\n"
   ]
  },
  {
   "cell_type": "code",
   "execution_count": 10,
   "metadata": {},
   "outputs": [],
   "source": [
    "# 결측치들을 상품번호별 중앙값으로 대체한다.\n",
    "\n",
    "def REPLACE_MISSING_VALUE(df):\n",
    "    #Replace missing values with the median of each shop.            \n",
    "    for goods_no in df['GOODS_NO'].unique():\n",
    "        #print('goods_no: ', goods_no)\n",
    "        for column in df.columns:\n",
    "            goods_median = df[(df['GOODS_NO'] == goods_no)][column].median()\n",
    "            df.loc[(df[column].isnull()) & (df['GOODS_NO'] == goods_no), column] = goods_median\n",
    "\n",
    "    # Fill remaining missing values on test set with mean.\n",
    "    df.fillna(df.mean(), inplace=True)\n",
    "\n",
    "\n",
    "    return df "
   ]
  },
  {
   "cell_type": "code",
   "execution_count": 11,
   "metadata": {},
   "outputs": [],
   "source": [
    "def DBC_PIPELINE(df):\n",
    "    temp = df.copy()\n",
    "    \n",
    "    temp = ADD_DATETIME(temp)\n",
    "    \n",
    "    temp = ROLLING(temp)\n",
    "    \n",
    "    temp = LAG(temp)\n",
    "\n",
    "    temp = TREND(temp)\n",
    "\n",
    "    temp = MEAN_DATA(temp)\n",
    "\n",
    "    temp = REPLACE_MISSING_VALUE(temp)\n",
    "\n",
    "    return temp"
   ]
  },
  {
   "cell_type": "markdown",
   "metadata": {},
   "source": [
    "### 데이터 분할"
   ]
  },
  {
   "cell_type": "code",
   "execution_count": 12,
   "metadata": {},
   "outputs": [
    {
     "data": {
      "text/html": [
       "<div>\n",
       "<style scoped>\n",
       "    .dataframe tbody tr th:only-of-type {\n",
       "        vertical-align: middle;\n",
       "    }\n",
       "\n",
       "    .dataframe tbody tr th {\n",
       "        vertical-align: top;\n",
       "    }\n",
       "\n",
       "    .dataframe thead th {\n",
       "        text-align: right;\n",
       "    }\n",
       "</style>\n",
       "<table border=\"1\" class=\"dataframe\">\n",
       "  <thead>\n",
       "    <tr style=\"text-align: right;\">\n",
       "      <th></th>\n",
       "      <th>H_YMD</th>\n",
       "      <th>O_YMD</th>\n",
       "      <th>ORD_QTY</th>\n",
       "      <th>GOODS_NO</th>\n",
       "      <th>CANCEL_QTY</th>\n",
       "      <th>RET_QTY</th>\n",
       "      <th>SALE_PRICE</th>\n",
       "      <th>DISCOUNT_AMT</th>\n",
       "      <th>FINAL_PRICE</th>\n",
       "      <th>REAL_ORD_QTY</th>\n",
       "    </tr>\n",
       "  </thead>\n",
       "  <tbody>\n",
       "    <tr>\n",
       "      <th>168675</th>\n",
       "      <td>2020-01-06 00:00:00</td>\n",
       "      <td>2020-01-05 00:14:21</td>\n",
       "      <td>1</td>\n",
       "      <td>3273</td>\n",
       "      <td>0</td>\n",
       "      <td>0</td>\n",
       "      <td>4200</td>\n",
       "      <td>NaN</td>\n",
       "      <td>4200</td>\n",
       "      <td>1</td>\n",
       "    </tr>\n",
       "    <tr>\n",
       "      <th>167277</th>\n",
       "      <td>2020-01-06 00:00:00</td>\n",
       "      <td>2020-01-03 13:26:34</td>\n",
       "      <td>1</td>\n",
       "      <td>1712010310</td>\n",
       "      <td>0</td>\n",
       "      <td>0</td>\n",
       "      <td>6900</td>\n",
       "      <td>403.00</td>\n",
       "      <td>6497</td>\n",
       "      <td>1</td>\n",
       "    </tr>\n",
       "    <tr>\n",
       "      <th>174692</th>\n",
       "      <td>2020-01-06 00:00:00</td>\n",
       "      <td>2020-01-04 13:16:36</td>\n",
       "      <td>2</td>\n",
       "      <td>1808011751</td>\n",
       "      <td>0</td>\n",
       "      <td>0</td>\n",
       "      <td>8900</td>\n",
       "      <td>561.00</td>\n",
       "      <td>8339</td>\n",
       "      <td>2</td>\n",
       "    </tr>\n",
       "    <tr>\n",
       "      <th>167464</th>\n",
       "      <td>2020-01-06 00:00:00</td>\n",
       "      <td>2020-01-03 16:52:49</td>\n",
       "      <td>1</td>\n",
       "      <td>1805011121</td>\n",
       "      <td>0</td>\n",
       "      <td>0</td>\n",
       "      <td>5800</td>\n",
       "      <td>NaN</td>\n",
       "      <td>5800</td>\n",
       "      <td>1</td>\n",
       "    </tr>\n",
       "    <tr>\n",
       "      <th>171755</th>\n",
       "      <td>2020-01-06 00:00:00</td>\n",
       "      <td>2020-01-03 17:33:06</td>\n",
       "      <td>1</td>\n",
       "      <td>1808011751</td>\n",
       "      <td>0</td>\n",
       "      <td>0</td>\n",
       "      <td>8900</td>\n",
       "      <td>NaN</td>\n",
       "      <td>8900</td>\n",
       "      <td>1</td>\n",
       "    </tr>\n",
       "  </tbody>\n",
       "</table>\n",
       "</div>"
      ],
      "text/plain": [
       "                      H_YMD                O_YMD  ORD_QTY    GOODS_NO  \\\n",
       "168675  2020-01-06 00:00:00  2020-01-05 00:14:21        1        3273   \n",
       "167277  2020-01-06 00:00:00  2020-01-03 13:26:34        1  1712010310   \n",
       "174692  2020-01-06 00:00:00  2020-01-04 13:16:36        2  1808011751   \n",
       "167464  2020-01-06 00:00:00  2020-01-03 16:52:49        1  1805011121   \n",
       "171755  2020-01-06 00:00:00  2020-01-03 17:33:06        1  1808011751   \n",
       "\n",
       "        CANCEL_QTY  RET_QTY  SALE_PRICE  DISCOUNT_AMT  FINAL_PRICE  \\\n",
       "168675           0        0        4200           NaN         4200   \n",
       "167277           0        0        6900        403.00         6497   \n",
       "174692           0        0        8900        561.00         8339   \n",
       "167464           0        0        5800           NaN         5800   \n",
       "171755           0        0        8900           NaN         8900   \n",
       "\n",
       "        REAL_ORD_QTY  \n",
       "168675             1  \n",
       "167277             1  \n",
       "174692             2  \n",
       "167464             1  \n",
       "171755             1  "
      ]
     },
     "execution_count": 12,
     "metadata": {},
     "output_type": "execute_result"
    }
   ],
   "source": [
    "my_data= copy_data.copy()\n",
    "\n",
    "my_data = my_data[my_data['H_YMD'] > '2020-01-05']\n",
    "\n",
    "my_data.head()"
   ]
  },
  {
   "cell_type": "code",
   "execution_count": 13,
   "metadata": {},
   "outputs": [
    {
     "data": {
      "text/html": [
       "<div>\n",
       "<style scoped>\n",
       "    .dataframe tbody tr th:only-of-type {\n",
       "        vertical-align: middle;\n",
       "    }\n",
       "\n",
       "    .dataframe tbody tr th {\n",
       "        vertical-align: top;\n",
       "    }\n",
       "\n",
       "    .dataframe thead th {\n",
       "        text-align: right;\n",
       "    }\n",
       "</style>\n",
       "<table border=\"1\" class=\"dataframe\">\n",
       "  <thead>\n",
       "    <tr style=\"text-align: right;\">\n",
       "      <th></th>\n",
       "      <th>H_YMD</th>\n",
       "      <th>GOODS_NO</th>\n",
       "      <th>SALE_PRICE</th>\n",
       "      <th>ORD_QTY</th>\n",
       "      <th>REAL_ORD_QTY</th>\n",
       "      <th>CANCEL_QTY</th>\n",
       "      <th>RET_QTY</th>\n",
       "      <th>DISCOUNT_AMT</th>\n",
       "      <th>FINAL_PRICE</th>\n",
       "    </tr>\n",
       "  </thead>\n",
       "  <tbody>\n",
       "    <tr>\n",
       "      <th>0</th>\n",
       "      <td>2020-01-06 00:00:00</td>\n",
       "      <td>1823</td>\n",
       "      <td>125400</td>\n",
       "      <td>39</td>\n",
       "      <td>38</td>\n",
       "      <td>1</td>\n",
       "      <td>0</td>\n",
       "      <td>2300.00</td>\n",
       "      <td>123100</td>\n",
       "    </tr>\n",
       "    <tr>\n",
       "      <th>1</th>\n",
       "      <td>2020-01-06 00:00:00</td>\n",
       "      <td>3273</td>\n",
       "      <td>180600</td>\n",
       "      <td>47</td>\n",
       "      <td>45</td>\n",
       "      <td>2</td>\n",
       "      <td>0</td>\n",
       "      <td>4906.00</td>\n",
       "      <td>175694</td>\n",
       "    </tr>\n",
       "    <tr>\n",
       "      <th>2</th>\n",
       "      <td>2020-01-06 00:00:00</td>\n",
       "      <td>4092</td>\n",
       "      <td>92000</td>\n",
       "      <td>23</td>\n",
       "      <td>19</td>\n",
       "      <td>4</td>\n",
       "      <td>0</td>\n",
       "      <td>2146.00</td>\n",
       "      <td>89854</td>\n",
       "    </tr>\n",
       "    <tr>\n",
       "      <th>3</th>\n",
       "      <td>2020-01-06 00:00:00</td>\n",
       "      <td>13957</td>\n",
       "      <td>293600</td>\n",
       "      <td>62</td>\n",
       "      <td>55</td>\n",
       "      <td>7</td>\n",
       "      <td>0</td>\n",
       "      <td>5400.00</td>\n",
       "      <td>288200</td>\n",
       "    </tr>\n",
       "    <tr>\n",
       "      <th>4</th>\n",
       "      <td>2020-01-06 00:00:00</td>\n",
       "      <td>14375</td>\n",
       "      <td>911600</td>\n",
       "      <td>119</td>\n",
       "      <td>112</td>\n",
       "      <td>7</td>\n",
       "      <td>0</td>\n",
       "      <td>15848.00</td>\n",
       "      <td>895752</td>\n",
       "    </tr>\n",
       "  </tbody>\n",
       "</table>\n",
       "</div>"
      ],
      "text/plain": [
       "                 H_YMD  GOODS_NO  SALE_PRICE  ORD_QTY  REAL_ORD_QTY  \\\n",
       "0  2020-01-06 00:00:00      1823      125400       39            38   \n",
       "1  2020-01-06 00:00:00      3273      180600       47            45   \n",
       "2  2020-01-06 00:00:00      4092       92000       23            19   \n",
       "3  2020-01-06 00:00:00     13957      293600       62            55   \n",
       "4  2020-01-06 00:00:00     14375      911600      119           112   \n",
       "\n",
       "   CANCEL_QTY  RET_QTY  DISCOUNT_AMT  FINAL_PRICE  \n",
       "0           1        0       2300.00       123100  \n",
       "1           2        0       4906.00       175694  \n",
       "2           4        0       2146.00        89854  \n",
       "3           7        0       5400.00       288200  \n",
       "4           7        0      15848.00       895752  "
      ]
     },
     "execution_count": 13,
     "metadata": {},
     "output_type": "execute_result"
    }
   ],
   "source": [
    "# 데이터를 H_YMD(희망배송일), GOODS_NO(상품 번호)로 groupby를 해준다.\n",
    "# SALE_PRICE(판매가격), ORD_QTY(주문 건수), REAL_ORD_QTY(최종주문건수)의 평균값과 매매거래량 변수를 만든다.\n",
    "\n",
    "my_data['O_YMD'] = pd.to_datetime(my_data['O_YMD'])\n",
    "my_data['O_YMD'] = my_data['O_YMD'].dt.weekday\n",
    "\n",
    "my_data = my_data.groupby(['H_YMD', 'GOODS_NO'], as_index=False)\n",
    "my_data = my_data.agg({\n",
    "                        'SALE_PRICE':['sum'], \n",
    "                        'ORD_QTY':['sum'],\n",
    "                        'REAL_ORD_QTY':['sum'],\n",
    "                        'CANCEL_QTY':['sum'],\n",
    "                        'RET_QTY':['sum'],\n",
    "                        'DISCOUNT_AMT':['sum'],\n",
    "                        'FINAL_PRICE':['sum']\n",
    "                        })\n",
    "\n",
    "my_data.columns = [\n",
    "                    'H_YMD', 'GOODS_NO',\n",
    "                    'SALE_PRICE',\n",
    "                    'ORD_QTY',\n",
    "                    'REAL_ORD_QTY',\n",
    "                    'CANCEL_QTY',\n",
    "                    'RET_QTY',\n",
    "                    'DISCOUNT_AMT',\n",
    "                    'FINAL_PRICE'\n",
    "                    ]\n",
    "\n",
    "my_data.head()"
   ]
  },
  {
   "cell_type": "code",
   "execution_count": 589,
   "metadata": {},
   "outputs": [
    {
     "data": {
      "text/html": [
       "<div>\n",
       "<style scoped>\n",
       "    .dataframe tbody tr th:only-of-type {\n",
       "        vertical-align: middle;\n",
       "    }\n",
       "\n",
       "    .dataframe tbody tr th {\n",
       "        vertical-align: top;\n",
       "    }\n",
       "\n",
       "    .dataframe thead th {\n",
       "        text-align: right;\n",
       "    }\n",
       "</style>\n",
       "<table border=\"1\" class=\"dataframe\">\n",
       "  <thead>\n",
       "    <tr style=\"text-align: right;\">\n",
       "      <th></th>\n",
       "      <th>REAL_ORD_QTY</th>\n",
       "    </tr>\n",
       "    <tr>\n",
       "      <th>H_YMD</th>\n",
       "      <th></th>\n",
       "    </tr>\n",
       "  </thead>\n",
       "  <tbody>\n",
       "    <tr>\n",
       "      <th>2020-01-06</th>\n",
       "      <td>621</td>\n",
       "    </tr>\n",
       "    <tr>\n",
       "      <th>2020-01-07</th>\n",
       "      <td>755</td>\n",
       "    </tr>\n",
       "    <tr>\n",
       "      <th>2020-01-08</th>\n",
       "      <td>708</td>\n",
       "    </tr>\n",
       "    <tr>\n",
       "      <th>2020-01-09</th>\n",
       "      <td>635</td>\n",
       "    </tr>\n",
       "    <tr>\n",
       "      <th>2020-01-10</th>\n",
       "      <td>614</td>\n",
       "    </tr>\n",
       "  </tbody>\n",
       "</table>\n",
       "</div>"
      ],
      "text/plain": [
       "            REAL_ORD_QTY\n",
       "H_YMD                   \n",
       "2020-01-06           621\n",
       "2020-01-07           755\n",
       "2020-01-08           708\n",
       "2020-01-09           635\n",
       "2020-01-10           614"
      ]
     },
     "execution_count": 589,
     "metadata": {},
     "output_type": "execute_result"
    }
   ],
   "source": [
    "time_data = my_data[['H_YMD', 'REAL_ORD_QTY']]\n",
    "\n",
    "time_data['H_YMD'] = pd.to_datetime(time_data['H_YMD'])\n",
    "\n",
    "time_data = time_data.groupby('H_YMD').agg({'REAL_ORD_QTY':['sum']})\n",
    "\n",
    "time_data.columns = ['REAL_ORD_QTY']\n",
    "#time_data.set_index('H_YMD', inplace=True)\n",
    "\n",
    "time_data.head()"
   ]
  },
  {
   "cell_type": "code",
   "execution_count": 14,
   "metadata": {},
   "outputs": [],
   "source": [
    "my_data =  DBC_PIPELINE(my_data)"
   ]
  },
  {
   "cell_type": "code",
   "execution_count": 15,
   "metadata": {},
   "outputs": [],
   "source": [
    "my_data.to_csv('C:\\\\Users\\\\user\\\\Desktop\\\\my_data.csv', encoding='utf-8-sig')"
   ]
  },
  {
   "cell_type": "code",
   "execution_count": 16,
   "metadata": {},
   "outputs": [],
   "source": [
    "from sklearn.model_selection import train_test_split\n",
    "\n",
    "my_data['H_YMD'] = pd.to_datetime(my_data['H_YMD'])\n",
    "\n",
    "test_set =my_data[(my_data['H_YMD'].dt.year == 2022) & (my_data['H_YMD'].dt.month == 5)] # 2022년 5월 데이터를 테스트셋으로 설정\n",
    "\n",
    "idx = my_data[(my_data['H_YMD'].dt.year == 2022) & (my_data['H_YMD'].dt.month == 5)].index # 2022년 5월 데이터의 인덱스 저장\n",
    "my_data.drop(idx, inplace=True)\n",
    "\n",
    "target = 'REAL_ORD_QTY'\n",
    "\n",
    "Y = my_data[target]\n",
    "X = my_data.drop(target, axis=1)\n",
    "\n",
    "X_train, X_val, y_train, y_val = train_test_split(X,Y, test_size=.2, shuffle=False, random_state=2022 )\n",
    "y_test = test_set[target]\n",
    "X_test = test_set.drop(target, axis=1)\n"
   ]
  },
  {
   "cell_type": "code",
   "execution_count": 17,
   "metadata": {},
   "outputs": [],
   "source": [
    "X_train = X_train[(X_train['H_YMD'] > '2020-01-11')& (X_train['H_YMD'] < '2022-05-01')]\n",
    "y_train = y_train[len(y_train)-len(X_train):]"
   ]
  },
  {
   "cell_type": "code",
   "execution_count": 18,
   "metadata": {},
   "outputs": [
    {
     "data": {
      "text/plain": [
       "Index(['H_YMD', 'GOODS_NO', 'SALE_PRICE', 'ORD_QTY', 'CANCEL_QTY', 'RET_QTY',\n",
       "       'DISCOUNT_AMT', 'FINAL_PRICE', 'year', 'month', 'day',\n",
       "       'ORD_QTY_shifted_min', 'ORD_QTY_shifted_max', 'ORD_QTY_shifted_mean',\n",
       "       'ORD_QTY_shifted_std', 'CANCEL_QTY_shifted_min',\n",
       "       'CANCEL_QTY_shifted_max', 'CANCEL_QTY_shifted_mean',\n",
       "       'CANCEL_QTY_shifted_std', 'RET_QTY_shifted_min', 'RET_QTY_shifted_max',\n",
       "       'RET_QTY_shifted_mean', 'RET_QTY_shifted_std', 'SALE_PRICE_shifted_min',\n",
       "       'SALE_PRICE_shifted_max', 'SALE_PRICE_shifted_mean',\n",
       "       'SALE_PRICE_shifted_std', 'DISCOUNT_AMT_shifted_min',\n",
       "       'DISCOUNT_AMT_shifted_max', 'DISCOUNT_AMT_shifted_mean',\n",
       "       'DISCOUNT_AMT_shifted_std', 'FINAL_PRICE_shifted_min',\n",
       "       'FINAL_PRICE_shifted_max', 'FINAL_PRICE_shifted_mean',\n",
       "       'FINAL_PRICE_shifted_std', 'REAL_ORD_QTY_shifted_min',\n",
       "       'REAL_ORD_QTY_shifted_max', 'REAL_ORD_QTY_shifted_mean',\n",
       "       'REAL_ORD_QTY_shifted_std', 'ORD_QTY_shifted6', 'ORD_QTY_shifted7',\n",
       "       'ORD_QTY_shifted8', 'CANCEL_QTY_shifted6', 'CANCEL_QTY_shifted7',\n",
       "       'CANCEL_QTY_shifted8', 'RET_QTY_shifted6', 'RET_QTY_shifted7',\n",
       "       'RET_QTY_shifted8', 'SALE_PRICE_shifted6', 'SALE_PRICE_shifted7',\n",
       "       'SALE_PRICE_shifted8', 'DISCOUNT_AMT_shifted6', 'DISCOUNT_AMT_shifted7',\n",
       "       'DISCOUNT_AMT_shifted8', 'FINAL_PRICE_shifted6', 'FINAL_PRICE_shifted7',\n",
       "       'FINAL_PRICE_shifted8', 'REAL_ORD_QTY_shifted6',\n",
       "       'REAL_ORD_QTY_shifted7', 'REAL_ORD_QTY_shifted8', 'item_trend',\n",
       "       'GOODS_mean', 'year_mean', 'month_mean'],\n",
       "      dtype='object')"
      ]
     },
     "execution_count": 18,
     "metadata": {},
     "output_type": "execute_result"
    }
   ],
   "source": [
    "X_train.columns"
   ]
  },
  {
   "cell_type": "code",
   "execution_count": 19,
   "metadata": {},
   "outputs": [],
   "source": [
    "features = [\n",
    "            'ORD_QTY_shifted_min', 'ORD_QTY_shifted_max', 'ORD_QTY_shifted_mean',\n",
    "            'CANCEL_QTY_shifted_max',  'REAL_ORD_QTY_shifted_min',\n",
    "            'REAL_ORD_QTY_shifted_mean',\n",
    "            'ORD_QTY_shifted8', 'CANCEL_QTY_shifted6', 'CANCEL_QTY_shifted7',\n",
    "            'REAL_ORD_QTY_shifted7', 'REAL_ORD_QTY_shifted8', \n",
    "            'GOODS_mean', 'month_mean'\n",
    "            ]\n"
   ]
  },
  {
   "cell_type": "markdown",
   "metadata": {},
   "source": [
    "# 모델링"
   ]
  },
  {
   "cell_type": "code",
   "execution_count": 20,
   "metadata": {},
   "outputs": [],
   "source": [
    "from sklearn.linear_model import Ridge, Lasso\n",
    "from sklearn.tree import DecisionTreeRegressor\n",
    "from xgboost import XGBRegressor\n",
    "from sklearn.ensemble import RandomForestRegressor\n",
    "from lightgbm import LGBMRegressor\n",
    "\n",
    "from sklearn.model_selection import train_test_split, GridSearchCV, cross_validate\n",
    "from sklearn.metrics import mean_squared_error, mean_absolute_error, r2_score\n",
    "from sklearn.pipeline import Pipeline, make_pipeline"
   ]
  },
  {
   "cell_type": "code",
   "execution_count": 21,
   "metadata": {},
   "outputs": [],
   "source": [
    "X_train = X_train[features]\n",
    "X_val = X_val[features]\n",
    "X_test = X_test[features]"
   ]
  },
  {
   "cell_type": "code",
   "execution_count": 22,
   "metadata": {},
   "outputs": [],
   "source": [
    "X_train_l = np.log1p(X_train)\n",
    "X_val_l = np.log1p(X_val)\n",
    "X_test_l = np.log1p(X_test)\n",
    "\n",
    "y_train = np.log1p(y_train)\n",
    "y_val = np.log1p(y_val)\n",
    "y_test = np.log1p(y_test)"
   ]
  },
  {
   "cell_type": "code",
   "execution_count": 39,
   "metadata": {},
   "outputs": [
    {
     "name": "stdout",
     "output_type": "stream",
     "text": [
      "### Ridge ###\n",
      "RMSE : 0.37481 | MAE : 0.26536 | r2 : 0.77985 \n",
      "### Lasso ###\n",
      "RMSE : 0.79896 | MAE : 0.62325 | r2 : -0.00033 \n",
      "### DecisionTreeRegressor ###\n",
      "RMSE : 0.54884 | MAE : 0.3611 | r2 : 0.52795 \n",
      "### XGBRegressor ###\n",
      "RMSE : 0.44801 | MAE : 0.30332 | r2 : 0.68547 \n",
      "### RandomForestRegressor ###\n",
      "RMSE : 0.39477 | MAE : 0.2721 | r2 : 0.75578 \n",
      "### LGBMRegressor ###\n",
      "RMSE : 0.40487 | MAE : 0.28361 | r2 : 0.74313 \n"
     ]
    }
   ],
   "source": [
    "def evaluate_regr(y, pred):\n",
    "    mse = mean_squared_error(y, pred)\n",
    "    rmse_val = np.sqrt(mse)\n",
    "    mae_val = mean_absolute_error(y, pred)\n",
    "    r2 = r2_score(y, pred)\n",
    "    print('RMSE : {} | MAE : {} | r2 : {} '.format(round(rmse_val,5),round(mae_val,5),round(r2,5)))\n",
    "\n",
    "# 여러 모델의 성능 확인 함수 \n",
    "def get_model_predict(model, X_train, X_test, y_train, y_test):\n",
    "    model.fit(X_train, y_train)\n",
    "    pred = model.predict(X_test)\n",
    "\n",
    "    print('###', model.__class__.__name__,'###')\n",
    "    evaluate_regr(y_test, pred)\n",
    "#--------------------------------------------------------------------\n",
    "#모델별로 평가 확인 \n",
    "\n",
    "ridge_reg = Ridge(alpha=0)      # best alpha = 0\n",
    "lasso_reg = Lasso(alpha=1)        # best alpha = 1\n",
    "tree_reg = DecisionTreeRegressor(random_state=13)\n",
    "xgb_reg = XGBRegressor(n_estimators=1000, random_state=13)\n",
    "forest_reg = RandomForestRegressor(n_estimators=100,random_state=13)\n",
    "lgbm_reg = LGBMRegressor(n_estimators=500, objective='regression')\n",
    "\n",
    "for model in [ridge_reg, lasso_reg, tree_reg, xgb_reg, forest_reg, lgbm_reg]:\n",
    "# for model in [forest_reg]:\n",
    "    #get_model_predict(model, X_train, X_val, y_train, y_val)\n",
    "    get_model_predict(model, X_train_l, X_val_l, y_train, y_val)"
   ]
  },
  {
   "cell_type": "code",
   "execution_count": 24,
   "metadata": {},
   "outputs": [
    {
     "data": {
      "text/html": [
       "<div>\n",
       "<style scoped>\n",
       "    .dataframe tbody tr th:only-of-type {\n",
       "        vertical-align: middle;\n",
       "    }\n",
       "\n",
       "    .dataframe tbody tr th {\n",
       "        vertical-align: top;\n",
       "    }\n",
       "\n",
       "    .dataframe thead th {\n",
       "        text-align: right;\n",
       "    }\n",
       "</style>\n",
       "<table border=\"1\" class=\"dataframe\">\n",
       "  <thead>\n",
       "    <tr style=\"text-align: right;\">\n",
       "      <th></th>\n",
       "      <th>0</th>\n",
       "      <th>1</th>\n",
       "    </tr>\n",
       "  </thead>\n",
       "  <tbody>\n",
       "    <tr>\n",
       "      <th>0</th>\n",
       "      <td>ORD_QTY_shifted_min</td>\n",
       "      <td>-0.08</td>\n",
       "    </tr>\n",
       "    <tr>\n",
       "      <th>1</th>\n",
       "      <td>ORD_QTY_shifted_max</td>\n",
       "      <td>0.08</td>\n",
       "    </tr>\n",
       "    <tr>\n",
       "      <th>2</th>\n",
       "      <td>ORD_QTY_shifted_mean</td>\n",
       "      <td>-1.08</td>\n",
       "    </tr>\n",
       "    <tr>\n",
       "      <th>3</th>\n",
       "      <td>CANCEL_QTY_shifted_max</td>\n",
       "      <td>0.02</td>\n",
       "    </tr>\n",
       "    <tr>\n",
       "      <th>4</th>\n",
       "      <td>REAL_ORD_QTY_shifted_min</td>\n",
       "      <td>0.36</td>\n",
       "    </tr>\n",
       "    <tr>\n",
       "      <th>5</th>\n",
       "      <td>REAL_ORD_QTY_shifted_mean</td>\n",
       "      <td>1.85</td>\n",
       "    </tr>\n",
       "    <tr>\n",
       "      <th>6</th>\n",
       "      <td>ORD_QTY_shifted8</td>\n",
       "      <td>0.37</td>\n",
       "    </tr>\n",
       "    <tr>\n",
       "      <th>7</th>\n",
       "      <td>CANCEL_QTY_shifted6</td>\n",
       "      <td>0.02</td>\n",
       "    </tr>\n",
       "    <tr>\n",
       "      <th>8</th>\n",
       "      <td>CANCEL_QTY_shifted7</td>\n",
       "      <td>-0.00</td>\n",
       "    </tr>\n",
       "    <tr>\n",
       "      <th>9</th>\n",
       "      <td>REAL_ORD_QTY_shifted7</td>\n",
       "      <td>-0.06</td>\n",
       "    </tr>\n",
       "    <tr>\n",
       "      <th>10</th>\n",
       "      <td>REAL_ORD_QTY_shifted8</td>\n",
       "      <td>-0.34</td>\n",
       "    </tr>\n",
       "    <tr>\n",
       "      <th>11</th>\n",
       "      <td>GOODS_mean</td>\n",
       "      <td>-0.15</td>\n",
       "    </tr>\n",
       "    <tr>\n",
       "      <th>12</th>\n",
       "      <td>month_mean</td>\n",
       "      <td>-0.16</td>\n",
       "    </tr>\n",
       "  </tbody>\n",
       "</table>\n",
       "</div>"
      ],
      "text/plain": [
       "                            0     1\n",
       "0         ORD_QTY_shifted_min -0.08\n",
       "1         ORD_QTY_shifted_max  0.08\n",
       "2        ORD_QTY_shifted_mean -1.08\n",
       "3      CANCEL_QTY_shifted_max  0.02\n",
       "4    REAL_ORD_QTY_shifted_min  0.36\n",
       "5   REAL_ORD_QTY_shifted_mean  1.85\n",
       "6            ORD_QTY_shifted8  0.37\n",
       "7         CANCEL_QTY_shifted6  0.02\n",
       "8         CANCEL_QTY_shifted7 -0.00\n",
       "9       REAL_ORD_QTY_shifted7 -0.06\n",
       "10      REAL_ORD_QTY_shifted8 -0.34\n",
       "11                 GOODS_mean -0.15\n",
       "12                 month_mean -0.16"
      ]
     },
     "execution_count": 24,
     "metadata": {},
     "output_type": "execute_result"
    }
   ],
   "source": [
    "pd.DataFrame([X_train.columns, ridge_reg.coef_]).T"
   ]
  },
  {
   "cell_type": "markdown",
   "metadata": {},
   "source": [
    "## 릿지 하이퍼 파라미터 튜닝"
   ]
  },
  {
   "cell_type": "code",
   "execution_count": 32,
   "metadata": {},
   "outputs": [
    {
     "name": "stdout",
     "output_type": "stream",
     "text": [
      "ridge MSLE: 0.233\n"
     ]
    }
   ],
   "source": [
    "ridge_reg = Ridge()\n",
    "pipe = make_pipeline(MinMaxScaler(), ridge_reg)\n",
    "scores = cross_validate(pipe, X_train, y_train, cv=5, scoring='neg_mean_squared_error', return_train_score=True)\n",
    "print('ridge MSLE: {0:.3f}'.format(np.mean(-scores['test_score'])))"
   ]
  },
  {
   "cell_type": "code",
   "execution_count": 31,
   "metadata": {},
   "outputs": [
    {
     "name": "stdout",
     "output_type": "stream",
     "text": [
      "MLSE: 0.234\n",
      "optimal hyperparameter:  {'ridge__alpha': 5}\n"
     ]
    }
   ],
   "source": [
    "red_pipeline = Pipeline([('scaler', MinMaxScaler()), ('ridge', Ridge())])\n",
    "red_params = {'ridge__alpha':[5, 10, 15, 20]}\n",
    "red_grid_model = GridSearchCV(red_pipeline, param_grid=red_params, scoring='neg_mean_squared_error', cv=5)\n",
    "red_grid_model.fit(X_train, y_train)\n",
    "print('MLSE: {0:.3f}'.format( -1*red_grid_model.best_score_))\n",
    "print('optimal hyperparameter: ',  red_grid_model.best_params_)"
   ]
  },
  {
   "cell_type": "code",
   "execution_count": 46,
   "metadata": {},
   "outputs": [
    {
     "name": "stdout",
     "output_type": "stream",
     "text": [
      "r2:  0.7701429930230316\n"
     ]
    }
   ],
   "source": [
    "ridge_reg = Ridge()\n",
    "ridge_reg.fit(X_train_l, y_train)\n",
    "red_pred = ridge_reg.predict(X_val_l)\n",
    "print('r2: ', r2_score(np.expm1(y_val), np.expm1(red_pred)))"
   ]
  },
  {
   "cell_type": "markdown",
   "metadata": {},
   "source": [
    "## 랜덤 포레스트 튜닝"
   ]
  },
  {
   "cell_type": "code",
   "execution_count": 33,
   "metadata": {},
   "outputs": [
    {
     "name": "stdout",
     "output_type": "stream",
     "text": [
      "rf MSLE: 0.130\n"
     ]
    }
   ],
   "source": [
    "np.random.seed(0)\n",
    "rf = RandomForestRegressor(n_estimators=500)\n",
    "pipe = make_pipeline(MinMaxScaler(), rf)\n",
    "scores =  cross_validate(pipe, X_train, y_train, cv=5, scoring='neg_mean_squared_error', return_train_score=True)\n",
    "print('rf MSLE: {0:.3f}'.format(np.mean(-scores['test_score'])))"
   ]
  },
  {
   "cell_type": "code",
   "execution_count": 26,
   "metadata": {},
   "outputs": [
    {
     "name": "stdout",
     "output_type": "stream",
     "text": [
      "Fitting 5 folds for each of 24 candidates, totalling 120 fits\n",
      "rf MLSE: 0.126\n",
      "rf optimal hyperparameter:  {'rf__max_depth': 10, 'rf__min_samples_leaf': 3, 'rf__min_samples_split': 2, 'rf__n_estimators': 1000}\n"
     ]
    }
   ],
   "source": [
    "rf_pipeline = Pipeline([('sclaer', MinMaxScaler()), ('rf', RandomForestRegressor())])\n",
    "rf_params = {'rf__max_depth': [5, 10 , None],\n",
    "             'rf__min_samples_leaf': [1, 3],\n",
    "             'rf__min_samples_split':[2, 3],\n",
    "             'rf__n_estimators':[500, 1000]}\n",
    "rf_grid_model = GridSearchCV(rf_pipeline, param_grid=rf_params, scoring='neg_mean_squared_error', cv=5,\n",
    "                            n_jobs=5, verbose=True)\n",
    "rf_grid_model.fit(X_train, y_train)\n",
    "print('rf MLSE: {0:.3f}'.format( -1*rf_grid_model.best_score_))\n",
    "print('rf optimal hyperparameter: ',  rf_grid_model.best_params_)"
   ]
  },
  {
   "cell_type": "code",
   "execution_count": 50,
   "metadata": {},
   "outputs": [
    {
     "name": "stdout",
     "output_type": "stream",
     "text": [
      "r2:  0.7527376647850436\n"
     ]
    }
   ],
   "source": [
    "# rf_model = RandomForestRegressor(max_depth=10,\n",
    "#                                  min_samples_leaf=3,\n",
    "#                                  min_samples_split=2,\n",
    "#                                  n_estimators=1000\n",
    "#                                  )\n",
    "rf_model = RandomForestRegressor(n_estimators=500)\n",
    "rf_model.fit(X_train_l, y_train)\n",
    "rf_pred = rf_model.predict(X_val_l)\n",
    "print('r2: ', r2_score(np.expm1(y_val), np.expm1(rf_pred)))\n"
   ]
  },
  {
   "cell_type": "markdown",
   "metadata": {},
   "source": [
    "## LGBM 하이퍼 파리미터 튜닝"
   ]
  },
  {
   "cell_type": "code",
   "execution_count": 34,
   "metadata": {},
   "outputs": [
    {
     "name": "stdout",
     "output_type": "stream",
     "text": [
      "lgbm MSLE: 0.130\n"
     ]
    }
   ],
   "source": [
    "lgbm = LGBMRegressor(n_estimators=500, objective='regression')\n",
    "pipe = make_pipeline(MinMaxScaler(), rf)\n",
    "scores =  cross_validate(pipe, X_train, y_train, cv=5, scoring='neg_mean_squared_error', return_train_score=True)\n",
    "print('lgbm MSLE: {0:.3f}'.format(np.mean(-scores['test_score'])))"
   ]
  },
  {
   "cell_type": "code",
   "execution_count": 36,
   "metadata": {},
   "outputs": [
    {
     "name": "stdout",
     "output_type": "stream",
     "text": [
      "Fitting 5 folds for each of 48 candidates, totalling 240 fits\n",
      "lgbm MLSE: 0.128\n",
      "lgbm optimal hyperparameter:  {'lgbm__learning_rate': 0.01, 'lgbm__max_depth': 5, 'lgbm__n_estimators': 1000, 'lgbm__reg_lambda': 0.1, 'lgbm__subsample': 0.5}\n"
     ]
    }
   ],
   "source": [
    "lgbm_pipeline = Pipeline([('scaler', MinMaxScaler()), ('lgbm', LGBMRegressor(objective='regression'))])\n",
    "lgbm_params = {'lgbm__learning_rate':[0.001, 0.01, 0.1],\n",
    "               'lgbm__max_depth': [5, 10],\n",
    "               'lgbm__reg_lambda':[0.1, 1],\n",
    "               'lgbm__subsample': [0.5, 1],\n",
    "               'lgbm__n_estimators': [500, 1000]}\n",
    "lgbm_grid_model = GridSearchCV(lgbm_pipeline, param_grid=lgbm_params, scoring='neg_mean_squared_error',\n",
    "                               cv=5, n_jobs=5, verbose=True)\n",
    "lgbm_grid_model.fit(X_train, y_train)\n",
    "print('lgbm MLSE: {0:.3f}'.format( -1*lgbm_grid_model.best_score_))\n",
    "print('lgbm optimal hyperparameter: ',  lgbm_grid_model.best_params_)"
   ]
  },
  {
   "cell_type": "code",
   "execution_count": 55,
   "metadata": {},
   "outputs": [],
   "source": [
    "scaler = MinMaxScaler()\n",
    "X_train_s = scaler.fit_transform(X_train)\n",
    "X_val_s = scaler.transform(X_val)\n",
    "X_test_s = scaler.transform(X_test)"
   ]
  },
  {
   "cell_type": "code",
   "execution_count": 52,
   "metadata": {},
   "outputs": [
    {
     "name": "stdout",
     "output_type": "stream",
     "text": [
      "r2:  0.8116026295147978\n"
     ]
    }
   ],
   "source": [
    "lgbm_model = LGBMRegressor(learning_rate=0.01,\n",
    "                           max_depth=5,\n",
    "                           n_estimators=1000,\n",
    "                           reg_lambda=0.1,\n",
    "                           subsample=0.5)\n",
    "lgbm_model.fit(X_train_l, y_train)\n",
    "lgbm_pred = lgbm_model.predict(X_test_l)\n",
    "print('r2: ', r2_score(np.expm1(y_test), np.expm1(lgbm_pred)))"
   ]
  },
  {
   "cell_type": "code",
   "execution_count": 56,
   "metadata": {},
   "outputs": [
    {
     "name": "stdout",
     "output_type": "stream",
     "text": [
      "r2:  0.7104007002859771\n"
     ]
    }
   ],
   "source": [
    "lgbm_model = LGBMRegressor(learning_rate=0.01,\n",
    "                           max_depth=5,\n",
    "                           n_estimators=1000,\n",
    "                           reg_lambda=0.1,\n",
    "                           subsample=0.5)\n",
    "lgbm_model.fit(X_train_s, y_train)\n",
    "lgbm_pred = lgbm_model.predict(X_test_s)\n",
    "print('r2: ', r2_score(y_test, lgbm_pred))"
   ]
  },
  {
   "cell_type": "code",
   "execution_count": 54,
   "metadata": {},
   "outputs": [
    {
     "data": {
      "text/plain": [
       "10390    65.00\n",
       "10391   107.00\n",
       "10392    53.00\n",
       "10393    93.00\n",
       "10394   141.00\n",
       "         ...  \n",
       "10877    22.00\n",
       "10878    33.00\n",
       "10879    54.00\n",
       "10880    38.00\n",
       "10881    55.00\n",
       "Name: REAL_ORD_QTY, Length: 492, dtype: float64"
      ]
     },
     "execution_count": 54,
     "metadata": {},
     "output_type": "execute_result"
    }
   ],
   "source": [
    "np.expm1(y_test)"
   ]
  },
  {
   "cell_type": "code",
   "execution_count": 53,
   "metadata": {},
   "outputs": [
    {
     "data": {
      "text/plain": [
       "array([ 67.94624182,  83.78408402,  53.66634771,  88.04666286,\n",
       "       142.37942615,  57.59107303, 215.76810311,  45.70412525,\n",
       "        19.74276955,  55.24287478,  50.06886747,  44.50556261,\n",
       "        29.00507928,  19.93317744,  21.33423595,  54.41761643,\n",
       "        27.80175604,  65.69524557,  60.52195717,  77.33879708,\n",
       "        51.90590106,  88.00074452, 138.17062275,  55.20317419,\n",
       "       225.0456031 ,  47.14349914,  20.21498434,  57.78452858,\n",
       "        46.22578497,  41.92058034,  28.22253514,  19.4126323 ,\n",
       "        19.06346239,  54.89211525,  30.26882479,  65.68198106,\n",
       "        57.30768965,  70.4099635 ,  48.16993418,  86.36605666,\n",
       "       153.6102349 ,  56.50635157, 226.15954355,  48.59365859,\n",
       "        18.99195188,  54.73030668,  40.30425064,  34.82476629,\n",
       "        30.67800652,  20.80387985,  18.04779317,  56.74800696,\n",
       "        30.97413027,  66.22080403,  50.73901079,  52.05635652,\n",
       "        45.7709004 ,  67.1798825 , 120.01060434,  58.73598541,\n",
       "       225.31246379,  45.07643533,  19.17661901,  43.96247839,\n",
       "        40.31503285,  31.13244169,  29.20726455,  19.60770786,\n",
       "        18.20706454,  42.02717724,  27.66648668,  38.45324827,\n",
       "        60.65112209,  56.70894163,  48.53427366,  85.01843552,\n",
       "       137.3605372 ,  33.80512485, 217.2849667 ,  60.41266758,\n",
       "        24.13589945,  42.21450368,  39.36490078,  36.1462497 ,\n",
       "        29.20551337,  23.01395811,  20.00266892,  73.87175196,\n",
       "        28.14937584,  42.95376182,  58.18655229,  67.07939649,\n",
       "        47.06797937,  77.45755701, 139.13133698,  34.09473087,\n",
       "       208.35107236,  58.62632596,  22.46257202,  37.66452158,\n",
       "        36.92606771,  35.61911636,  28.62636463,  23.21946727,\n",
       "        44.0550359 ,  68.15757656,  28.01316591,  48.86979543,\n",
       "        56.97889627,  48.73673203,  39.15659962,  83.07700865,\n",
       "       119.01750931,  41.77435282, 187.94180989,  64.77261971,\n",
       "        25.71258643,  36.48824438,  40.78540763,  36.99809085,\n",
       "        28.21839608,  22.28866392,  41.92091787,  67.13884108,\n",
       "        30.78268033,  57.16942154,  57.30616296,  56.78121693,\n",
       "        37.79939133,  77.53223071, 136.70996326,  40.37356028,\n",
       "       187.55499331,  69.30137132,  26.06104466,  35.50585243,\n",
       "        42.00426455,  29.69658016,  28.14478874,  24.41455176,\n",
       "        54.23004391,  68.60781674,  33.45457007,  53.00339743,\n",
       "        60.33574047,  51.65067492,  39.05390184,  82.01074231,\n",
       "       141.22912441,  42.28148061, 199.00248176,  67.74505992,\n",
       "        26.42985199,  38.02789389,  47.821624  ,  45.04854176,\n",
       "        31.1403695 ,  24.19219098,  63.73617694,  75.86460157,\n",
       "        34.87741776,  49.54364512,  46.23742114,  46.48355846,\n",
       "        35.12260703,  79.6410586 , 122.36352786,  44.89806824,\n",
       "       195.93344009,  51.07402797,  28.01983313,  42.31082191,\n",
       "        47.81304783,  52.58195403,  30.89991661,  25.53865524,\n",
       "        58.7986308 ,  53.96419553,  34.81981455,  51.95252359,\n",
       "        70.60176936,  71.45114338,  37.34063171,  85.75683144,\n",
       "       156.63990646,  43.2442391 , 235.77043722,  80.17640366,\n",
       "        29.61308604,  47.43615225,  52.4880297 ,  58.83075824,\n",
       "        30.71981495,  23.65326296,  54.50469865,  65.4777911 ,\n",
       "        35.6349184 ,  55.28969887,  62.40161963,  63.60206707,\n",
       "        38.42796371,  79.73434775, 116.94699558,  40.8901652 ,\n",
       "       191.84117611,  68.79721758,  29.74871865,  38.32622082,\n",
       "        53.57976768,  64.31367002,  31.01473968,  25.50222457,\n",
       "        46.6184456 ,  50.12176844,  34.76792374,  52.16678889,\n",
       "        68.87078958,  86.71344449,  37.61020746,  82.83970295,\n",
       "       130.11404313,  33.6470984 , 198.54916701,  71.92544477,\n",
       "        28.69349297,  40.50103289,  57.88346604,  73.74551398,\n",
       "        32.4256567 ,  26.96179323,  36.68259862,  46.17783698,\n",
       "        35.94241743,  53.13175559,  65.21715662,  80.36843776,\n",
       "        39.04603015,  83.41235915, 133.36065616,  38.16398033,\n",
       "       226.87180331,  69.32935695,  33.65893898,  38.71506279,\n",
       "        56.98046591,  63.43142857,  35.74174534,  27.78370708,\n",
       "        30.68571268,  51.80166368,  35.12886401,  56.17222348,\n",
       "        66.39749246,  86.09211985,  29.3084724 ,   7.13253013,\n",
       "        83.21819306, 124.47299057,  51.84297091, 197.33277722,\n",
       "        61.95854439,  31.51148777,  10.92688984,  38.24804273,\n",
       "        54.39649717,  53.43604497,  32.0925998 ,  27.19281807,\n",
       "        28.42066986,  44.92842688,  27.993507  ,  47.95461758,\n",
       "        51.75656718,  79.61540662,  30.45114803,  10.27028786,\n",
       "        82.78995004, 119.25615275,  47.59311993, 190.67689539,\n",
       "        56.81292469,  31.2187564 ,   5.51341375,  33.25530236,\n",
       "        52.34098787,  60.33413577,  32.83732034,  24.83175516,\n",
       "        20.49024931,  46.37947884,  29.13911941,  41.54767015,\n",
       "        53.03579664,  82.10256286,  27.83635441,  10.09385809,\n",
       "        85.05910702, 129.19100262,  46.75985267, 192.57283826,\n",
       "        54.44441356,  29.5529523 ,  40.07075763,  31.26203902,\n",
       "        54.4982605 ,  55.53375264,  28.47112919,  25.27318197,\n",
       "        18.29268678,  51.86730855,  30.76922542,  44.37365597,\n",
       "        57.02197527,  86.26494863,  28.7558445 ,  54.76193521,\n",
       "        87.7629781 , 136.28251285,  53.68658739, 189.41887724,\n",
       "        57.59861184,  30.88096291,  55.52872462,  37.80537245,\n",
       "        53.17641618,  41.52644197,  32.24865094,  26.34006375,\n",
       "        23.55460602,  49.42142433,  31.78409911,  47.20878077,\n",
       "        77.19640099,  86.49912097,  30.25469674,  67.83507692,\n",
       "        85.72705911, 125.80336419,  48.55589792, 188.38643802,\n",
       "        53.19062405,  29.80163788, 112.61389944,  35.3540022 ,\n",
       "        56.86264919,  41.62749478,  31.67462542,  28.98451314,\n",
       "        22.15244935,  56.72903264,  31.64376022,  55.85904233,\n",
       "        74.10384483,  69.87600304,  27.50484912,  91.3220937 ,\n",
       "        83.87032229, 121.44484314,  45.34658934, 192.57283826,\n",
       "        44.71633281,  27.30641753,  50.67387652,  33.69587607,\n",
       "        50.80482498,  46.89963514,  28.0952356 ,  23.1934178 ,\n",
       "        24.44038198,  55.81398523,  29.8075369 ,  53.53738185,\n",
       "        73.86633944,  69.80216275,  30.91797283,  49.85220082,\n",
       "        82.80758934, 112.38866284,  47.07857592, 171.75127809,\n",
       "        38.64402131,  30.69981611,  50.03135292,  35.46065858,\n",
       "        45.16525672,  36.93507434,  24.86850174,  23.25191323,\n",
       "        23.34125941,  55.00531464,  28.80127599,  47.83885077,\n",
       "        74.42454238,  76.22619142,  31.85802238,  59.69500984,\n",
       "        85.92450145, 114.03289193,  47.49019147, 170.79233606,\n",
       "        44.70158842,  30.97303668,  50.65108231,  38.12990436,\n",
       "        46.17480905,  40.72235449,  24.02727204,  25.27023119,\n",
       "        25.97277409,  54.95153227,  29.79883544,  44.6912857 ,\n",
       "        77.76010546,  68.62271334,  34.23574548,  57.88982841,\n",
       "        74.96754467, 116.25633235,  50.18953204, 166.62525016,\n",
       "        49.44923093,  32.69506485,  54.16434339,  38.30004678,\n",
       "        43.27290756,  40.91389605,  24.57715488,  24.05117997,\n",
       "        32.48753348,  56.4821392 ,  27.49238329,  49.07665513,\n",
       "        77.94089746,  48.77059977,  37.65637685,  59.81727972,\n",
       "        71.98017283, 115.98941215,  46.93547038, 165.5046728 ,\n",
       "        48.52269097,  34.55618319,  54.28166149,  37.0954516 ,\n",
       "        47.8020613 ,  36.38469625,  21.53497475,  21.90184373,\n",
       "        25.73026116,  57.9842134 ,  22.3102726 ,  43.03294011,\n",
       "        63.01171087,  39.78018445,  37.79397005,  56.91028658,\n",
       "        64.89665382,  90.37674811,  34.27718387, 138.61587604,\n",
       "        42.35255765,  27.31879881,  48.46506214,  24.94201364,\n",
       "        49.40202382,  27.64290075,  20.46711031,  24.49612002,\n",
       "        23.21489206,  57.64174995,  21.91487253,  42.68690742,\n",
       "        56.00157291,  42.72408359,  33.38780321,  56.14826038,\n",
       "        62.83391121,  89.82809862,  33.17921134, 129.62139522,\n",
       "        44.83022114,  26.37362   ,  46.55051869,  20.61690397,\n",
       "        47.33483776,  27.09625404,  17.90693963,  23.49611986,\n",
       "        24.61110342,  51.28866354,  22.12586541,  38.98618964])"
      ]
     },
     "execution_count": 53,
     "metadata": {},
     "output_type": "execute_result"
    }
   ],
   "source": [
    "np.expm1(lgbm_pred)"
   ]
  },
  {
   "cell_type": "markdown",
   "metadata": {},
   "source": [
    "## BEST MODEL"
   ]
  },
  {
   "cell_type": "code",
   "execution_count": null,
   "metadata": {},
   "outputs": [],
   "source": []
  },
  {
   "cell_type": "code",
   "execution_count": 505,
   "metadata": {},
   "outputs": [
    {
     "name": "stdout",
     "output_type": "stream",
     "text": [
      "[0]\tvalidation_0-rmse:3.53033\tvalidation_1-rmse:3.52349\n",
      "[30]\tvalidation_0-rmse:2.62870\tvalidation_1-rmse:2.61559\n",
      "[60]\tvalidation_0-rmse:1.96589\tvalidation_1-rmse:1.95284\n",
      "[90]\tvalidation_0-rmse:1.48114\tvalidation_1-rmse:1.46937\n",
      "[120]\tvalidation_0-rmse:1.13025\tvalidation_1-rmse:1.12107\n",
      "[150]\tvalidation_0-rmse:0.88020\tvalidation_1-rmse:0.87360\n",
      "[180]\tvalidation_0-rmse:0.70626\tvalidation_1-rmse:0.70152\n",
      "[210]\tvalidation_0-rmse:0.58948\tvalidation_1-rmse:0.58700\n",
      "[240]\tvalidation_0-rmse:0.51396\tvalidation_1-rmse:0.51376\n",
      "[270]\tvalidation_0-rmse:0.46685\tvalidation_1-rmse:0.46860\n",
      "[300]\tvalidation_0-rmse:0.43858\tvalidation_1-rmse:0.44244\n",
      "[330]\tvalidation_0-rmse:0.42191\tvalidation_1-rmse:0.42742\n",
      "[360]\tvalidation_0-rmse:0.41206\tvalidation_1-rmse:0.41876\n",
      "[390]\tvalidation_0-rmse:0.40615\tvalidation_1-rmse:0.41383\n",
      "[420]\tvalidation_0-rmse:0.40265\tvalidation_1-rmse:0.41115\n",
      "[450]\tvalidation_0-rmse:0.40049\tvalidation_1-rmse:0.40955\n",
      "[480]\tvalidation_0-rmse:0.39908\tvalidation_1-rmse:0.40862\n",
      "[510]\tvalidation_0-rmse:0.39804\tvalidation_1-rmse:0.40801\n",
      "[540]\tvalidation_0-rmse:0.39731\tvalidation_1-rmse:0.40782\n",
      "[570]\tvalidation_0-rmse:0.39667\tvalidation_1-rmse:0.40768\n",
      "[600]\tvalidation_0-rmse:0.39618\tvalidation_1-rmse:0.40765\n",
      "[621]\tvalidation_0-rmse:0.39592\tvalidation_1-rmse:0.40769\n"
     ]
    },
    {
     "data": {
      "text/plain": [
       "XGBRegressor(base_score=0.5, booster='gbtree', callbacks=None,\n",
       "             colsample_bylevel=1, colsample_bynode=1, colsample_bytree=0.7,\n",
       "             early_stopping_rounds=None, enable_categorical=False, eta=0.01,\n",
       "             eval_metric=None, gamma=0, gpu_id=-1, grow_policy='depthwise',\n",
       "             importance_type=None, interaction_constraints='',\n",
       "             learning_rate=0.00999999978, max_bin=256, max_cat_to_onehot=4,\n",
       "             max_delta_step=0, max_depth=5, max_leaves=0, min_child_weight=1000,\n",
       "             missing=nan, monotone_constraints='()', n_estimators=1000,\n",
       "             n_jobs=0, num_parallel_tree=1, predictor='auto', random_state=0,\n",
       "             reg_alpha=0, ...)"
      ]
     },
     "execution_count": 505,
     "metadata": {},
     "output_type": "execute_result"
    }
   ],
   "source": [
    "xgb_model = XGBRegressor(max_depth=5, \n",
    "                         n_estimators=1000, \n",
    "                         min_child_weight=1000,  \n",
    "                         colsample_bytree=0.7, \n",
    "                         subsample=0.7, \n",
    "                         eta=0.01, \n",
    "                         seed=0)\n",
    "xgb_model.fit(X_train_l, \n",
    "              y_train, \n",
    "              eval_metric=\"rmse\", \n",
    "              eval_set=[(X_train_l, y_train), (X_val_l, y_val)], \n",
    "              verbose=30, \n",
    "              early_stopping_rounds=20)"
   ]
  },
  {
   "cell_type": "code",
   "execution_count": 261,
   "metadata": {},
   "outputs": [
    {
     "data": {
      "text/plain": [
       "['xgb_model.pkl']"
      ]
     },
     "execution_count": 261,
     "metadata": {},
     "output_type": "execute_result"
    }
   ],
   "source": [
    "import joblib\n",
    "\n",
    "joblib.dump(xgb_model, 'xgb_model.pkl')"
   ]
  },
  {
   "cell_type": "code",
   "execution_count": 514,
   "metadata": {},
   "outputs": [
    {
     "data": {
      "image/png": "[encoded data removed]",
      "text/plain": [
       "<Figure size 1080x1080 with 1 Axes>"
      ]
     },
     "metadata": {},
     "output_type": "display_data"
    }
   ],
   "source": [
    "plt.rcParams[\"figure.figsize\"] = (15, 15)\n",
    "plot_importance(xgb_model)\n",
    "plt.show()"
   ]
  },
  {
   "cell_type": "code",
   "execution_count": 507,
   "metadata": {},
   "outputs": [],
   "source": [
    "xgb_train_pred = xgb_model.predict(X_train_l)\n",
    "xgb_val_pred = xgb_model.predict(X_val_l)\n",
    "xgb_test_pred = xgb_model.predict(X_test_l)"
   ]
  },
  {
   "cell_type": "code",
   "execution_count": 508,
   "metadata": {},
   "outputs": [],
   "source": [
    "xgb_test_pred = np.expm1(xgb_test_pred)\n",
    "y_test = np.expm1(y_test)"
   ]
  },
  {
   "cell_type": "code",
   "execution_count": 509,
   "metadata": {},
   "outputs": [
    {
     "name": "stdout",
     "output_type": "stream",
     "text": [
      "r2: 0.7227666267368705\n",
      "Train rmse: 0.3961672448035988\n",
      "Validation rmse: 0.4076341965828235\n"
     ]
    }
   ],
   "source": [
    "from sklearn.metrics import r2_score\n",
    "\n",
    "print('r2:', r2_score(y_test, xgb_test_pred))\n",
    "print('Train rmse:', np.sqrt(mean_squared_error(y_train, xgb_train_pred)))\n",
    "print('Validation rmse:', np.sqrt(mean_squared_error(y_val, xgb_val_pred)))"
   ]
  },
  {
   "cell_type": "code",
   "execution_count": 221,
   "metadata": {},
   "outputs": [],
   "source": [
    "# 자재코드와 자재명을 딕셔너리 형태로 만들기\n",
    "GOODS_DIC = {1712010310 : '두메산나물비빔밥재료', 14375:\t'옛날잡채(500g)', 3273:'채소계란찜(340g)', 13957:'셀프두부조림(600g)', 1901012353:'수제계란말이(350g)',\n",
    "             13529:'메밀소바(2인분)', 1803010879:'고소한도토리묵무침(360g)', 2012014895:'한돈 제육볶음(700g)', 2204016772:'소고기유니짜장소스(1인분, 200g)', \n",
    "             1823:'숙주나물(300g)', 4092:'건표고버섯볶음', 14985:'양장피', 1808011751:'꼬막무침 (260g)', 1903012675:'순살코다리강정(180g)', \n",
    "             2010014667:'우삼겹숙주볶음(250g)', 1806011271:'열무비빔밥재료믹스(2인분)', 2103015231:'[심방골주부X더반찬] 시골 돼지짜글이(600g)', \n",
    "             2010014707:'고구마 품은 라자냐(450g)', 1805011121:'고사리나물볶음(150g)', 1909013359:'가정집 오징어불고기/셀프(380g)'\n",
    "             }"
   ]
  },
  {
   "cell_type": "code",
   "execution_count": 405,
   "metadata": {},
   "outputs": [],
   "source": [
    "def to_csv(predict, x_test, y_test):\n",
    "    \n",
    "    x_test.reset_index(drop=True, inplace=True)\n",
    "    predict = pd.DataFrame(predict)\n",
    "    predict['H_YMD'] = x_test['H_YMD']\n",
    "    predict['GOODS_NO'] = x_test['GOODS_NO']\n",
    "    \n",
    "    y_test = pd.DataFrame(y_test)\n",
    "    y_test.reset_index(drop=True, inplace=True)\n",
    "    y_test['H_YMD'] = x_test['H_YMD']\n",
    "    y_test['GOODS_NO'] = x_test['GOODS_NO']\n",
    "    \n",
    "    for n in GOODS_DIC.keys():\n",
    "        predict['GOODS_NO'].loc[predict['GOODS_NO'] == n ] = GOODS_DIC[n]\n",
    "        y_test['GOODS_NO'].loc[y_test['GOODS_NO'] == n ] = GOODS_DIC[n]\n",
    "\n",
    "    \n",
    "    predict.columns = ['REAL_ORD_QTY',  'H_YMD', 'GOODS_NM']\n",
    "    y_test.columns = ['REAL_ORD_QTY',  'H_YMD', 'GOODS_NM']\n",
    "\n",
    "    predict = predict.groupby(['H_YMD', 'GOODS_NM'])\n",
    "    predict = predict.sum()\n",
    "\n",
    "    y_test = y_test.groupby(['H_YMD','GOODS_NM'])\n",
    "    y_test = y_test.sum()\n",
    "\n",
    "    return predict, y_test"
   ]
  },
  {
   "cell_type": "code",
   "execution_count": 406,
   "metadata": {},
   "outputs": [],
   "source": [
    "xgb_result, y_result = to_csv(xgb_test_pred, X_test, y_test)\n",
    "\n",
    "y_result.to_csv('C:\\\\Users\\\\user\\\\Desktop\\\\y_result.csv', encoding='utf-8-sig')\n",
    "xgb_result.to_csv('C:\\\\Users\\\\user\\\\Desktop\\\\xgb_result.csv', encoding='utf-8-sig')\n"
   ]
  },
  {
   "cell_type": "code",
   "execution_count": 407,
   "metadata": {},
   "outputs": [
    {
     "data": {
      "text/html": [
       "<div>\n",
       "<style scoped>\n",
       "    .dataframe tbody tr th:only-of-type {\n",
       "        vertical-align: middle;\n",
       "    }\n",
       "\n",
       "    .dataframe tbody tr th {\n",
       "        vertical-align: top;\n",
       "    }\n",
       "\n",
       "    .dataframe thead th {\n",
       "        text-align: right;\n",
       "    }\n",
       "</style>\n",
       "<table border=\"1\" class=\"dataframe\">\n",
       "  <thead>\n",
       "    <tr style=\"text-align: right;\">\n",
       "      <th></th>\n",
       "      <th></th>\n",
       "      <th>REAL_ORD_QTY</th>\n",
       "    </tr>\n",
       "    <tr>\n",
       "      <th>H_YMD</th>\n",
       "      <th>GOODS_NM</th>\n",
       "      <th></th>\n",
       "    </tr>\n",
       "  </thead>\n",
       "  <tbody>\n",
       "    <tr>\n",
       "      <th rowspan=\"5\" valign=\"top\">2022-05-02</th>\n",
       "      <th>[심방골주부X더반찬] 시골 돼지짜글이(600g)</th>\n",
       "      <td>35.00</td>\n",
       "    </tr>\n",
       "    <tr>\n",
       "      <th>가정집 오징어불고기/셀프(380g)</th>\n",
       "      <td>35.00</td>\n",
       "    </tr>\n",
       "    <tr>\n",
       "      <th>건표고버섯볶음</th>\n",
       "      <td>53.00</td>\n",
       "    </tr>\n",
       "    <tr>\n",
       "      <th>고구마 품은 라자냐(450g)</th>\n",
       "      <td>9.00</td>\n",
       "    </tr>\n",
       "    <tr>\n",
       "      <th>고사리나물볶음(150g)</th>\n",
       "      <td>25.00</td>\n",
       "    </tr>\n",
       "    <tr>\n",
       "      <th>...</th>\n",
       "      <th>...</th>\n",
       "      <td>...</td>\n",
       "    </tr>\n",
       "    <tr>\n",
       "      <th rowspan=\"5\" valign=\"top\">2022-05-31</th>\n",
       "      <th>열무비빔밥재료믹스(2인분)</th>\n",
       "      <td>53.00</td>\n",
       "    </tr>\n",
       "    <tr>\n",
       "      <th>옛날잡채(500g)</th>\n",
       "      <td>108.00</td>\n",
       "    </tr>\n",
       "    <tr>\n",
       "      <th>우삼겹숙주볶음(250g)</th>\n",
       "      <td>22.00</td>\n",
       "    </tr>\n",
       "    <tr>\n",
       "      <th>채소계란찜(340g)</th>\n",
       "      <td>83.00</td>\n",
       "    </tr>\n",
       "    <tr>\n",
       "      <th>한돈 제육볶음(700g)</th>\n",
       "      <td>54.00</td>\n",
       "    </tr>\n",
       "  </tbody>\n",
       "</table>\n",
       "<p>492 rows × 1 columns</p>\n",
       "</div>"
      ],
      "text/plain": [
       "                                       REAL_ORD_QTY\n",
       "H_YMD      GOODS_NM                                \n",
       "2022-05-02 [심방골주부X더반찬] 시골 돼지짜글이(600g)         35.00\n",
       "           가정집 오징어불고기/셀프(380g)                35.00\n",
       "           건표고버섯볶음                            53.00\n",
       "           고구마 품은 라자냐(450g)                    9.00\n",
       "           고사리나물볶음(150g)                      25.00\n",
       "...                                             ...\n",
       "2022-05-31 열무비빔밥재료믹스(2인분)                     53.00\n",
       "           옛날잡채(500g)                        108.00\n",
       "           우삼겹숙주볶음(250g)                      22.00\n",
       "           채소계란찜(340g)                        83.00\n",
       "           한돈 제육볶음(700g)                      54.00\n",
       "\n",
       "[492 rows x 1 columns]"
      ]
     },
     "execution_count": 407,
     "metadata": {},
     "output_type": "execute_result"
    }
   ],
   "source": [
    "y_result"
   ]
  },
  {
   "cell_type": "code",
   "execution_count": 409,
   "metadata": {},
   "outputs": [
    {
     "data": {
      "text/html": [
       "<div>\n",
       "<style scoped>\n",
       "    .dataframe tbody tr th:only-of-type {\n",
       "        vertical-align: middle;\n",
       "    }\n",
       "\n",
       "    .dataframe tbody tr th {\n",
       "        vertical-align: top;\n",
       "    }\n",
       "\n",
       "    .dataframe thead th {\n",
       "        text-align: right;\n",
       "    }\n",
       "</style>\n",
       "<table border=\"1\" class=\"dataframe\">\n",
       "  <thead>\n",
       "    <tr style=\"text-align: right;\">\n",
       "      <th></th>\n",
       "      <th>H_YMD</th>\n",
       "      <th>GOODS_NM</th>\n",
       "      <th>REAL_ORD_QTY</th>\n",
       "    </tr>\n",
       "  </thead>\n",
       "  <tbody>\n",
       "    <tr>\n",
       "      <th>0</th>\n",
       "      <td>2022-05-02</td>\n",
       "      <td>[심방골주부X더반찬] 시골 돼지짜글이(600g)</td>\n",
       "      <td>24.95</td>\n",
       "    </tr>\n",
       "    <tr>\n",
       "      <th>1</th>\n",
       "      <td>2022-05-02</td>\n",
       "      <td>가정집 오징어불고기/셀프(380g)</td>\n",
       "      <td>29.94</td>\n",
       "    </tr>\n",
       "    <tr>\n",
       "      <th>2</th>\n",
       "      <td>2022-05-02</td>\n",
       "      <td>건표고버섯볶음</td>\n",
       "      <td>51.25</td>\n",
       "    </tr>\n",
       "    <tr>\n",
       "      <th>3</th>\n",
       "      <td>2022-05-02</td>\n",
       "      <td>고구마 품은 라자냐(450g)</td>\n",
       "      <td>20.80</td>\n",
       "    </tr>\n",
       "    <tr>\n",
       "      <th>4</th>\n",
       "      <td>2022-05-02</td>\n",
       "      <td>고사리나물볶음(150g)</td>\n",
       "      <td>20.72</td>\n",
       "    </tr>\n",
       "    <tr>\n",
       "      <th>...</th>\n",
       "      <td>...</td>\n",
       "      <td>...</td>\n",
       "      <td>...</td>\n",
       "    </tr>\n",
       "    <tr>\n",
       "      <th>487</th>\n",
       "      <td>2022-05-31</td>\n",
       "      <td>열무비빔밥재료믹스(2인분)</td>\n",
       "      <td>42.18</td>\n",
       "    </tr>\n",
       "    <tr>\n",
       "      <th>488</th>\n",
       "      <td>2022-05-31</td>\n",
       "      <td>옛날잡채(500g)</td>\n",
       "      <td>98.23</td>\n",
       "    </tr>\n",
       "    <tr>\n",
       "      <th>489</th>\n",
       "      <td>2022-05-31</td>\n",
       "      <td>우삼겹숙주볶음(250g)</td>\n",
       "      <td>20.41</td>\n",
       "    </tr>\n",
       "    <tr>\n",
       "      <th>490</th>\n",
       "      <td>2022-05-31</td>\n",
       "      <td>채소계란찜(340g)</td>\n",
       "      <td>50.92</td>\n",
       "    </tr>\n",
       "    <tr>\n",
       "      <th>491</th>\n",
       "      <td>2022-05-31</td>\n",
       "      <td>한돈 제육볶음(700g)</td>\n",
       "      <td>47.68</td>\n",
       "    </tr>\n",
       "  </tbody>\n",
       "</table>\n",
       "<p>492 rows × 3 columns</p>\n",
       "</div>"
      ],
      "text/plain": [
       "         H_YMD                    GOODS_NM  REAL_ORD_QTY\n",
       "0   2022-05-02  [심방골주부X더반찬] 시골 돼지짜글이(600g)         24.95\n",
       "1   2022-05-02         가정집 오징어불고기/셀프(380g)         29.94\n",
       "2   2022-05-02                     건표고버섯볶음         51.25\n",
       "3   2022-05-02            고구마 품은 라자냐(450g)         20.80\n",
       "4   2022-05-02               고사리나물볶음(150g)         20.72\n",
       "..         ...                         ...           ...\n",
       "487 2022-05-31              열무비빔밥재료믹스(2인분)         42.18\n",
       "488 2022-05-31                  옛날잡채(500g)         98.23\n",
       "489 2022-05-31               우삼겹숙주볶음(250g)         20.41\n",
       "490 2022-05-31                 채소계란찜(340g)         50.92\n",
       "491 2022-05-31               한돈 제육볶음(700g)         47.68\n",
       "\n",
       "[492 rows x 3 columns]"
      ]
     },
     "execution_count": 409,
     "metadata": {},
     "output_type": "execute_result"
    }
   ],
   "source": [
    "xgb_result.reset_index()"
   ]
  }
 ],
 "metadata": {
  "kernelspec": {
   "display_name": "Python 3.9.12 ('base')",
   "language": "python",
   "name": "python3"
  },
  "language_info": {
   "codemirror_mode": {
    "name": "ipython",
    "version": 3
   },
   "file_extension": ".py",
   "mimetype": "text/x-python",
   "name": "python",
   "nbconvert_exporter": "python",
   "pygments_lexer": "ipython3",
   "version": "3.9.12"
  },
  "orig_nbformat": 4,
  "vscode": {
   "interpreter": {
    "hash": "a077222d77dfe082b8f1dd562ad70e458ac2ab76993a0b248ab0476e32e9e8dd"
   }
  }
 },
 "nbformat": 4,
 "nbformat_minor": 2
}

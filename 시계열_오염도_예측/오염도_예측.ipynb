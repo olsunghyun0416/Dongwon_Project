{
 "cells": [
  {
   "cell_type": "markdown",
   "metadata": {},
   "source": [
    "## 1. 라이브러리 임포트"
   ]
  },
  {
   "cell_type": "code",
   "execution_count": 1,
   "metadata": {},
   "outputs": [],
   "source": [
    "import pandas as pd\n",
    "import numpy as np\n",
    "from pandas import read_csv\n",
    "from datetime import datetime\n",
    "from pandas import DataFrame\n",
    "from sklearn import preprocessing\n",
    "from sklearn.metrics import mean_squared_error\n",
    "from matplotlib import pyplot"
   ]
  },
  {
   "cell_type": "markdown",
   "metadata": {},
   "source": [
    "## 2. 데이터 정제"
   ]
  },
  {
   "cell_type": "code",
   "execution_count": 57,
   "metadata": {},
   "outputs": [],
   "source": [
    "# year, month, day, hour을 datetime으로 변환한 값을 index로 사용\n",
    "def parse(x):\n",
    "    #print(x)\n",
    "    return datetime.strptime(x, '%Y %m %d %H')\n",
    "\n",
    "dataset = read_csv('raw.csv',  parse_dates = [['year', 'month', 'day', 'hour']],\n",
    "                 index_col=0, date_parser=parse)"
   ]
  },
  {
   "cell_type": "code",
   "execution_count": 58,
   "metadata": {},
   "outputs": [
    {
     "data": {
      "text/html": [
       "<div>\n",
       "<style scoped>\n",
       "    .dataframe tbody tr th:only-of-type {\n",
       "        vertical-align: middle;\n",
       "    }\n",
       "\n",
       "    .dataframe tbody tr th {\n",
       "        vertical-align: top;\n",
       "    }\n",
       "\n",
       "    .dataframe thead th {\n",
       "        text-align: right;\n",
       "    }\n",
       "</style>\n",
       "<table border=\"1\" class=\"dataframe\">\n",
       "  <thead>\n",
       "    <tr style=\"text-align: right;\">\n",
       "      <th></th>\n",
       "      <th>No</th>\n",
       "      <th>pm2.5</th>\n",
       "      <th>DEWP</th>\n",
       "      <th>TEMP</th>\n",
       "      <th>PRES</th>\n",
       "      <th>cbwd</th>\n",
       "      <th>Iws</th>\n",
       "      <th>Is</th>\n",
       "      <th>Ir</th>\n",
       "    </tr>\n",
       "    <tr>\n",
       "      <th>year_month_day_hour</th>\n",
       "      <th></th>\n",
       "      <th></th>\n",
       "      <th></th>\n",
       "      <th></th>\n",
       "      <th></th>\n",
       "      <th></th>\n",
       "      <th></th>\n",
       "      <th></th>\n",
       "      <th></th>\n",
       "    </tr>\n",
       "  </thead>\n",
       "  <tbody>\n",
       "    <tr>\n",
       "      <th>2010-01-01 00:00:00</th>\n",
       "      <td>1</td>\n",
       "      <td>NaN</td>\n",
       "      <td>-21</td>\n",
       "      <td>-11.0</td>\n",
       "      <td>1021.0</td>\n",
       "      <td>NW</td>\n",
       "      <td>1.79</td>\n",
       "      <td>0</td>\n",
       "      <td>0</td>\n",
       "    </tr>\n",
       "    <tr>\n",
       "      <th>2010-01-01 01:00:00</th>\n",
       "      <td>2</td>\n",
       "      <td>NaN</td>\n",
       "      <td>-21</td>\n",
       "      <td>-12.0</td>\n",
       "      <td>1020.0</td>\n",
       "      <td>NW</td>\n",
       "      <td>4.92</td>\n",
       "      <td>0</td>\n",
       "      <td>0</td>\n",
       "    </tr>\n",
       "    <tr>\n",
       "      <th>2010-01-01 02:00:00</th>\n",
       "      <td>3</td>\n",
       "      <td>NaN</td>\n",
       "      <td>-21</td>\n",
       "      <td>-11.0</td>\n",
       "      <td>1019.0</td>\n",
       "      <td>NW</td>\n",
       "      <td>6.71</td>\n",
       "      <td>0</td>\n",
       "      <td>0</td>\n",
       "    </tr>\n",
       "    <tr>\n",
       "      <th>2010-01-01 03:00:00</th>\n",
       "      <td>4</td>\n",
       "      <td>NaN</td>\n",
       "      <td>-21</td>\n",
       "      <td>-14.0</td>\n",
       "      <td>1019.0</td>\n",
       "      <td>NW</td>\n",
       "      <td>9.84</td>\n",
       "      <td>0</td>\n",
       "      <td>0</td>\n",
       "    </tr>\n",
       "    <tr>\n",
       "      <th>2010-01-01 04:00:00</th>\n",
       "      <td>5</td>\n",
       "      <td>NaN</td>\n",
       "      <td>-20</td>\n",
       "      <td>-12.0</td>\n",
       "      <td>1018.0</td>\n",
       "      <td>NW</td>\n",
       "      <td>12.97</td>\n",
       "      <td>0</td>\n",
       "      <td>0</td>\n",
       "    </tr>\n",
       "  </tbody>\n",
       "</table>\n",
       "</div>"
      ],
      "text/plain": [
       "                     No  pm2.5  DEWP  TEMP    PRES cbwd    Iws  Is  Ir\n",
       "year_month_day_hour                                                   \n",
       "2010-01-01 00:00:00   1    NaN   -21 -11.0  1021.0   NW   1.79   0   0\n",
       "2010-01-01 01:00:00   2    NaN   -21 -12.0  1020.0   NW   4.92   0   0\n",
       "2010-01-01 02:00:00   3    NaN   -21 -11.0  1019.0   NW   6.71   0   0\n",
       "2010-01-01 03:00:00   4    NaN   -21 -14.0  1019.0   NW   9.84   0   0\n",
       "2010-01-01 04:00:00   5    NaN   -20 -12.0  1018.0   NW  12.97   0   0"
      ]
     },
     "execution_count": 58,
     "metadata": {},
     "output_type": "execute_result"
    }
   ],
   "source": [
    "dataset.head()"
   ]
  },
  {
   "cell_type": "code",
   "execution_count": 7,
   "metadata": {},
   "outputs": [],
   "source": [
    "# No 변수 삭제\n",
    "dataset.drop('No', axis=1, inplace=True)"
   ]
  },
  {
   "cell_type": "code",
   "execution_count": 8,
   "metadata": {},
   "outputs": [
    {
     "data": {
      "text/html": [
       "<div>\n",
       "<style scoped>\n",
       "    .dataframe tbody tr th:only-of-type {\n",
       "        vertical-align: middle;\n",
       "    }\n",
       "\n",
       "    .dataframe tbody tr th {\n",
       "        vertical-align: top;\n",
       "    }\n",
       "\n",
       "    .dataframe thead th {\n",
       "        text-align: right;\n",
       "    }\n",
       "</style>\n",
       "<table border=\"1\" class=\"dataframe\">\n",
       "  <thead>\n",
       "    <tr style=\"text-align: right;\">\n",
       "      <th></th>\n",
       "      <th>pm2.5</th>\n",
       "      <th>DEWP</th>\n",
       "      <th>TEMP</th>\n",
       "      <th>PRES</th>\n",
       "      <th>cbwd</th>\n",
       "      <th>Iws</th>\n",
       "      <th>Is</th>\n",
       "      <th>Ir</th>\n",
       "    </tr>\n",
       "    <tr>\n",
       "      <th>year_month_day_hour</th>\n",
       "      <th></th>\n",
       "      <th></th>\n",
       "      <th></th>\n",
       "      <th></th>\n",
       "      <th></th>\n",
       "      <th></th>\n",
       "      <th></th>\n",
       "      <th></th>\n",
       "    </tr>\n",
       "  </thead>\n",
       "  <tbody>\n",
       "    <tr>\n",
       "      <th>2010-01-01 00:00:00</th>\n",
       "      <td>NaN</td>\n",
       "      <td>-21</td>\n",
       "      <td>-11.0</td>\n",
       "      <td>1021.0</td>\n",
       "      <td>NW</td>\n",
       "      <td>1.79</td>\n",
       "      <td>0</td>\n",
       "      <td>0</td>\n",
       "    </tr>\n",
       "    <tr>\n",
       "      <th>2010-01-01 01:00:00</th>\n",
       "      <td>NaN</td>\n",
       "      <td>-21</td>\n",
       "      <td>-12.0</td>\n",
       "      <td>1020.0</td>\n",
       "      <td>NW</td>\n",
       "      <td>4.92</td>\n",
       "      <td>0</td>\n",
       "      <td>0</td>\n",
       "    </tr>\n",
       "    <tr>\n",
       "      <th>2010-01-01 02:00:00</th>\n",
       "      <td>NaN</td>\n",
       "      <td>-21</td>\n",
       "      <td>-11.0</td>\n",
       "      <td>1019.0</td>\n",
       "      <td>NW</td>\n",
       "      <td>6.71</td>\n",
       "      <td>0</td>\n",
       "      <td>0</td>\n",
       "    </tr>\n",
       "    <tr>\n",
       "      <th>2010-01-01 03:00:00</th>\n",
       "      <td>NaN</td>\n",
       "      <td>-21</td>\n",
       "      <td>-14.0</td>\n",
       "      <td>1019.0</td>\n",
       "      <td>NW</td>\n",
       "      <td>9.84</td>\n",
       "      <td>0</td>\n",
       "      <td>0</td>\n",
       "    </tr>\n",
       "    <tr>\n",
       "      <th>2010-01-01 04:00:00</th>\n",
       "      <td>NaN</td>\n",
       "      <td>-20</td>\n",
       "      <td>-12.0</td>\n",
       "      <td>1018.0</td>\n",
       "      <td>NW</td>\n",
       "      <td>12.97</td>\n",
       "      <td>0</td>\n",
       "      <td>0</td>\n",
       "    </tr>\n",
       "  </tbody>\n",
       "</table>\n",
       "</div>"
      ],
      "text/plain": [
       "                     pm2.5  DEWP  TEMP    PRES cbwd    Iws  Is  Ir\n",
       "year_month_day_hour                                               \n",
       "2010-01-01 00:00:00    NaN   -21 -11.0  1021.0   NW   1.79   0   0\n",
       "2010-01-01 01:00:00    NaN   -21 -12.0  1020.0   NW   4.92   0   0\n",
       "2010-01-01 02:00:00    NaN   -21 -11.0  1019.0   NW   6.71   0   0\n",
       "2010-01-01 03:00:00    NaN   -21 -14.0  1019.0   NW   9.84   0   0\n",
       "2010-01-01 04:00:00    NaN   -20 -12.0  1018.0   NW  12.97   0   0"
      ]
     },
     "execution_count": 8,
     "metadata": {},
     "output_type": "execute_result"
    }
   ],
   "source": [
    "dataset.head()"
   ]
  },
  {
   "cell_type": "code",
   "execution_count": 10,
   "metadata": {},
   "outputs": [
    {
     "data": {
      "text/html": [
       "<div>\n",
       "<style scoped>\n",
       "    .dataframe tbody tr th:only-of-type {\n",
       "        vertical-align: middle;\n",
       "    }\n",
       "\n",
       "    .dataframe tbody tr th {\n",
       "        vertical-align: top;\n",
       "    }\n",
       "\n",
       "    .dataframe thead th {\n",
       "        text-align: right;\n",
       "    }\n",
       "</style>\n",
       "<table border=\"1\" class=\"dataframe\">\n",
       "  <thead>\n",
       "    <tr style=\"text-align: right;\">\n",
       "      <th></th>\n",
       "      <th>pollution</th>\n",
       "      <th>dew</th>\n",
       "      <th>temp</th>\n",
       "      <th>press</th>\n",
       "      <th>wnd_dir</th>\n",
       "      <th>wnd_spd</th>\n",
       "      <th>snow</th>\n",
       "      <th>rain</th>\n",
       "    </tr>\n",
       "    <tr>\n",
       "      <th>date</th>\n",
       "      <th></th>\n",
       "      <th></th>\n",
       "      <th></th>\n",
       "      <th></th>\n",
       "      <th></th>\n",
       "      <th></th>\n",
       "      <th></th>\n",
       "      <th></th>\n",
       "    </tr>\n",
       "  </thead>\n",
       "  <tbody>\n",
       "    <tr>\n",
       "      <th>2010-01-01 00:00:00</th>\n",
       "      <td>NaN</td>\n",
       "      <td>-21</td>\n",
       "      <td>-11.0</td>\n",
       "      <td>1021.0</td>\n",
       "      <td>NW</td>\n",
       "      <td>1.79</td>\n",
       "      <td>0</td>\n",
       "      <td>0</td>\n",
       "    </tr>\n",
       "    <tr>\n",
       "      <th>2010-01-01 01:00:00</th>\n",
       "      <td>NaN</td>\n",
       "      <td>-21</td>\n",
       "      <td>-12.0</td>\n",
       "      <td>1020.0</td>\n",
       "      <td>NW</td>\n",
       "      <td>4.92</td>\n",
       "      <td>0</td>\n",
       "      <td>0</td>\n",
       "    </tr>\n",
       "    <tr>\n",
       "      <th>2010-01-01 02:00:00</th>\n",
       "      <td>NaN</td>\n",
       "      <td>-21</td>\n",
       "      <td>-11.0</td>\n",
       "      <td>1019.0</td>\n",
       "      <td>NW</td>\n",
       "      <td>6.71</td>\n",
       "      <td>0</td>\n",
       "      <td>0</td>\n",
       "    </tr>\n",
       "    <tr>\n",
       "      <th>2010-01-01 03:00:00</th>\n",
       "      <td>NaN</td>\n",
       "      <td>-21</td>\n",
       "      <td>-14.0</td>\n",
       "      <td>1019.0</td>\n",
       "      <td>NW</td>\n",
       "      <td>9.84</td>\n",
       "      <td>0</td>\n",
       "      <td>0</td>\n",
       "    </tr>\n",
       "    <tr>\n",
       "      <th>2010-01-01 04:00:00</th>\n",
       "      <td>NaN</td>\n",
       "      <td>-20</td>\n",
       "      <td>-12.0</td>\n",
       "      <td>1018.0</td>\n",
       "      <td>NW</td>\n",
       "      <td>12.97</td>\n",
       "      <td>0</td>\n",
       "      <td>0</td>\n",
       "    </tr>\n",
       "  </tbody>\n",
       "</table>\n",
       "</div>"
      ],
      "text/plain": [
       "                     pollution  dew  temp   press wnd_dir  wnd_spd  snow  rain\n",
       "date                                                                          \n",
       "2010-01-01 00:00:00        NaN  -21 -11.0  1021.0      NW     1.79     0     0\n",
       "2010-01-01 01:00:00        NaN  -21 -12.0  1020.0      NW     4.92     0     0\n",
       "2010-01-01 02:00:00        NaN  -21 -11.0  1019.0      NW     6.71     0     0\n",
       "2010-01-01 03:00:00        NaN  -21 -14.0  1019.0      NW     9.84     0     0\n",
       "2010-01-01 04:00:00        NaN  -20 -12.0  1018.0      NW    12.97     0     0"
      ]
     },
     "execution_count": 10,
     "metadata": {},
     "output_type": "execute_result"
    }
   ],
   "source": [
    "# 변수, index 이름 재정의\n",
    "dataset.columns = ['pollution', 'dew', 'temp', 'press', 'wnd_dir', 'wnd_spd', 'snow', 'rain']\n",
    "dataset.index.name = 'date'\n",
    "\n",
    "dataset.head()"
   ]
  },
  {
   "cell_type": "code",
   "execution_count": 11,
   "metadata": {},
   "outputs": [
    {
     "data": {
      "text/plain": [
       "pollution    0\n",
       "dew          0\n",
       "temp         0\n",
       "press        0\n",
       "wnd_dir      0\n",
       "wnd_spd      0\n",
       "snow         0\n",
       "rain         0\n",
       "dtype: int64"
      ]
     },
     "execution_count": 11,
     "metadata": {},
     "output_type": "execute_result"
    }
   ],
   "source": [
    "# pollution 결측치 처리\n",
    "dataset['pollution'].fillna(0, inplace=True)\n",
    "\n",
    "dataset.isna().sum()"
   ]
  },
  {
   "cell_type": "code",
   "execution_count": 12,
   "metadata": {},
   "outputs": [],
   "source": [
    "# 첫 24시간 데이터 제외\n",
    "dataset = dataset[24:]"
   ]
  },
  {
   "cell_type": "code",
   "execution_count": 13,
   "metadata": {},
   "outputs": [],
   "source": [
    "# 데이터 저장\n",
    "dataset.to_csv('pollution.csv')"
   ]
  },
  {
   "cell_type": "markdown",
   "metadata": {},
   "source": [
    "## 3. 데이터 스케일링"
   ]
  },
  {
   "cell_type": "code",
   "execution_count": 16,
   "metadata": {},
   "outputs": [
    {
     "data": {
      "text/plain": [
       "array([[129.0, -16, -4.0, ..., 1.79, 0, 0],\n",
       "       [148.0, -15, -4.0, ..., 2.68, 0, 0],\n",
       "       [159.0, -11, -5.0, ..., 3.57, 0, 0],\n",
       "       ...,\n",
       "       [10.0, -22, -3.0, ..., 242.7, 0, 0],\n",
       "       [8.0, -22, -4.0, ..., 246.72, 0, 0],\n",
       "       [12.0, -21, -3.0, ..., 249.85, 0, 0]], dtype=object)"
      ]
     },
     "execution_count": 16,
     "metadata": {},
     "output_type": "execute_result"
    }
   ],
   "source": [
    "dataset = read_csv('pollution.csv', header=0, index_col=0)\n",
    "values = dataset.values\n",
    "\n",
    "values"
   ]
  },
  {
   "cell_type": "code",
   "execution_count": 18,
   "metadata": {},
   "outputs": [],
   "source": [
    "# 범주형 데이터 wind_dir을 숫자로 encoding\n",
    "encoder = preprocessing.LabelEncoder()\n",
    "values[:,4] = encoder.fit_transform(values[:,4]) #범주형 wind_dir 변수를 숫자로 인코딩 해 준다\n",
    "values = values.astype('float32')"
   ]
  },
  {
   "cell_type": "code",
   "execution_count": 19,
   "metadata": {},
   "outputs": [],
   "source": [
    "# minmaxscaler로 모든 값을 0~1 사이로 바꿈\n",
    "scaler = preprocessing.MinMaxScaler(feature_range=(0, 1))\n",
    "scaled = scaler.fit_transform(values)"
   ]
  },
  {
   "cell_type": "code",
   "execution_count": 22,
   "metadata": {},
   "outputs": [
    {
     "data": {
      "text/plain": [
       "array([[0.12977867, 0.35294122, 0.24590163, ..., 0.00229001, 0.        ,\n",
       "        0.        ],\n",
       "       [0.14889336, 0.36764708, 0.24590163, ..., 0.00381099, 0.        ,\n",
       "        0.        ],\n",
       "       [0.15995975, 0.4264706 , 0.22950819, ..., 0.00533197, 0.        ,\n",
       "        0.        ],\n",
       "       ...,\n",
       "       [0.01006036, 0.2647059 , 0.26229507, ..., 0.41399646, 0.        ,\n",
       "        0.        ],\n",
       "       [0.00804829, 0.2647059 , 0.24590163, ..., 0.4208665 , 0.        ,\n",
       "        0.        ],\n",
       "       [0.01207243, 0.2794118 , 0.26229507, ..., 0.42621556, 0.        ,\n",
       "        0.        ]], dtype=float32)"
      ]
     },
     "execution_count": 22,
     "metadata": {},
     "output_type": "execute_result"
    }
   ],
   "source": [
    "scaled"
   ]
  },
  {
   "cell_type": "code",
   "execution_count": 34,
   "metadata": {},
   "outputs": [],
   "source": [
    "# t-1 시점데이터와 t 시점데이터를 하나의 행으로 가지는 데이터프레임을 reframed 변수로 선언\n",
    "\n",
    "def series_to_supervised(data, n_in=1, n_out=1, dropnan=True):\n",
    "    n_vars = 1 if type(data) is list else data.shape[1]\n",
    "    df = DataFrame(data)\n",
    "    cols, names = list(), list()\n",
    "    print('hello')\n",
    "    print('a: ', cols)\n",
    "    # input sequence (t-n, ... t-1)\n",
    "    for i in range(n_in, 0, -1):\n",
    "        cols.append(df.shift(i))\n",
    "        names += [('var%d(t-%d)' % (j+1, i)) for j in range(n_vars)]\n",
    "    #print('b: ', cols)\n",
    "    # forecast sequence (t, t+1, ... t+n)\n",
    "    for i in range(0, n_out):\n",
    "        cols.append(df.shift(-i))\n",
    "        if i == 0:\n",
    "            names += [('var%d(t)' % (j+1)) for j in range(n_vars)]\n",
    "        else:\n",
    "            names += [('var%d(t+%d)' % (j+1, i)) for j in range(n_vars)]\n",
    "\n",
    "    print('hello')\n",
    "    print('c: ', cols)\n",
    "    # put it all together\n",
    "    agg = pd.concat(cols, axis=1)\n",
    "    agg.columns = names\n",
    "\n",
    "    # drop rows with NaN values\n",
    "    if dropnan:\n",
    "        agg.dropna(inplace=True)\n",
    "    return agg"
   ]
  },
  {
   "cell_type": "code",
   "execution_count": 35,
   "metadata": {},
   "outputs": [
    {
     "name": "stdout",
     "output_type": "stream",
     "text": [
      "hello\n",
      "a:  []\n",
      "hello\n",
      "c:  [              0         1         2         3         4         5         6  \\\n",
      "0           NaN       NaN       NaN       NaN       NaN       NaN       NaN   \n",
      "1      0.129779  0.352941  0.245902  0.527273  0.666667  0.002290  0.000000   \n",
      "2      0.148893  0.367647  0.245902  0.527273  0.666667  0.003811  0.000000   \n",
      "3      0.159960  0.426471  0.229508  0.545454  0.666667  0.005332  0.000000   \n",
      "4      0.182093  0.485294  0.229508  0.563637  0.666667  0.008391  0.037037   \n",
      "...         ...       ...       ...       ...       ...       ...       ...   \n",
      "43795  0.010060  0.264706  0.278689  0.763638  0.333333  0.385730  0.000000   \n",
      "43796  0.008048  0.250000  0.278689  0.781818  0.333333  0.395659  0.000000   \n",
      "43797  0.010060  0.264706  0.262295  0.781818  0.333333  0.405588  0.000000   \n",
      "43798  0.010060  0.264706  0.262295  0.781818  0.333333  0.413996  0.000000   \n",
      "43799  0.008048  0.264706  0.245902  0.781818  0.333333  0.420866  0.000000   \n",
      "\n",
      "         7  \n",
      "0      NaN  \n",
      "1      0.0  \n",
      "2      0.0  \n",
      "3      0.0  \n",
      "4      0.0  \n",
      "...    ...  \n",
      "43795  0.0  \n",
      "43796  0.0  \n",
      "43797  0.0  \n",
      "43798  0.0  \n",
      "43799  0.0  \n",
      "\n",
      "[43800 rows x 8 columns],               0         1         2         3         4         5         6  \\\n",
      "0      0.129779  0.352941  0.245902  0.527273  0.666667  0.002290  0.000000   \n",
      "1      0.148893  0.367647  0.245902  0.527273  0.666667  0.003811  0.000000   \n",
      "2      0.159960  0.426471  0.229508  0.545454  0.666667  0.005332  0.000000   \n",
      "3      0.182093  0.485294  0.229508  0.563637  0.666667  0.008391  0.037037   \n",
      "4      0.138833  0.485294  0.229508  0.563637  0.666667  0.009912  0.074074   \n",
      "...         ...       ...       ...       ...       ...       ...       ...   \n",
      "43795  0.008048  0.250000  0.278689  0.781818  0.333333  0.395659  0.000000   \n",
      "43796  0.010060  0.264706  0.262295  0.781818  0.333333  0.405588  0.000000   \n",
      "43797  0.010060  0.264706  0.262295  0.781818  0.333333  0.413996  0.000000   \n",
      "43798  0.008048  0.264706  0.245902  0.781818  0.333333  0.420866  0.000000   \n",
      "43799  0.012072  0.279412  0.262295  0.781818  0.333333  0.426216  0.000000   \n",
      "\n",
      "         7  \n",
      "0      0.0  \n",
      "1      0.0  \n",
      "2      0.0  \n",
      "3      0.0  \n",
      "4      0.0  \n",
      "...    ...  \n",
      "43795  0.0  \n",
      "43796  0.0  \n",
      "43797  0.0  \n",
      "43798  0.0  \n",
      "43799  0.0  \n",
      "\n",
      "[43800 rows x 8 columns]]\n"
     ]
    }
   ],
   "source": [
    "reframed = series_to_supervised(scaled, 1, 1) #t-1시점,t시점 데이터를 한 행으로 둔다  "
   ]
  },
  {
   "cell_type": "code",
   "execution_count": 36,
   "metadata": {},
   "outputs": [],
   "source": [
    "reframed.drop(reframed.columns[[9,10,11,12,13,14,15]], axis=1, inplace=True)"
   ]
  },
  {
   "cell_type": "markdown",
   "metadata": {},
   "source": [
    "## 4. 데이터 train/test split"
   ]
  },
  {
   "cell_type": "code",
   "execution_count": 52,
   "metadata": {},
   "outputs": [],
   "source": [
    "values = reframed.values\n",
    "n_train_hours = 365 * 24 #1년치 데이터만 가져온다\n",
    "train = values[:n_train_hours, :]\n",
    "test = values[n_train_hours:, :]\n",
    "# split into input and outputs\n",
    "train_X, train_y = train[:, :-1], train[:, -1]\n",
    "test_X, test_y = test[:, :-1], test[:, -1]\n",
    "# reshape input to be 3D [samples, timesteps, features]\n",
    "train_X = train_X.reshape((train_X.shape[0], 1, train_X.shape[1]))\n",
    "test_X = test_X.reshape((test_X.shape[0], 1, test_X.shape[1]))"
   ]
  },
  {
   "cell_type": "markdown",
   "metadata": {},
   "source": [
    "## 5. 모델 빌드"
   ]
  },
  {
   "cell_type": "code",
   "execution_count": 40,
   "metadata": {},
   "outputs": [],
   "source": [
    "from tensorflow.keras import Sequential\n",
    "from tensorflow.keras.layers import Dense, LSTM\n",
    "\n",
    "model = Sequential()\n",
    "model.add(LSTM(50, input_shape=(train_X.shape[1], train_X.shape[2])))\n",
    "model.add(Dense(1))\n",
    "model.compile(loss='mae', optimizer='adam')"
   ]
  },
  {
   "cell_type": "code",
   "execution_count": 53,
   "metadata": {},
   "outputs": [
    {
     "data": {
      "text/plain": [
       "(8760, 1, 8)"
      ]
     },
     "execution_count": 53,
     "metadata": {},
     "output_type": "execute_result"
    }
   ],
   "source": [
    "train_X.shape"
   ]
  },
  {
   "cell_type": "code",
   "execution_count": 54,
   "metadata": {},
   "outputs": [
    {
     "data": {
      "text/plain": [
       "(35039, 1, 8)"
      ]
     },
     "execution_count": 54,
     "metadata": {},
     "output_type": "execute_result"
    }
   ],
   "source": [
    "test_X.shape"
   ]
  },
  {
   "cell_type": "code",
   "execution_count": 41,
   "metadata": {},
   "outputs": [
    {
     "name": "stdout",
     "output_type": "stream",
     "text": [
      "Epoch 1/50\n",
      "122/122 - 4s - loss: 0.0602 - val_loss: 0.0507 - 4s/epoch - 35ms/step\n",
      "Epoch 2/50\n",
      "122/122 - 1s - loss: 0.0434 - val_loss: 0.0497 - 760ms/epoch - 6ms/step\n",
      "Epoch 3/50\n",
      "122/122 - 1s - loss: 0.0245 - val_loss: 0.0412 - 765ms/epoch - 6ms/step\n",
      "Epoch 4/50\n",
      "122/122 - 1s - loss: 0.0169 - val_loss: 0.0371 - 766ms/epoch - 6ms/step\n",
      "Epoch 5/50\n",
      "122/122 - 1s - loss: 0.0157 - val_loss: 0.0252 - 747ms/epoch - 6ms/step\n",
      "Epoch 6/50\n",
      "122/122 - 1s - loss: 0.0150 - val_loss: 0.0190 - 786ms/epoch - 6ms/step\n",
      "Epoch 7/50\n",
      "122/122 - 1s - loss: 0.0149 - val_loss: 0.0176 - 782ms/epoch - 6ms/step\n",
      "Epoch 8/50\n",
      "122/122 - 1s - loss: 0.0148 - val_loss: 0.0170 - 763ms/epoch - 6ms/step\n",
      "Epoch 9/50\n",
      "122/122 - 1s - loss: 0.0148 - val_loss: 0.0167 - 760ms/epoch - 6ms/step\n",
      "Epoch 10/50\n",
      "122/122 - 1s - loss: 0.0148 - val_loss: 0.0162 - 760ms/epoch - 6ms/step\n",
      "Epoch 11/50\n",
      "122/122 - 1s - loss: 0.0148 - val_loss: 0.0155 - 766ms/epoch - 6ms/step\n",
      "Epoch 12/50\n",
      "122/122 - 1s - loss: 0.0147 - val_loss: 0.0154 - 751ms/epoch - 6ms/step\n",
      "Epoch 13/50\n",
      "122/122 - 1s - loss: 0.0147 - val_loss: 0.0152 - 762ms/epoch - 6ms/step\n",
      "Epoch 14/50\n",
      "122/122 - 1s - loss: 0.0148 - val_loss: 0.0144 - 756ms/epoch - 6ms/step\n",
      "Epoch 15/50\n",
      "122/122 - 1s - loss: 0.0147 - val_loss: 0.0141 - 755ms/epoch - 6ms/step\n",
      "Epoch 16/50\n",
      "122/122 - 1s - loss: 0.0147 - val_loss: 0.0143 - 757ms/epoch - 6ms/step\n",
      "Epoch 17/50\n",
      "122/122 - 1s - loss: 0.0147 - val_loss: 0.0142 - 756ms/epoch - 6ms/step\n",
      "Epoch 18/50\n",
      "122/122 - 1s - loss: 0.0147 - val_loss: 0.0141 - 747ms/epoch - 6ms/step\n",
      "Epoch 19/50\n",
      "122/122 - 1s - loss: 0.0146 - val_loss: 0.0142 - 753ms/epoch - 6ms/step\n",
      "Epoch 20/50\n",
      "122/122 - 1s - loss: 0.0147 - val_loss: 0.0140 - 755ms/epoch - 6ms/step\n",
      "Epoch 21/50\n",
      "122/122 - 1s - loss: 0.0146 - val_loss: 0.0138 - 749ms/epoch - 6ms/step\n",
      "Epoch 22/50\n",
      "122/122 - 1s - loss: 0.0146 - val_loss: 0.0138 - 782ms/epoch - 6ms/step\n",
      "Epoch 23/50\n",
      "122/122 - 1s - loss: 0.0146 - val_loss: 0.0142 - 767ms/epoch - 6ms/step\n",
      "Epoch 24/50\n",
      "122/122 - 1s - loss: 0.0147 - val_loss: 0.0139 - 753ms/epoch - 6ms/step\n",
      "Epoch 25/50\n",
      "122/122 - 1s - loss: 0.0147 - val_loss: 0.0139 - 764ms/epoch - 6ms/step\n",
      "Epoch 26/50\n",
      "122/122 - 1s - loss: 0.0145 - val_loss: 0.0140 - 760ms/epoch - 6ms/step\n",
      "Epoch 27/50\n",
      "122/122 - 1s - loss: 0.0146 - val_loss: 0.0137 - 748ms/epoch - 6ms/step\n",
      "Epoch 28/50\n",
      "122/122 - 1s - loss: 0.0146 - val_loss: 0.0138 - 757ms/epoch - 6ms/step\n",
      "Epoch 29/50\n",
      "122/122 - 1s - loss: 0.0145 - val_loss: 0.0138 - 816ms/epoch - 7ms/step\n",
      "Epoch 30/50\n",
      "122/122 - 1s - loss: 0.0145 - val_loss: 0.0138 - 770ms/epoch - 6ms/step\n",
      "Epoch 31/50\n",
      "122/122 - 1s - loss: 0.0145 - val_loss: 0.0139 - 851ms/epoch - 7ms/step\n",
      "Epoch 32/50\n",
      "122/122 - 1s - loss: 0.0145 - val_loss: 0.0137 - 850ms/epoch - 7ms/step\n",
      "Epoch 33/50\n",
      "122/122 - 1s - loss: 0.0145 - val_loss: 0.0140 - 727ms/epoch - 6ms/step\n",
      "Epoch 34/50\n",
      "122/122 - 1s - loss: 0.0147 - val_loss: 0.0139 - 739ms/epoch - 6ms/step\n",
      "Epoch 35/50\n",
      "122/122 - 1s - loss: 0.0145 - val_loss: 0.0138 - 743ms/epoch - 6ms/step\n",
      "Epoch 36/50\n",
      "122/122 - 1s - loss: 0.0145 - val_loss: 0.0138 - 730ms/epoch - 6ms/step\n",
      "Epoch 37/50\n",
      "122/122 - 1s - loss: 0.0144 - val_loss: 0.0138 - 735ms/epoch - 6ms/step\n",
      "Epoch 38/50\n",
      "122/122 - 1s - loss: 0.0145 - val_loss: 0.0139 - 751ms/epoch - 6ms/step\n",
      "Epoch 39/50\n",
      "122/122 - 1s - loss: 0.0145 - val_loss: 0.0137 - 742ms/epoch - 6ms/step\n",
      "Epoch 40/50\n",
      "122/122 - 1s - loss: 0.0144 - val_loss: 0.0136 - 737ms/epoch - 6ms/step\n",
      "Epoch 41/50\n",
      "122/122 - 1s - loss: 0.0143 - val_loss: 0.0137 - 876ms/epoch - 7ms/step\n",
      "Epoch 42/50\n",
      "122/122 - 1s - loss: 0.0144 - val_loss: 0.0137 - 807ms/epoch - 7ms/step\n",
      "Epoch 43/50\n",
      "122/122 - 1s - loss: 0.0144 - val_loss: 0.0136 - 806ms/epoch - 7ms/step\n",
      "Epoch 44/50\n",
      "122/122 - 1s - loss: 0.0144 - val_loss: 0.0135 - 784ms/epoch - 6ms/step\n",
      "Epoch 45/50\n",
      "122/122 - 1s - loss: 0.0144 - val_loss: 0.0135 - 794ms/epoch - 7ms/step\n",
      "Epoch 46/50\n",
      "122/122 - 1s - loss: 0.0143 - val_loss: 0.0135 - 781ms/epoch - 6ms/step\n",
      "Epoch 47/50\n",
      "122/122 - 1s - loss: 0.0144 - val_loss: 0.0135 - 802ms/epoch - 7ms/step\n",
      "Epoch 48/50\n",
      "122/122 - 1s - loss: 0.0144 - val_loss: 0.0136 - 846ms/epoch - 7ms/step\n",
      "Epoch 49/50\n",
      "122/122 - 1s - loss: 0.0144 - val_loss: 0.0134 - 950ms/epoch - 8ms/step\n",
      "Epoch 50/50\n",
      "122/122 - 1s - loss: 0.0144 - val_loss: 0.0136 - 809ms/epoch - 7ms/step\n"
     ]
    }
   ],
   "source": [
    "# 모델 훈련\n",
    "history = model.fit(train_X, train_y, epochs=50, batch_size=72, \n",
    "        validation_data=(test_X, test_y), verbose=2, shuffle=False)"
   ]
  },
  {
   "cell_type": "code",
   "execution_count": 42,
   "metadata": {},
   "outputs": [
    {
     "data": {
      "image/png": "[encoded data removed]",
      "text/plain": [
       "<Figure size 432x288 with 1 Axes>"
      ]
     },
     "metadata": {
      "needs_background": "light"
     },
     "output_type": "display_data"
    }
   ],
   "source": [
    "\n",
    "pyplot.plot(history.history['loss'], label='train')\n",
    "pyplot.plot(history.history['val_loss'], label='test')\n",
    "pyplot.legend()\n",
    "pyplot.show()"
   ]
  },
  {
   "cell_type": "markdown",
   "metadata": {},
   "source": [
    "## 6. 예측 및 평가"
   ]
  },
  {
   "cell_type": "code",
   "execution_count": 55,
   "metadata": {},
   "outputs": [
    {
     "name": "stdout",
     "output_type": "stream",
     "text": [
      "1095/1095 [==============================] - 1s 1ms/step\n"
     ]
    }
   ],
   "source": [
    "from keras.layers import concatenate\n",
    "from numpy import sqrt \n",
    "\n",
    "# make a prediction\n",
    "yhat = model.predict(test_X)\n",
    "test_X = test_X.reshape((test_X.shape[0], test_X.shape[2]))\n",
    "\n",
    "# invert scaling for forecast\n",
    "inv_yhat = concatenate((yhat, test_X[:, 1:]), axis=1)\n",
    "inv_yhat = scaler.inverse_transform(inv_yhat)\n",
    "inv_yhat = inv_yhat[:,0]\n",
    "\n",
    "# invert scaling for actual\n",
    "test_y = test_y.reshape((len(test_y), 1))\n",
    "inv_y = concatenate((test_y, test_X[:, 1:]), axis=1)\n",
    "inv_y = scaler.inverse_transform(inv_y)\n",
    "inv_y = inv_y[:,0]\n",
    "\n",
    "# calculate RMSE\n",
    "rmse = sqrt(mean_squared_error(inv_y, inv_yhat))"
   ]
  },
  {
   "cell_type": "code",
   "execution_count": 56,
   "metadata": {},
   "outputs": [
    {
     "name": "stdout",
     "output_type": "stream",
     "text": [
      "26.494965532377854\n"
     ]
    }
   ],
   "source": [
    "print(rmse)"
   ]
  }
 ],
 "metadata": {
  "kernelspec": {
   "display_name": "Python 3.9.12 ('base')",
   "language": "python",
   "name": "python3"
  },
  "language_info": {
   "codemirror_mode": {
    "name": "ipython",
    "version": 3
   },
   "file_extension": ".py",
   "mimetype": "text/x-python",
   "name": "python",
   "nbconvert_exporter": "python",
   "pygments_lexer": "ipython3",
   "version": "3.9.12"
  },
  "orig_nbformat": 4,
  "vscode": {
   "interpreter": {
    "hash": "a077222d77dfe082b8f1dd562ad70e458ac2ab76993a0b248ab0476e32e9e8dd"
   }
  }
 },
 "nbformat": 4,
 "nbformat_minor": 2
}

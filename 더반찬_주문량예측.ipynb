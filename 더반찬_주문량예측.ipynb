{
 "cells": [
  {
   "cell_type": "markdown",
   "metadata": {},
   "source": [
    "# 과제#1. 더반찬 주문량 예측"
   ]
  },
  {
   "cell_type": "markdown",
   "metadata": {},
   "source": [
    "* 비지니스 상황\n",
    "    * 반찬 판매량 예측을 통한 페기비용 및 기회상실 비용 절감\n",
    "    * 오더 시점의 주문량이 타겟이 아니라 희망배송일의 주문량이 타겟이 됨\n",
    "    * 예측 범위: 월~토(주간 예측모델): 매주 일요일 혹은 월요일 새벽에 가동된다는 가정\n",
    "    * 모델 평가기간 2022-06-01 ~ 2022-06-30\n",
    "    * 평가지표 R2, RMSE, 예측 정확도(abs(예측-실제)/실제)\n",
    "\n",
    "&nbsp;\n",
    "* 주의사항: Regression 사용시 미래에도 독립변수로 활용할 수 있는 인자를 사용해야함\n",
    "           (예를 들어, 할인 판매 금액데이터는 미래 일주일 치를 받을 수 없음)"
   ]
  },
  {
   "cell_type": "markdown",
   "metadata": {},
   "source": [
    "|\t필드이름\t|\t유형\t|\t설명\t|\n",
    "|\t----\t|\t----\t|\t----\t|\n",
    "|\tORD_NO \t|\tSTRING\t|\torder 시리얼 넘버\t|   \n",
    "|\tH_YMD \t|\tSTRING\t|\t희망배송일\t|  \n",
    "|\tO_YMD \t|\tSTRING\t|\t오더 시간\t|  \n",
    "|\tPKG_GOODS_NO \t|\tSTRING\t|\t단품인지 세트인지 구성상품\t|   \n",
    "|\tPKG_GOODS_NM \t|\tSTRING\t|\t단품인지 세트인지 구성상품\t|   \n",
    "|\tGOODS_NO \t|\tSTRING\t|\t자재코드\t|   \n",
    "|\tGOODS_NM \t|\tSTRING\t|\t자재명\t|   \n",
    "|\tSTD_GSGR_NO_LEV1_NM \t|\t STRING\t|\t자재 카테고리\t|   \n",
    "|\tORD_QTY \t|\t INTEGER\t|\t오더건수\t|   \n",
    "|\tCANCEL_QTY \t|\t INTEGER\t|\t취소 오더건수\t|   \n",
    "|\tRET_QTY \t|\t INTEGER\t|\t환불 오더건수\t|   \n",
    "|\tREAL_ORD_QTY \t|\t INTEGER\t|\t최종 오더건수\t|   \n",
    "|\tRECVR_ROAD_BASE_ADDR \t|\t STRING\t|\t주소\t|   \n",
    "|\tSALE_PRICE \t|\t INTEGER\t|\t판매가격\t|   \n",
    "|\tDISCOUNT_AMT\t|\t INTEGER\t|\t할인액  |   \n",
    "|\tFINAL-PRICE \t|\t INTEGER\t|\t최종 판매 가격\t|   "
   ]
  },
  {
   "cell_type": "markdown",
   "metadata": {},
   "source": [
    "## 가설"
   ]
  },
  {
   "cell_type": "markdown",
   "metadata": {},
   "source": [
    "\n",
    "1. 가격이 낮을수록 판매량이 많을 것이다.\n",
    "2. 할인액이 높을수록 판매량이 많을 것이다.\n",
    "3. 계절별로 판매되는 제품의 수가 다를 것이다.\n",
    "4. 고단백 식품이 여름에 더 많이 팔릴 것이다.\n",
    "5. 명절에 명절음식 뿐 아니라 다른 음식도 판매량이 늘 것이다.\n",
    "6. 네고왕 홍보 이후(2022.05.26)에 판매량이 늘었을 것이다.(06.08 까지)\n",
    "7. 카테고리별로 판매량이 다를 것이다.\n",
    "8. 배달 주소건수 비율이 높은 지역은 취소나 환불이 적을 것이다.\n",
    "9. 주문하는 시간대는 주로 퇴근시간대나 그 이후일 것이다.\n",
    "10. 재철재료가 들어간 식품은 그 계절에 잘 팔릴 것이다.\n",
    "11. 2022.06.02 대장균 검출 기사가 난 이후 판매량이 줄었을 것이다.\n",
    "12. 2021.06.15 새벽배송 시간이 연장되고 주문량이 늘었을 것이다.\n",
    "13. 주 고객층은 자녀를 둔 부모나 혼자사는 사람일 것이다.\n",
    "14. 유통기한이 긴 제품이 여름에 더 잘팔릴 것이다.\n",
    "15. 평점이 높은 제품이 취소나 환불이 적을 것이다."
   ]
  },
  {
   "cell_type": "code",
   "execution_count": 48,
   "metadata": {},
   "outputs": [],
   "source": [
    "# 1. 가격이 낮을수록 판매량이 많을 것이다.\n",
    "# 2. 할인액이 높을수록 판매량이 많을 것이다.\n",
    "# 3. 계절별로 판매되는 제품의 수가 다를 것이다.\n",
    "# 4. 고단백 식품이 여름에 더 많이 팔릴 것이다.\n",
    "# 5. 명절에 명절음식 뿐 아니라 다른 음식도 판매량이 늘 것이다.\n",
    "# 6. 네고왕 홍보 이후(2022.05.26)에 판매량이 늘었을 것이다.(06.08 까지)\n",
    "# 7. 카테고리별로 판매량이 다를 것이다.\n",
    "# 8. 배달 주소건수 비율이 높은 지역은 취소나 환불이 적을 것이다.\n",
    "# 9. 주문하는 시간대는 주로 퇴근시간대나 그 이후일 것이다.\n",
    "# 10. 재철재료가 들어간 식품은 그 계절에 잘 팔릴 것이다.\n",
    "# 11. 2022.06.02 대장균 검출 기사가 난 이후 판매량이 줄었을 것이다.\n",
    "# 12. 2021.06.15 새벽배송 시간이 연장되고 주문량이 늘었을 것이다.\n",
    "# 13. 주 고객층은 자녀를 둔 부모나 혼자사는 사람일 것이다."
   ]
  },
  {
   "cell_type": "markdown",
   "metadata": {},
   "source": [
    "## 0. 환경준비"
   ]
  },
  {
   "cell_type": "markdown",
   "metadata": {},
   "source": [
    "### 0.1 Import"
   ]
  },
  {
   "cell_type": "code",
   "execution_count": 1,
   "metadata": {},
   "outputs": [],
   "source": [
    "# 기본 라이브러리 가져오기\n",
    "import pandas as pd\n",
    "import numpy as np\n",
    "\n",
    "import matplotlib.pyplot as plt\n",
    "import seaborn as sns\n",
    "\n",
    "from sklearn.model_selection import train_test_split  "
   ]
  },
  {
   "cell_type": "markdown",
   "metadata": {},
   "source": [
    "### 0.2 Data Loading"
   ]
  },
  {
   "cell_type": "code",
   "execution_count": 2,
   "metadata": {},
   "outputs": [
    {
     "data": {
      "text/html": [
       "<div>\n",
       "<style scoped>\n",
       "    .dataframe tbody tr th:only-of-type {\n",
       "        vertical-align: middle;\n",
       "    }\n",
       "\n",
       "    .dataframe tbody tr th {\n",
       "        vertical-align: top;\n",
       "    }\n",
       "\n",
       "    .dataframe thead th {\n",
       "        text-align: right;\n",
       "    }\n",
       "</style>\n",
       "<table border=\"1\" class=\"dataframe\">\n",
       "  <thead>\n",
       "    <tr style=\"text-align: right;\">\n",
       "      <th></th>\n",
       "      <th>Unnamed: 0</th>\n",
       "      <th>ORD_NO</th>\n",
       "      <th>H_YMD</th>\n",
       "      <th>O_YMD</th>\n",
       "      <th>PKG_GOODS_NO</th>\n",
       "      <th>PKG_GOODS_NM</th>\n",
       "      <th>GOODS_NO</th>\n",
       "      <th>GOODS_NM</th>\n",
       "      <th>STD_GSGR_NO_LEV1_NM</th>\n",
       "      <th>ORD_QTY</th>\n",
       "      <th>CANCEL_QTY</th>\n",
       "      <th>RET_QTY</th>\n",
       "      <th>REAL_ORD_QTY</th>\n",
       "      <th>RECVR_ROAD_BASE_ADDR</th>\n",
       "      <th>SALE_PRICE</th>\n",
       "      <th>DISCOUNT_AMT</th>\n",
       "      <th>FINAL_PRICE</th>\n",
       "    </tr>\n",
       "  </thead>\n",
       "  <tbody>\n",
       "    <tr>\n",
       "      <th>0</th>\n",
       "      <td>0</td>\n",
       "      <td>202201095519105</td>\n",
       "      <td>2022-01-11 00:00:00</td>\n",
       "      <td>2022-01-09 12:26:10</td>\n",
       "      <td>단품</td>\n",
       "      <td>단품</td>\n",
       "      <td>1901012353</td>\n",
       "      <td>수제계란말이(350g)</td>\n",
       "      <td>반찬</td>\n",
       "      <td>1</td>\n",
       "      <td>0</td>\n",
       "      <td>0</td>\n",
       "      <td>1</td>\n",
       "      <td>충청북도 증평군 증평읍 송산로 11 (지평더웰아파트)</td>\n",
       "      <td>6900</td>\n",
       "      <td>569.0</td>\n",
       "      <td>6331</td>\n",
       "    </tr>\n",
       "    <tr>\n",
       "      <th>1</th>\n",
       "      <td>1</td>\n",
       "      <td>202201105522898</td>\n",
       "      <td>2022-01-11 00:00:00</td>\n",
       "      <td>2022-01-10 10:35:49</td>\n",
       "      <td>단품</td>\n",
       "      <td>단품</td>\n",
       "      <td>1901012353</td>\n",
       "      <td>수제계란말이(350g)</td>\n",
       "      <td>반찬</td>\n",
       "      <td>1</td>\n",
       "      <td>0</td>\n",
       "      <td>0</td>\n",
       "      <td>1</td>\n",
       "      <td>서울특별시 강남구 논현로85길 52 (역삼동)</td>\n",
       "      <td>6900</td>\n",
       "      <td>177.0</td>\n",
       "      <td>6723</td>\n",
       "    </tr>\n",
       "    <tr>\n",
       "      <th>2</th>\n",
       "      <td>2</td>\n",
       "      <td>202201115527172</td>\n",
       "      <td>2022-01-12 00:00:00</td>\n",
       "      <td>2022-01-11 11:38:32</td>\n",
       "      <td>단품</td>\n",
       "      <td>단품</td>\n",
       "      <td>1901012353</td>\n",
       "      <td>수제계란말이(350g)</td>\n",
       "      <td>반찬</td>\n",
       "      <td>1</td>\n",
       "      <td>0</td>\n",
       "      <td>0</td>\n",
       "      <td>1</td>\n",
       "      <td>서울특별시 송파구 올림픽로4길 42 (잠실동, 우성아파트)</td>\n",
       "      <td>6900</td>\n",
       "      <td>221.0</td>\n",
       "      <td>6679</td>\n",
       "    </tr>\n",
       "    <tr>\n",
       "      <th>3</th>\n",
       "      <td>3</td>\n",
       "      <td>202201105523467</td>\n",
       "      <td>2022-01-12 00:00:00</td>\n",
       "      <td>2022-01-10 13:21:51</td>\n",
       "      <td>단품</td>\n",
       "      <td>단품</td>\n",
       "      <td>1901012353</td>\n",
       "      <td>수제계란말이(350g)</td>\n",
       "      <td>반찬</td>\n",
       "      <td>1</td>\n",
       "      <td>0</td>\n",
       "      <td>0</td>\n",
       "      <td>1</td>\n",
       "      <td>강원도 속초시 도리원길 11-14 (노학동)</td>\n",
       "      <td>6900</td>\n",
       "      <td>128.0</td>\n",
       "      <td>6772</td>\n",
       "    </tr>\n",
       "    <tr>\n",
       "      <th>4</th>\n",
       "      <td>4</td>\n",
       "      <td>202201105522519</td>\n",
       "      <td>2022-01-11 00:00:00</td>\n",
       "      <td>2022-01-10 08:16:21</td>\n",
       "      <td>단품</td>\n",
       "      <td>단품</td>\n",
       "      <td>1901012353</td>\n",
       "      <td>수제계란말이(350g)</td>\n",
       "      <td>반찬</td>\n",
       "      <td>1</td>\n",
       "      <td>0</td>\n",
       "      <td>0</td>\n",
       "      <td>1</td>\n",
       "      <td>경기도 용인시 수지구 동천로 64 (동천동, 동천마을동문굿모닝힐5차아파트)</td>\n",
       "      <td>6900</td>\n",
       "      <td>157.0</td>\n",
       "      <td>6743</td>\n",
       "    </tr>\n",
       "  </tbody>\n",
       "</table>\n",
       "</div>"
      ],
      "text/plain": [
       "   Unnamed: 0           ORD_NO                H_YMD                O_YMD  \\\n",
       "0           0  202201095519105  2022-01-11 00:00:00  2022-01-09 12:26:10   \n",
       "1           1  202201105522898  2022-01-11 00:00:00  2022-01-10 10:35:49   \n",
       "2           2  202201115527172  2022-01-12 00:00:00  2022-01-11 11:38:32   \n",
       "3           3  202201105523467  2022-01-12 00:00:00  2022-01-10 13:21:51   \n",
       "4           4  202201105522519  2022-01-11 00:00:00  2022-01-10 08:16:21   \n",
       "\n",
       "  PKG_GOODS_NO PKG_GOODS_NM    GOODS_NO      GOODS_NM STD_GSGR_NO_LEV1_NM  \\\n",
       "0           단품           단품  1901012353  수제계란말이(350g)                  반찬   \n",
       "1           단품           단품  1901012353  수제계란말이(350g)                  반찬   \n",
       "2           단품           단품  1901012353  수제계란말이(350g)                  반찬   \n",
       "3           단품           단품  1901012353  수제계란말이(350g)                  반찬   \n",
       "4           단품           단품  1901012353  수제계란말이(350g)                  반찬   \n",
       "\n",
       "   ORD_QTY  CANCEL_QTY  RET_QTY  REAL_ORD_QTY  \\\n",
       "0        1           0        0             1   \n",
       "1        1           0        0             1   \n",
       "2        1           0        0             1   \n",
       "3        1           0        0             1   \n",
       "4        1           0        0             1   \n",
       "\n",
       "                        RECVR_ROAD_BASE_ADDR  SALE_PRICE  DISCOUNT_AMT  \\\n",
       "0              충청북도 증평군 증평읍 송산로 11 (지평더웰아파트)        6900         569.0   \n",
       "1                  서울특별시 강남구 논현로85길 52 (역삼동)        6900         177.0   \n",
       "2           서울특별시 송파구 올림픽로4길 42 (잠실동, 우성아파트)        6900         221.0   \n",
       "3                   강원도 속초시 도리원길 11-14 (노학동)        6900         128.0   \n",
       "4  경기도 용인시 수지구 동천로 64 (동천동, 동천마을동문굿모닝힐5차아파트)        6900         157.0   \n",
       "\n",
       "   FINAL_PRICE  \n",
       "0         6331  \n",
       "1         6723  \n",
       "2         6679  \n",
       "3         6772  \n",
       "4         6743  "
      ]
     },
     "execution_count": 2,
     "metadata": {},
     "output_type": "execute_result"
    }
   ],
   "source": [
    "# raw data 로딩 \n",
    "raw_data = pd.read_csv(r'C:\\Users\\SUNGHYUN\\Desktop\\intern.csv')\n",
    "raw_data.head()"
   ]
  },
  {
   "cell_type": "code",
   "execution_count": 106,
   "metadata": {},
   "outputs": [
    {
     "data": {
      "text/html": [
       "<div>\n",
       "<style scoped>\n",
       "    .dataframe tbody tr th:only-of-type {\n",
       "        vertical-align: middle;\n",
       "    }\n",
       "\n",
       "    .dataframe tbody tr th {\n",
       "        vertical-align: top;\n",
       "    }\n",
       "\n",
       "    .dataframe thead th {\n",
       "        text-align: right;\n",
       "    }\n",
       "</style>\n",
       "<table border=\"1\" class=\"dataframe\">\n",
       "  <thead>\n",
       "    <tr style=\"text-align: right;\">\n",
       "      <th></th>\n",
       "      <th>Unnamed: 0</th>\n",
       "      <th>ORD_NO</th>\n",
       "      <th>H_YMD</th>\n",
       "      <th>O_YMD</th>\n",
       "      <th>PKG_GOODS_NO</th>\n",
       "      <th>PKG_GOODS_NM</th>\n",
       "      <th>GOODS_NO</th>\n",
       "      <th>GOODS_NM</th>\n",
       "      <th>STD_GSGR_NO_LEV1_NM</th>\n",
       "      <th>ORD_QTY</th>\n",
       "      <th>CANCEL_QTY</th>\n",
       "      <th>RET_QTY</th>\n",
       "      <th>REAL_ORD_QTY</th>\n",
       "      <th>RECVR_ROAD_BASE_ADDR</th>\n",
       "      <th>SALE_PRICE</th>\n",
       "      <th>DISCOUNT_AMT</th>\n",
       "      <th>FINAL_PRICE</th>\n",
       "    </tr>\n",
       "  </thead>\n",
       "  <tbody>\n",
       "    <tr>\n",
       "      <th>0</th>\n",
       "      <td>0</td>\n",
       "      <td>202201095519105</td>\n",
       "      <td>2022-01-11 00:00:00</td>\n",
       "      <td>2022-01-09 12:26:10</td>\n",
       "      <td>단품</td>\n",
       "      <td>단품</td>\n",
       "      <td>1901012353</td>\n",
       "      <td>수제계란말이(350g)</td>\n",
       "      <td>반찬</td>\n",
       "      <td>1</td>\n",
       "      <td>0</td>\n",
       "      <td>0</td>\n",
       "      <td>1</td>\n",
       "      <td>충청북도 증평군 증평읍 송산로 11 (지평더웰아파트)</td>\n",
       "      <td>6900</td>\n",
       "      <td>569.0</td>\n",
       "      <td>6331</td>\n",
       "    </tr>\n",
       "    <tr>\n",
       "      <th>1</th>\n",
       "      <td>1</td>\n",
       "      <td>202201105522898</td>\n",
       "      <td>2022-01-11 00:00:00</td>\n",
       "      <td>2022-01-10 10:35:49</td>\n",
       "      <td>단품</td>\n",
       "      <td>단품</td>\n",
       "      <td>1901012353</td>\n",
       "      <td>수제계란말이(350g)</td>\n",
       "      <td>반찬</td>\n",
       "      <td>1</td>\n",
       "      <td>0</td>\n",
       "      <td>0</td>\n",
       "      <td>1</td>\n",
       "      <td>서울특별시 강남구 논현로85길 52 (역삼동)</td>\n",
       "      <td>6900</td>\n",
       "      <td>177.0</td>\n",
       "      <td>6723</td>\n",
       "    </tr>\n",
       "    <tr>\n",
       "      <th>2</th>\n",
       "      <td>2</td>\n",
       "      <td>202201115527172</td>\n",
       "      <td>2022-01-12 00:00:00</td>\n",
       "      <td>2022-01-11 11:38:32</td>\n",
       "      <td>단품</td>\n",
       "      <td>단품</td>\n",
       "      <td>1901012353</td>\n",
       "      <td>수제계란말이(350g)</td>\n",
       "      <td>반찬</td>\n",
       "      <td>1</td>\n",
       "      <td>0</td>\n",
       "      <td>0</td>\n",
       "      <td>1</td>\n",
       "      <td>서울특별시 송파구 올림픽로4길 42 (잠실동, 우성아파트)</td>\n",
       "      <td>6900</td>\n",
       "      <td>221.0</td>\n",
       "      <td>6679</td>\n",
       "    </tr>\n",
       "    <tr>\n",
       "      <th>3</th>\n",
       "      <td>3</td>\n",
       "      <td>202201105523467</td>\n",
       "      <td>2022-01-12 00:00:00</td>\n",
       "      <td>2022-01-10 13:21:51</td>\n",
       "      <td>단품</td>\n",
       "      <td>단품</td>\n",
       "      <td>1901012353</td>\n",
       "      <td>수제계란말이(350g)</td>\n",
       "      <td>반찬</td>\n",
       "      <td>1</td>\n",
       "      <td>0</td>\n",
       "      <td>0</td>\n",
       "      <td>1</td>\n",
       "      <td>강원도 속초시 도리원길 11-14 (노학동)</td>\n",
       "      <td>6900</td>\n",
       "      <td>128.0</td>\n",
       "      <td>6772</td>\n",
       "    </tr>\n",
       "    <tr>\n",
       "      <th>4</th>\n",
       "      <td>4</td>\n",
       "      <td>202201105522519</td>\n",
       "      <td>2022-01-11 00:00:00</td>\n",
       "      <td>2022-01-10 08:16:21</td>\n",
       "      <td>단품</td>\n",
       "      <td>단품</td>\n",
       "      <td>1901012353</td>\n",
       "      <td>수제계란말이(350g)</td>\n",
       "      <td>반찬</td>\n",
       "      <td>1</td>\n",
       "      <td>0</td>\n",
       "      <td>0</td>\n",
       "      <td>1</td>\n",
       "      <td>경기도 용인시 수지구 동천로 64 (동천동, 동천마을동문굿모닝힐5차아파트)</td>\n",
       "      <td>6900</td>\n",
       "      <td>157.0</td>\n",
       "      <td>6743</td>\n",
       "    </tr>\n",
       "  </tbody>\n",
       "</table>\n",
       "</div>"
      ],
      "text/plain": [
       "   Unnamed: 0           ORD_NO                H_YMD                O_YMD  \\\n",
       "0           0  202201095519105  2022-01-11 00:00:00  2022-01-09 12:26:10   \n",
       "1           1  202201105522898  2022-01-11 00:00:00  2022-01-10 10:35:49   \n",
       "2           2  202201115527172  2022-01-12 00:00:00  2022-01-11 11:38:32   \n",
       "3           3  202201105523467  2022-01-12 00:00:00  2022-01-10 13:21:51   \n",
       "4           4  202201105522519  2022-01-11 00:00:00  2022-01-10 08:16:21   \n",
       "\n",
       "  PKG_GOODS_NO PKG_GOODS_NM    GOODS_NO      GOODS_NM STD_GSGR_NO_LEV1_NM  \\\n",
       "0           단품           단품  1901012353  수제계란말이(350g)                  반찬   \n",
       "1           단품           단품  1901012353  수제계란말이(350g)                  반찬   \n",
       "2           단품           단품  1901012353  수제계란말이(350g)                  반찬   \n",
       "3           단품           단품  1901012353  수제계란말이(350g)                  반찬   \n",
       "4           단품           단품  1901012353  수제계란말이(350g)                  반찬   \n",
       "\n",
       "   ORD_QTY  CANCEL_QTY  RET_QTY  REAL_ORD_QTY  \\\n",
       "0        1           0        0             1   \n",
       "1        1           0        0             1   \n",
       "2        1           0        0             1   \n",
       "3        1           0        0             1   \n",
       "4        1           0        0             1   \n",
       "\n",
       "                        RECVR_ROAD_BASE_ADDR  SALE_PRICE  DISCOUNT_AMT  \\\n",
       "0              충청북도 증평군 증평읍 송산로 11 (지평더웰아파트)        6900         569.0   \n",
       "1                  서울특별시 강남구 논현로85길 52 (역삼동)        6900         177.0   \n",
       "2           서울특별시 송파구 올림픽로4길 42 (잠실동, 우성아파트)        6900         221.0   \n",
       "3                   강원도 속초시 도리원길 11-14 (노학동)        6900         128.0   \n",
       "4  경기도 용인시 수지구 동천로 64 (동천동, 동천마을동문굿모닝힐5차아파트)        6900         157.0   \n",
       "\n",
       "   FINAL_PRICE  \n",
       "0         6331  \n",
       "1         6723  \n",
       "2         6679  \n",
       "3         6772  \n",
       "4         6743  "
      ]
     },
     "execution_count": 106,
     "metadata": {},
     "output_type": "execute_result"
    }
   ],
   "source": [
    "# 카피 데이터 생성\n",
    "copy_data = raw_data.copy()\n",
    "\n",
    "copy_data.head()"
   ]
  },
  {
   "cell_type": "markdown",
   "metadata": {},
   "source": [
    "## 1. 데이터 탐색"
   ]
  },
  {
   "cell_type": "markdown",
   "metadata": {},
   "source": [
    "### 1.1 데이터 확인"
   ]
  },
  {
   "cell_type": "code",
   "execution_count": 4,
   "metadata": {},
   "outputs": [
    {
     "name": "stdout",
     "output_type": "stream",
     "text": [
      "<class 'pandas.core.frame.DataFrame'>\n",
      "RangeIndex: 724702 entries, 0 to 724701\n",
      "Data columns (total 17 columns):\n",
      " #   Column                Non-Null Count   Dtype  \n",
      "---  ------                --------------   -----  \n",
      " 0   Unnamed: 0            724702 non-null  int64  \n",
      " 1   ORD_NO                724702 non-null  int64  \n",
      " 2   H_YMD                 724702 non-null  object \n",
      " 3   O_YMD                 724702 non-null  object \n",
      " 4   PKG_GOODS_NO          724702 non-null  object \n",
      " 5   PKG_GOODS_NM          724702 non-null  object \n",
      " 6   GOODS_NO              724702 non-null  int64  \n",
      " 7   GOODS_NM              724702 non-null  object \n",
      " 8   STD_GSGR_NO_LEV1_NM   724702 non-null  object \n",
      " 9   ORD_QTY               724702 non-null  int64  \n",
      " 10  CANCEL_QTY            724702 non-null  int64  \n",
      " 11  RET_QTY               724702 non-null  int64  \n",
      " 12  REAL_ORD_QTY          724702 non-null  int64  \n",
      " 13  RECVR_ROAD_BASE_ADDR  724702 non-null  object \n",
      " 14  SALE_PRICE            724702 non-null  int64  \n",
      " 15  DISCOUNT_AMT          348455 non-null  float64\n",
      " 16  FINAL_PRICE           724702 non-null  int64  \n",
      "dtypes: float64(1), int64(9), object(7)\n",
      "memory usage: 94.0+ MB\n"
     ]
    }
   ],
   "source": [
    "# 데이터의 정보 확인\n",
    "copy_data.info()"
   ]
  },
  {
   "cell_type": "code",
   "execution_count": 5,
   "metadata": {},
   "outputs": [
    {
     "data": {
      "text/plain": [
       "Unnamed: 0                   0\n",
       "ORD_NO                       0\n",
       "H_YMD                        0\n",
       "O_YMD                        0\n",
       "PKG_GOODS_NO                 0\n",
       "PKG_GOODS_NM                 0\n",
       "GOODS_NO                     0\n",
       "GOODS_NM                     0\n",
       "STD_GSGR_NO_LEV1_NM          0\n",
       "ORD_QTY                      0\n",
       "CANCEL_QTY                   0\n",
       "RET_QTY                      0\n",
       "REAL_ORD_QTY                 0\n",
       "RECVR_ROAD_BASE_ADDR         0\n",
       "SALE_PRICE                   0\n",
       "DISCOUNT_AMT            376247\n",
       "FINAL_PRICE                  0\n",
       "dtype: int64"
      ]
     },
     "execution_count": 5,
     "metadata": {},
     "output_type": "execute_result"
    }
   ],
   "source": [
    "# 결측치 확인 -> DISCOUNT_AMT변수에서 376247개의 결측치 확인\n",
    "# 결측치라기 보다는 할인액이 없는, 할인되지 않은 상품으로 예상되어 0으로 대체해도 될 것 같음\n",
    "copy_data.isna().sum()"
   ]
  },
  {
   "cell_type": "code",
   "execution_count": 6,
   "metadata": {},
   "outputs": [
    {
     "data": {
      "text/plain": [
       "단품            661716\n",
       "2106015591      6049\n",
       "2107015727      5599\n",
       "2103015234      4837\n",
       "2107015647      3474\n",
       "               ...  \n",
       "2205016968        11\n",
       "2202016453         8\n",
       "2106015460         5\n",
       "2202016409         3\n",
       "1908013238         2\n",
       "Name: PKG_GOODS_NO, Length: 77, dtype: int64"
      ]
     },
     "execution_count": 6,
     "metadata": {},
     "output_type": "execute_result"
    }
   ],
   "source": [
    "#PKG_GOODS_NO 정보 확인 -> 단품외에 상품이 존재\n",
    "### 단품 상품이 아닌 경우 코드가 어떤 제품을 나타내는지 알아볼 필요가 있음\n",
    "copy_data['PKG_GOODS_NO'].value_counts()"
   ]
  },
  {
   "cell_type": "code",
   "execution_count": 7,
   "metadata": {},
   "outputs": [
    {
     "data": {
      "text/plain": [
       "단품                                        661716\n",
       "더반찬& 인기 시그니처 2종 골라담기 (5,000원 부터~)           9540\n",
       "더반찬& 집밥만찬 2종 골라담기 (5,000원 부터~)              5599\n",
       "[심방골주부X더반찬] 한식밥상 2종 골라담기 (16,660원 부터~)      4837\n",
       "[내일한정] 두메산나물비빔밥재료                           3099\n",
       "                                           ...  \n",
       "[한정판매]베스트셀러 2종 set                            21\n",
       "신규.싱글세트18-1                                   16\n",
       "신규.패밀리세트8-2                                   11\n",
       "[한정판매]키즈 set                                   8\n",
       "[내일한정] 꼬막무침 (250g)                             5\n",
       "Name: PKG_GOODS_NM, Length: 72, dtype: int64"
      ]
     },
     "execution_count": 7,
     "metadata": {},
     "output_type": "execute_result"
    }
   ],
   "source": [
    "# PKG_GOODS_NM 정보 확인 -> 골라담기, 내일한정, 한정판매, 신규, 세트 등이 있음\n",
    "### 내일한정 같은 경우는 단품으로 분류해야 하지 않을까?\n",
    "copy_data['PKG_GOODS_NM'].value_counts()"
   ]
  },
  {
   "cell_type": "code",
   "execution_count": 8,
   "metadata": {},
   "outputs": [
    {
     "data": {
      "text/plain": [
       "724702"
      ]
     },
     "execution_count": 8,
     "metadata": {},
     "output_type": "execute_result"
    }
   ],
   "source": [
    "#GOODS_NO정보 확인\n",
    "copy_data['GOODS_NO'].value_counts()\n",
    "copy_data['GOODS_NO'].value_counts().sum()"
   ]
  },
  {
   "cell_type": "code",
   "execution_count": 9,
   "metadata": {},
   "outputs": [
    {
     "data": {
      "text/plain": [
       "두메산나물비빔밥재료                    159184\n",
       "옛날잡채(500g)                    112852\n",
       "셀프두부조림(600g)                   48948\n",
       "숙주나물(300g)                     43906\n",
       "채소계란찜(340g)                    38440\n",
       "한돈 제육볶음(700g)                  35142\n",
       "수제계란말이(350g)                   33080\n",
       "건표고버섯볶음                        29162\n",
       "꼬막무침 (250g)                    26499\n",
       "양장피                            25901\n",
       "가정집 오징어불고기/셀프(380g)            24389\n",
       "고소한도토리묵무침(265g)                21898\n",
       "건고사리나물볶음(150g)                 17556\n",
       "[심방골주부X더반찬] 시골 돼지짜글이(600g)     17382\n",
       "고구마 품은 라자냐(450g)               16660\n",
       "우삼겹숙주볶음(250g)                  15293\n",
       "순살코다리강정(180g)                  14526\n",
       "메밀소바(2인분)                      13860\n",
       "열무비빔밥재료믹스(2인분)                  9915\n",
       "꼬막무침 (260g)                     9284\n",
       "고소한도토리묵무침(360g)                 4744\n",
       "고사리나물볶음(150g)                   4182\n",
       "소고기유니짜장소스(1인분, 200g)            1899\n",
       "Name: GOODS_NM, dtype: int64"
      ]
     },
     "execution_count": 9,
     "metadata": {},
     "output_type": "execute_result"
    }
   ],
   "source": [
    "#GOODS_NM 정보 확인\n",
    "copy_data['GOODS_NM'].value_counts()\n",
    "#copy_data['GOODS_NM'].value_counts().sum()"
   ]
  },
  {
   "cell_type": "code",
   "execution_count": 10,
   "metadata": {},
   "outputs": [
    {
     "data": {
      "text/plain": [
       "메인요리    362212\n",
       "반찬      358623\n",
       "국         3867\n",
       "Name: STD_GSGR_NO_LEV1_NM, dtype: int64"
      ]
     },
     "execution_count": 10,
     "metadata": {},
     "output_type": "execute_result"
    }
   ],
   "source": [
    "#STD_GSGR_NO_LEV1_NM wjdqh 정보 확인\n",
    "copy_data['STD_GSGR_NO_LEV1_NM'].value_counts()"
   ]
  },
  {
   "cell_type": "markdown",
   "metadata": {},
   "source": [
    "### 1.2 데이터 보완하기"
   ]
  },
  {
   "cell_type": "markdown",
   "metadata": {},
   "source": [
    "a) PKG_GOODS_NM의 데이터를 단품 or 세트로 대체해주는 작업 실시"
   ]
  },
  {
   "cell_type": "code",
   "execution_count": 391,
   "metadata": {},
   "outputs": [],
   "source": [
    "# 자재코드와 자재명을 딕셔너리 형태로 만들기\n",
    "GOODS_DIC = {'171201310' : '두메산나물비빔밥재료', '14375':\t'옛날잡채(500g)', '3273':'채소계란찜(340g)', '13957':'셀프두부조림(600g)', '1901012353':'수제계란말이(350g)',\n",
    "             '13529':'메밀소바(2인분)', '1803010879':'고소한도토리묵무침(265g)', '2012014895':'한돈 제육볶음(700g)', '2204016772':'소고기유니짜장소스(1인분, 200g)', \n",
    "             '1823':'숙주나물(300g)', '4092':'건표고버섯볶음', '14985':'양장피', '1808011751':'꼬막무침 (250g)', '1903012675':'순살코다리강정(180g)', \n",
    "             '2010014667':'우삼겹숙주볶음(250g)', '1806011271':'열무비빔밥재료믹스(2인분)', '2103015231':'[심방골주부X더반찬] 시골 돼지짜글이(600g)', \n",
    "             '2010014707':'고구마 품은 라자냐(450g)', '1805011121':'건고사리나물볶음(150g)', '1909013359':'가정집 오징어불고기/셀프(380g)'\n",
    "             }"
   ]
  },
  {
   "cell_type": "code",
   "execution_count": 11,
   "metadata": {},
   "outputs": [
    {
     "name": "stdout",
     "output_type": "stream",
     "text": [
      "['단품', '[내일한정] 수제계란말이(350g)', '메밀소바+돈까스 SET', '[내일한정] 메밀소바(2인분)', '[특판] 웰스토리 전자레인지 조리세트', '잔치상 세트', '[심방골주부X더반찬] 한식밥상 2종 골라담기 (16,660원 부터~)', 'SK스토아 베스트 세트', '[내일한정] 셀프두부조림(600g)', '[내일한정] 숙주나물(300g)', '[내일한정] 고소한도토리묵무침(265g)', '[내일한정] 옛날잡채(500g)', '[내일한정] 한돈 제육볶음(700g)', '[내일한정] [심방골주부X더반찬] 시골 돼지짜글이(600g)', '[내일한정] 고구마 품은 라자냐(450g)', '[내일한정] 양장피', '[내일한정] 두메산나물비빔밥재료', '[내일한정] 가정집 오징어불고기/셀프(380g)', '[내일한정] 채소계란찜(340g)', '[내일한정] 우삼겹숙주볶음(250g)', '[내일한정] 순살코다리강정(180g)', '[내일한정] 건고사리나물볶음(150g)', '[내일한정] 건표고버섯볶음', '더반찬& 집밥만찬 2종 골라담기 (5,000원 부터~)', '한돈제육세트', '더반찬& 메인메뉴 1종 + 내맘대로 2종 골라담기(15,900원부터~)', '더반찬& 고메위크 골라담기', '열무비빔밥+된찌 SET', '저녁을 부탁해 세트 A', '더반찬& 인기 밑반찬 3종 골라담기 (7,500원 부터~)', '더반찬& 인기 시그니처 2종 골라담기 (5,000원 부터~)', '[내일한정] 열무비빔밥재료믹스(2인분)', '[내일한정] 꼬막무침 (250g)', '더반찬 베스트 C세트', '짭쪼름한 안주세트', '[한정판매] 두메산나물비빔밥재료', '[한정판매] 옛날잡채(500g)', '[더반찬] 주말 밥상세트 A', '[설날] 더반찬 프리미엄 차례상 (사용X)', '저녁을 부탁해 세트 B', '[내일한정] 꼬막무침 (260g)', '[내일한정] 고사리나물볶음(150g)', '[한정판매]손님초대상 set', '[한정판매]반찬 한 상 set', '[한정판매]키즈 set', '주말밥상 세트', '홈파티 세트', '[명절] 대가족 세트(4인추천)', '[명절] 소가족 세트(2~3인추천)', '[22년 설날] 더반찬 프리미엄 차례상 (1.31 새벽배송/한정수량)', '더반찬& 집들이세트', '[1-2인용 반찬 출시] 3종 9,900원 골라담기', '[내일한정] 소고기유니짜장소스(1인분, 200g)', '신규.패밀리세트8-2', '[내일한정]고구마 품은 라자냐(450g)', '더반찬& 생일 선물세트 (사용X)', '더반찬& 부모님 선물세트', '더반찬& 생일 선물세트', '신규.싱글세트18-1', '신규.패밀리세트8-1', '동원이팜꾸러미 B세트', '명절 대가족 세트(4인추천)', '[설날] 더반찬 프리미엄 차례상', '정월대보름 세트', '명절 소가족 세트(2~3인추천)', '[추석] 더반찬 프리미엄 차례상 (9.20 새벽배송/한정수량)', '매콤막창볶음밥&채소계란찜 SET', 'SK스토아 베스트 밑반찬 A', '[특판] 웰스토리 키즈세트(봄나물불고기월남쌈)', '[특판] 웰스토리 키즈세트', '[추석] 더반찬 프리미엄 차례상 (사용X)', '[한정판매]베스트셀러 2종 set']\n"
     ]
    }
   ],
   "source": [
    "GOODS_NM_dic = []\n",
    "\n",
    "for i in copy_data['PKG_GOODS_NM']:\n",
    "    if i not in GOODS_NM_dic:\n",
    "        GOODS_NM_dic.append(i)\n",
    "\n",
    "print(GOODS_NM_dic)"
   ]
  },
  {
   "cell_type": "code",
   "execution_count": 107,
   "metadata": {},
   "outputs": [
    {
     "name": "stderr",
     "output_type": "stream",
     "text": [
      "C:\\Users\\SUNGHYUN\\AppData\\Local\\Temp\\ipykernel_15576\\916191488.py:5: SettingWithCopyWarning: \n",
      "A value is trying to be set on a copy of a slice from a DataFrame\n",
      "\n",
      "See the caveats in the documentation: https://pandas.pydata.org/pandas-docs/stable/user_guide/indexing.html#returning-a-view-versus-a-copy\n",
      "  copy_data['PKG_GOODS_NM'].loc[copy_data['PKG_GOODS_NM'].str.contains('내일한정')] = '단품'\n",
      "C:\\Users\\SUNGHYUN\\AppData\\Local\\Temp\\ipykernel_15576\\916191488.py:8: SettingWithCopyWarning: \n",
      "A value is trying to be set on a copy of a slice from a DataFrame\n",
      "\n",
      "See the caveats in the documentation: https://pandas.pydata.org/pandas-docs/stable/user_guide/indexing.html#returning-a-view-versus-a-copy\n",
      "  copy_data['PKG_GOODS_NM'].loc[copy_data['PKG_GOODS_NM'] == '[한정판매] 두메산나물비빔밥재료'] = '단품'\n",
      "C:\\Users\\SUNGHYUN\\AppData\\Local\\Temp\\ipykernel_15576\\916191488.py:9: SettingWithCopyWarning: \n",
      "A value is trying to be set on a copy of a slice from a DataFrame\n",
      "\n",
      "See the caveats in the documentation: https://pandas.pydata.org/pandas-docs/stable/user_guide/indexing.html#returning-a-view-versus-a-copy\n",
      "  copy_data['PKG_GOODS_NM'].loc[copy_data['PKG_GOODS_NM'] == '[한정판매] 옛날잡채(500g)'] = '단품'\n",
      "C:\\Users\\SUNGHYUN\\AppData\\Local\\Temp\\ipykernel_15576\\916191488.py:12: SettingWithCopyWarning: \n",
      "A value is trying to be set on a copy of a slice from a DataFrame\n",
      "\n",
      "See the caveats in the documentation: https://pandas.pydata.org/pandas-docs/stable/user_guide/indexing.html#returning-a-view-versus-a-copy\n",
      "  copy_data['PKG_GOODS_NM'].loc[copy_data['PKG_GOODS_NM'] != '단품'] = '세트'\n"
     ]
    }
   ],
   "source": [
    "# 내일한정, 한정판매는 단품으로 대체\n",
    "# 한정판매 중에는 단품이 아닌 세트도 있어서 이를 유의해야 함(ex. '[한정판매]손님초대상 set', '[한정판매]반찬 한 상 set', '[한정판매]키즈 set')\n",
    "\n",
    "# 내일한정이 붙은 제품은 모두 단품인 것을 확인하여 카테고리를 단품으로 바꿔줌\n",
    "copy_data['PKG_GOODS_NM'].loc[copy_data['PKG_GOODS_NM'].str.contains('내일한정')] = '단품'\n",
    "\n",
    "# 한정판매 중에서 두 제품만 단품이었기에 두 제품을 단품으로 바꿔줌\n",
    "copy_data['PKG_GOODS_NM'].loc[copy_data['PKG_GOODS_NM'] == '[한정판매] 두메산나물비빔밥재료'] = '단품'  \n",
    "copy_data['PKG_GOODS_NM'].loc[copy_data['PKG_GOODS_NM'] == '[한정판매] 옛날잡채(500g)'] = '단품'\n",
    "\n",
    "# 단품으로 바꿔주지 않은 모든 제품을 세트로 바꿔줌\n",
    "copy_data['PKG_GOODS_NM'].loc[copy_data['PKG_GOODS_NM'] != '단품'] = '세트'"
   ]
  },
  {
   "cell_type": "code",
   "execution_count": 108,
   "metadata": {},
   "outputs": [
    {
     "name": "stdout",
     "output_type": "stream",
     "text": [
      "['단품', '세트']\n"
     ]
    }
   ],
   "source": [
    "GOODS_NM_dic = []\n",
    "\n",
    "for i in copy_data['PKG_GOODS_NM']:\n",
    "    if i not in GOODS_NM_dic:\n",
    "        GOODS_NM_dic.append(i)\n",
    "\n",
    "print(GOODS_NM_dic)"
   ]
  },
  {
   "cell_type": "markdown",
   "metadata": {},
   "source": [
    "b) 지역 이름 전처리"
   ]
  },
  {
   "cell_type": "code",
   "execution_count": 208,
   "metadata": {},
   "outputs": [
    {
     "name": "stderr",
     "output_type": "stream",
     "text": [
      "C:\\Users\\user\\AppData\\Local\\Temp\\ipykernel_4664\\302568830.py:3: SettingWithCopyWarning: \n",
      "A value is trying to be set on a copy of a slice from a DataFrame\n",
      "\n",
      "See the caveats in the documentation: https://pandas.pydata.org/pandas-docs/stable/user_guide/indexing.html#returning-a-view-versus-a-copy\n",
      "  copy_data['RECVR_ROAD_BASE_ADDR'].loc[copy_data['RECVR_ROAD_BASE_ADDR'].str.contains('서울')] = '서울시'\n",
      "C:\\Users\\user\\AppData\\Local\\Temp\\ipykernel_4664\\302568830.py:4: SettingWithCopyWarning: \n",
      "A value is trying to be set on a copy of a slice from a DataFrame\n",
      "\n",
      "See the caveats in the documentation: https://pandas.pydata.org/pandas-docs/stable/user_guide/indexing.html#returning-a-view-versus-a-copy\n",
      "  copy_data['RECVR_ROAD_BASE_ADDR'].loc[copy_data['RECVR_ROAD_BASE_ADDR'].str.contains('Seoul')] = '서울시'\n",
      "C:\\Users\\user\\AppData\\Local\\Temp\\ipykernel_4664\\302568830.py:5: SettingWithCopyWarning: \n",
      "A value is trying to be set on a copy of a slice from a DataFrame\n",
      "\n",
      "See the caveats in the documentation: https://pandas.pydata.org/pandas-docs/stable/user_guide/indexing.html#returning-a-view-versus-a-copy\n",
      "  copy_data['RECVR_ROAD_BASE_ADDR'].loc[copy_data['RECVR_ROAD_BASE_ADDR'].str.contains('인천')] = '인천시'\n",
      "C:\\Users\\user\\AppData\\Local\\Temp\\ipykernel_4664\\302568830.py:6: SettingWithCopyWarning: \n",
      "A value is trying to be set on a copy of a slice from a DataFrame\n",
      "\n",
      "See the caveats in the documentation: https://pandas.pydata.org/pandas-docs/stable/user_guide/indexing.html#returning-a-view-versus-a-copy\n",
      "  copy_data['RECVR_ROAD_BASE_ADDR'].loc[copy_data['RECVR_ROAD_BASE_ADDR'].str.contains('Incheon')] = '인천시'\n",
      "C:\\Users\\user\\AppData\\Local\\Temp\\ipykernel_4664\\302568830.py:7: SettingWithCopyWarning: \n",
      "A value is trying to be set on a copy of a slice from a DataFrame\n",
      "\n",
      "See the caveats in the documentation: https://pandas.pydata.org/pandas-docs/stable/user_guide/indexing.html#returning-a-view-versus-a-copy\n",
      "  copy_data['RECVR_ROAD_BASE_ADDR'].loc[copy_data['RECVR_ROAD_BASE_ADDR'].str.contains('부산')] = '부산시'\n",
      "C:\\Users\\user\\AppData\\Local\\Temp\\ipykernel_4664\\302568830.py:8: SettingWithCopyWarning: \n",
      "A value is trying to be set on a copy of a slice from a DataFrame\n",
      "\n",
      "See the caveats in the documentation: https://pandas.pydata.org/pandas-docs/stable/user_guide/indexing.html#returning-a-view-versus-a-copy\n",
      "  copy_data['RECVR_ROAD_BASE_ADDR'].loc[copy_data['RECVR_ROAD_BASE_ADDR'].str.contains('Busan')] = '부산시'\n",
      "C:\\Users\\user\\AppData\\Local\\Temp\\ipykernel_4664\\302568830.py:9: SettingWithCopyWarning: \n",
      "A value is trying to be set on a copy of a slice from a DataFrame\n",
      "\n",
      "See the caveats in the documentation: https://pandas.pydata.org/pandas-docs/stable/user_guide/indexing.html#returning-a-view-versus-a-copy\n",
      "  copy_data['RECVR_ROAD_BASE_ADDR'].loc[copy_data['RECVR_ROAD_BASE_ADDR'].str.contains('대구')] = '대구시'\n",
      "C:\\Users\\user\\AppData\\Local\\Temp\\ipykernel_4664\\302568830.py:10: SettingWithCopyWarning: \n",
      "A value is trying to be set on a copy of a slice from a DataFrame\n",
      "\n",
      "See the caveats in the documentation: https://pandas.pydata.org/pandas-docs/stable/user_guide/indexing.html#returning-a-view-versus-a-copy\n",
      "  copy_data['RECVR_ROAD_BASE_ADDR'].loc[copy_data['RECVR_ROAD_BASE_ADDR'].str.contains('Daegu')] = '대구시'\n",
      "C:\\Users\\user\\AppData\\Local\\Temp\\ipykernel_4664\\302568830.py:11: SettingWithCopyWarning: \n",
      "A value is trying to be set on a copy of a slice from a DataFrame\n",
      "\n",
      "See the caveats in the documentation: https://pandas.pydata.org/pandas-docs/stable/user_guide/indexing.html#returning-a-view-versus-a-copy\n",
      "  copy_data['RECVR_ROAD_BASE_ADDR'].loc[copy_data['RECVR_ROAD_BASE_ADDR'].str.contains('광주')] = '광주시'\n",
      "C:\\Users\\user\\AppData\\Local\\Temp\\ipykernel_4664\\302568830.py:12: SettingWithCopyWarning: \n",
      "A value is trying to be set on a copy of a slice from a DataFrame\n",
      "\n",
      "See the caveats in the documentation: https://pandas.pydata.org/pandas-docs/stable/user_guide/indexing.html#returning-a-view-versus-a-copy\n",
      "  copy_data['RECVR_ROAD_BASE_ADDR'].loc[copy_data['RECVR_ROAD_BASE_ADDR'].str.contains('대전')] = '대전시'\n",
      "C:\\Users\\user\\AppData\\Local\\Temp\\ipykernel_4664\\302568830.py:13: SettingWithCopyWarning: \n",
      "A value is trying to be set on a copy of a slice from a DataFrame\n",
      "\n",
      "See the caveats in the documentation: https://pandas.pydata.org/pandas-docs/stable/user_guide/indexing.html#returning-a-view-versus-a-copy\n",
      "  copy_data['RECVR_ROAD_BASE_ADDR'].loc[copy_data['RECVR_ROAD_BASE_ADDR'].str.contains('Daejeon')] = '대전시'\n",
      "C:\\Users\\user\\AppData\\Local\\Temp\\ipykernel_4664\\302568830.py:14: SettingWithCopyWarning: \n",
      "A value is trying to be set on a copy of a slice from a DataFrame\n",
      "\n",
      "See the caveats in the documentation: https://pandas.pydata.org/pandas-docs/stable/user_guide/indexing.html#returning-a-view-versus-a-copy\n",
      "  copy_data['RECVR_ROAD_BASE_ADDR'].loc[copy_data['RECVR_ROAD_BASE_ADDR'].str.contains('울산')] = '울산시'\n",
      "C:\\Users\\user\\AppData\\Local\\Temp\\ipykernel_4664\\302568830.py:15: SettingWithCopyWarning: \n",
      "A value is trying to be set on a copy of a slice from a DataFrame\n",
      "\n",
      "See the caveats in the documentation: https://pandas.pydata.org/pandas-docs/stable/user_guide/indexing.html#returning-a-view-versus-a-copy\n",
      "  copy_data['RECVR_ROAD_BASE_ADDR'].loc[copy_data['RECVR_ROAD_BASE_ADDR'].str.contains('세종')] = '세종시'\n",
      "C:\\Users\\user\\AppData\\Local\\Temp\\ipykernel_4664\\302568830.py:16: SettingWithCopyWarning: \n",
      "A value is trying to be set on a copy of a slice from a DataFrame\n",
      "\n",
      "See the caveats in the documentation: https://pandas.pydata.org/pandas-docs/stable/user_guide/indexing.html#returning-a-view-versus-a-copy\n",
      "  copy_data['RECVR_ROAD_BASE_ADDR'].loc[copy_data['RECVR_ROAD_BASE_ADDR'].str.contains('용인')] = '용인시'\n",
      "C:\\Users\\user\\AppData\\Local\\Temp\\ipykernel_4664\\302568830.py:17: SettingWithCopyWarning: \n",
      "A value is trying to be set on a copy of a slice from a DataFrame\n",
      "\n",
      "See the caveats in the documentation: https://pandas.pydata.org/pandas-docs/stable/user_guide/indexing.html#returning-a-view-versus-a-copy\n",
      "  copy_data['RECVR_ROAD_BASE_ADDR'].loc[copy_data['RECVR_ROAD_BASE_ADDR'].str.contains('고양')] = '고양시'\n",
      "C:\\Users\\user\\AppData\\Local\\Temp\\ipykernel_4664\\302568830.py:18: SettingWithCopyWarning: \n",
      "A value is trying to be set on a copy of a slice from a DataFrame\n",
      "\n",
      "See the caveats in the documentation: https://pandas.pydata.org/pandas-docs/stable/user_guide/indexing.html#returning-a-view-versus-a-copy\n",
      "  copy_data['RECVR_ROAD_BASE_ADDR'].loc[copy_data['RECVR_ROAD_BASE_ADDR'].str.contains('수원')] = '수원시'\n",
      "C:\\Users\\user\\AppData\\Local\\Temp\\ipykernel_4664\\302568830.py:19: SettingWithCopyWarning: \n",
      "A value is trying to be set on a copy of a slice from a DataFrame\n",
      "\n",
      "See the caveats in the documentation: https://pandas.pydata.org/pandas-docs/stable/user_guide/indexing.html#returning-a-view-versus-a-copy\n",
      "  copy_data['RECVR_ROAD_BASE_ADDR'].loc[copy_data['RECVR_ROAD_BASE_ADDR'].str.contains('성남')] = '성남시'\n",
      "C:\\Users\\user\\AppData\\Local\\Temp\\ipykernel_4664\\302568830.py:20: SettingWithCopyWarning: \n",
      "A value is trying to be set on a copy of a slice from a DataFrame\n",
      "\n",
      "See the caveats in the documentation: https://pandas.pydata.org/pandas-docs/stable/user_guide/indexing.html#returning-a-view-versus-a-copy\n",
      "  copy_data['RECVR_ROAD_BASE_ADDR'].loc[copy_data['RECVR_ROAD_BASE_ADDR'].str.contains('화성')] = '화성시'\n",
      "C:\\Users\\user\\AppData\\Local\\Temp\\ipykernel_4664\\302568830.py:21: SettingWithCopyWarning: \n",
      "A value is trying to be set on a copy of a slice from a DataFrame\n",
      "\n",
      "See the caveats in the documentation: https://pandas.pydata.org/pandas-docs/stable/user_guide/indexing.html#returning-a-view-versus-a-copy\n",
      "  copy_data['RECVR_ROAD_BASE_ADDR'].loc[copy_data['RECVR_ROAD_BASE_ADDR'].str.contains('평택')] = '평택시'\n",
      "C:\\Users\\user\\AppData\\Local\\Temp\\ipykernel_4664\\302568830.py:22: SettingWithCopyWarning: \n",
      "A value is trying to be set on a copy of a slice from a DataFrame\n",
      "\n",
      "See the caveats in the documentation: https://pandas.pydata.org/pandas-docs/stable/user_guide/indexing.html#returning-a-view-versus-a-copy\n",
      "  copy_data['RECVR_ROAD_BASE_ADDR'].loc[copy_data['RECVR_ROAD_BASE_ADDR'].str.contains('하남')] = '하남시'\n",
      "C:\\Users\\user\\AppData\\Local\\Temp\\ipykernel_4664\\302568830.py:23: SettingWithCopyWarning: \n",
      "A value is trying to be set on a copy of a slice from a DataFrame\n",
      "\n",
      "See the caveats in the documentation: https://pandas.pydata.org/pandas-docs/stable/user_guide/indexing.html#returning-a-view-versus-a-copy\n",
      "  copy_data['RECVR_ROAD_BASE_ADDR'].loc[copy_data['RECVR_ROAD_BASE_ADDR'].str.contains('부천')] = '부천시'\n",
      "C:\\Users\\user\\AppData\\Local\\Temp\\ipykernel_4664\\302568830.py:24: SettingWithCopyWarning: \n",
      "A value is trying to be set on a copy of a slice from a DataFrame\n",
      "\n",
      "See the caveats in the documentation: https://pandas.pydata.org/pandas-docs/stable/user_guide/indexing.html#returning-a-view-versus-a-copy\n",
      "  copy_data['RECVR_ROAD_BASE_ADDR'].loc[copy_data['RECVR_ROAD_BASE_ADDR'].str.contains('오산')] = '경기도'\n",
      "C:\\Users\\user\\AppData\\Local\\Temp\\ipykernel_4664\\302568830.py:25: SettingWithCopyWarning: \n",
      "A value is trying to be set on a copy of a slice from a DataFrame\n",
      "\n",
      "See the caveats in the documentation: https://pandas.pydata.org/pandas-docs/stable/user_guide/indexing.html#returning-a-view-versus-a-copy\n",
      "  copy_data['RECVR_ROAD_BASE_ADDR'].loc[copy_data['RECVR_ROAD_BASE_ADDR'].str.contains('안산')] = '안산시'\n",
      "C:\\Users\\user\\AppData\\Local\\Temp\\ipykernel_4664\\302568830.py:26: SettingWithCopyWarning: \n",
      "A value is trying to be set on a copy of a slice from a DataFrame\n",
      "\n",
      "See the caveats in the documentation: https://pandas.pydata.org/pandas-docs/stable/user_guide/indexing.html#returning-a-view-versus-a-copy\n",
      "  copy_data['RECVR_ROAD_BASE_ADDR'].loc[copy_data['RECVR_ROAD_BASE_ADDR'].str.contains('군포')] = '군포시'\n",
      "C:\\Users\\user\\AppData\\Local\\Temp\\ipykernel_4664\\302568830.py:27: SettingWithCopyWarning: \n",
      "A value is trying to be set on a copy of a slice from a DataFrame\n",
      "\n",
      "See the caveats in the documentation: https://pandas.pydata.org/pandas-docs/stable/user_guide/indexing.html#returning-a-view-versus-a-copy\n",
      "  copy_data['RECVR_ROAD_BASE_ADDR'].loc[copy_data['RECVR_ROAD_BASE_ADDR'].str.contains('안성')] = '경기도'\n",
      "C:\\Users\\user\\AppData\\Local\\Temp\\ipykernel_4664\\302568830.py:28: SettingWithCopyWarning: \n",
      "A value is trying to be set on a copy of a slice from a DataFrame\n",
      "\n",
      "See the caveats in the documentation: https://pandas.pydata.org/pandas-docs/stable/user_guide/indexing.html#returning-a-view-versus-a-copy\n",
      "  copy_data['RECVR_ROAD_BASE_ADDR'].loc[copy_data['RECVR_ROAD_BASE_ADDR'].str.contains('구리')] = '경기도'\n",
      "C:\\Users\\user\\AppData\\Local\\Temp\\ipykernel_4664\\302568830.py:29: SettingWithCopyWarning: \n",
      "A value is trying to be set on a copy of a slice from a DataFrame\n",
      "\n",
      "See the caveats in the documentation: https://pandas.pydata.org/pandas-docs/stable/user_guide/indexing.html#returning-a-view-versus-a-copy\n",
      "  copy_data['RECVR_ROAD_BASE_ADDR'].loc[copy_data['RECVR_ROAD_BASE_ADDR'].str.contains('파주')] = '파주시'\n",
      "C:\\Users\\user\\AppData\\Local\\Temp\\ipykernel_4664\\302568830.py:30: SettingWithCopyWarning: \n",
      "A value is trying to be set on a copy of a slice from a DataFrame\n",
      "\n",
      "See the caveats in the documentation: https://pandas.pydata.org/pandas-docs/stable/user_guide/indexing.html#returning-a-view-versus-a-copy\n",
      "  copy_data['RECVR_ROAD_BASE_ADDR'].loc[copy_data['RECVR_ROAD_BASE_ADDR'].str.contains('광명')] = '광명시'\n",
      "C:\\Users\\user\\AppData\\Local\\Temp\\ipykernel_4664\\302568830.py:31: SettingWithCopyWarning: \n",
      "A value is trying to be set on a copy of a slice from a DataFrame\n",
      "\n",
      "See the caveats in the documentation: https://pandas.pydata.org/pandas-docs/stable/user_guide/indexing.html#returning-a-view-versus-a-copy\n",
      "  copy_data['RECVR_ROAD_BASE_ADDR'].loc[copy_data['RECVR_ROAD_BASE_ADDR'].str.contains('과천')] = '경기도'\n",
      "C:\\Users\\user\\AppData\\Local\\Temp\\ipykernel_4664\\302568830.py:32: SettingWithCopyWarning: \n",
      "A value is trying to be set on a copy of a slice from a DataFrame\n",
      "\n",
      "See the caveats in the documentation: https://pandas.pydata.org/pandas-docs/stable/user_guide/indexing.html#returning-a-view-versus-a-copy\n",
      "  copy_data['RECVR_ROAD_BASE_ADDR'].loc[copy_data['RECVR_ROAD_BASE_ADDR'].str.contains('포천')] = '경기도'\n",
      "C:\\Users\\user\\AppData\\Local\\Temp\\ipykernel_4664\\302568830.py:33: SettingWithCopyWarning: \n",
      "A value is trying to be set on a copy of a slice from a DataFrame\n",
      "\n",
      "See the caveats in the documentation: https://pandas.pydata.org/pandas-docs/stable/user_guide/indexing.html#returning-a-view-versus-a-copy\n",
      "  copy_data['RECVR_ROAD_BASE_ADDR'].loc[copy_data['RECVR_ROAD_BASE_ADDR'].str.contains('남양주')] = '남양주시'\n",
      "C:\\Users\\user\\AppData\\Local\\Temp\\ipykernel_4664\\302568830.py:34: SettingWithCopyWarning: \n",
      "A value is trying to be set on a copy of a slice from a DataFrame\n",
      "\n",
      "See the caveats in the documentation: https://pandas.pydata.org/pandas-docs/stable/user_guide/indexing.html#returning-a-view-versus-a-copy\n",
      "  copy_data['RECVR_ROAD_BASE_ADDR'].loc[copy_data['RECVR_ROAD_BASE_ADDR'].str.contains('의정부')] = '경기도'\n",
      "C:\\Users\\user\\AppData\\Local\\Temp\\ipykernel_4664\\302568830.py:35: SettingWithCopyWarning: \n",
      "A value is trying to be set on a copy of a slice from a DataFrame\n",
      "\n",
      "See the caveats in the documentation: https://pandas.pydata.org/pandas-docs/stable/user_guide/indexing.html#returning-a-view-versus-a-copy\n",
      "  copy_data['RECVR_ROAD_BASE_ADDR'].loc[copy_data['RECVR_ROAD_BASE_ADDR'].str.contains('시흥')] = '경기도'\n",
      "C:\\Users\\user\\AppData\\Local\\Temp\\ipykernel_4664\\302568830.py:36: SettingWithCopyWarning: \n",
      "A value is trying to be set on a copy of a slice from a DataFrame\n",
      "\n",
      "See the caveats in the documentation: https://pandas.pydata.org/pandas-docs/stable/user_guide/indexing.html#returning-a-view-versus-a-copy\n",
      "  copy_data['RECVR_ROAD_BASE_ADDR'].loc[copy_data['RECVR_ROAD_BASE_ADDR'].str.contains('연천')] = '경기도'\n",
      "C:\\Users\\user\\AppData\\Local\\Temp\\ipykernel_4664\\302568830.py:37: SettingWithCopyWarning: \n",
      "A value is trying to be set on a copy of a slice from a DataFrame\n",
      "\n",
      "See the caveats in the documentation: https://pandas.pydata.org/pandas-docs/stable/user_guide/indexing.html#returning-a-view-versus-a-copy\n",
      "  copy_data['RECVR_ROAD_BASE_ADDR'].loc[copy_data['RECVR_ROAD_BASE_ADDR'].str.contains('여주')] = '경기도'\n",
      "C:\\Users\\user\\AppData\\Local\\Temp\\ipykernel_4664\\302568830.py:38: SettingWithCopyWarning: \n",
      "A value is trying to be set on a copy of a slice from a DataFrame\n",
      "\n",
      "See the caveats in the documentation: https://pandas.pydata.org/pandas-docs/stable/user_guide/indexing.html#returning-a-view-versus-a-copy\n",
      "  copy_data['RECVR_ROAD_BASE_ADDR'].loc[copy_data['RECVR_ROAD_BASE_ADDR'].str.contains('의왕')] = '경기도'\n",
      "C:\\Users\\user\\AppData\\Local\\Temp\\ipykernel_4664\\302568830.py:39: SettingWithCopyWarning: \n",
      "A value is trying to be set on a copy of a slice from a DataFrame\n",
      "\n",
      "See the caveats in the documentation: https://pandas.pydata.org/pandas-docs/stable/user_guide/indexing.html#returning-a-view-versus-a-copy\n",
      "  copy_data['RECVR_ROAD_BASE_ADDR'].loc[copy_data['RECVR_ROAD_BASE_ADDR'].str.contains('안양')] = '안양시'\n",
      "C:\\Users\\user\\AppData\\Local\\Temp\\ipykernel_4664\\302568830.py:40: SettingWithCopyWarning: \n",
      "A value is trying to be set on a copy of a slice from a DataFrame\n",
      "\n",
      "See the caveats in the documentation: https://pandas.pydata.org/pandas-docs/stable/user_guide/indexing.html#returning-a-view-versus-a-copy\n",
      "  copy_data['RECVR_ROAD_BASE_ADDR'].loc[copy_data['RECVR_ROAD_BASE_ADDR'].str.contains('김포')] = '김포시'\n",
      "C:\\Users\\user\\AppData\\Local\\Temp\\ipykernel_4664\\302568830.py:41: SettingWithCopyWarning: \n",
      "A value is trying to be set on a copy of a slice from a DataFrame\n",
      "\n",
      "See the caveats in the documentation: https://pandas.pydata.org/pandas-docs/stable/user_guide/indexing.html#returning-a-view-versus-a-copy\n",
      "  copy_data['RECVR_ROAD_BASE_ADDR'].loc[copy_data['RECVR_ROAD_BASE_ADDR'].str.contains('이천')] = '경기도'\n",
      "C:\\Users\\user\\AppData\\Local\\Temp\\ipykernel_4664\\302568830.py:42: SettingWithCopyWarning: \n",
      "A value is trying to be set on a copy of a slice from a DataFrame\n",
      "\n",
      "See the caveats in the documentation: https://pandas.pydata.org/pandas-docs/stable/user_guide/indexing.html#returning-a-view-versus-a-copy\n",
      "  copy_data['RECVR_ROAD_BASE_ADDR'].loc[copy_data['RECVR_ROAD_BASE_ADDR'].str.contains('경기')] = '경기도'\n",
      "C:\\Users\\user\\AppData\\Local\\Temp\\ipykernel_4664\\302568830.py:43: SettingWithCopyWarning: \n",
      "A value is trying to be set on a copy of a slice from a DataFrame\n",
      "\n",
      "See the caveats in the documentation: https://pandas.pydata.org/pandas-docs/stable/user_guide/indexing.html#returning-a-view-versus-a-copy\n",
      "  copy_data['RECVR_ROAD_BASE_ADDR'].loc[copy_data['RECVR_ROAD_BASE_ADDR'].str.contains('Gyeonggi')] = '경기도'\n",
      "C:\\Users\\user\\AppData\\Local\\Temp\\ipykernel_4664\\302568830.py:45: SettingWithCopyWarning: \n",
      "A value is trying to be set on a copy of a slice from a DataFrame\n",
      "\n",
      "See the caveats in the documentation: https://pandas.pydata.org/pandas-docs/stable/user_guide/indexing.html#returning-a-view-versus-a-copy\n",
      "  copy_data['RECVR_ROAD_BASE_ADDR'].loc[copy_data['RECVR_ROAD_BASE_ADDR'].str.contains('강원')] = '강원도'\n",
      "C:\\Users\\user\\AppData\\Local\\Temp\\ipykernel_4664\\302568830.py:46: SettingWithCopyWarning: \n",
      "A value is trying to be set on a copy of a slice from a DataFrame\n",
      "\n",
      "See the caveats in the documentation: https://pandas.pydata.org/pandas-docs/stable/user_guide/indexing.html#returning-a-view-versus-a-copy\n",
      "  copy_data['RECVR_ROAD_BASE_ADDR'].loc[copy_data['RECVR_ROAD_BASE_ADDR'].str.contains('Chungcheongnam-do')] = '충청남도'\n",
      "C:\\Users\\user\\AppData\\Local\\Temp\\ipykernel_4664\\302568830.py:47: SettingWithCopyWarning: \n",
      "A value is trying to be set on a copy of a slice from a DataFrame\n",
      "\n",
      "See the caveats in the documentation: https://pandas.pydata.org/pandas-docs/stable/user_guide/indexing.html#returning-a-view-versus-a-copy\n",
      "  copy_data['RECVR_ROAD_BASE_ADDR'].loc[copy_data['RECVR_ROAD_BASE_ADDR'].str.contains('충청남도')] = '충청남도'\n",
      "C:\\Users\\user\\AppData\\Local\\Temp\\ipykernel_4664\\302568830.py:48: SettingWithCopyWarning: \n",
      "A value is trying to be set on a copy of a slice from a DataFrame\n",
      "\n",
      "See the caveats in the documentation: https://pandas.pydata.org/pandas-docs/stable/user_guide/indexing.html#returning-a-view-versus-a-copy\n",
      "  copy_data['RECVR_ROAD_BASE_ADDR'].loc[copy_data['RECVR_ROAD_BASE_ADDR'].str.contains('충남')] = '충청남도'\n",
      "C:\\Users\\user\\AppData\\Local\\Temp\\ipykernel_4664\\302568830.py:49: SettingWithCopyWarning: \n",
      "A value is trying to be set on a copy of a slice from a DataFrame\n",
      "\n",
      "See the caveats in the documentation: https://pandas.pydata.org/pandas-docs/stable/user_guide/indexing.html#returning-a-view-versus-a-copy\n",
      "  copy_data['RECVR_ROAD_BASE_ADDR'].loc[copy_data['RECVR_ROAD_BASE_ADDR'].str.contains('충청북도')] = '충청북도'\n",
      "C:\\Users\\user\\AppData\\Local\\Temp\\ipykernel_4664\\302568830.py:50: SettingWithCopyWarning: \n",
      "A value is trying to be set on a copy of a slice from a DataFrame\n",
      "\n",
      "See the caveats in the documentation: https://pandas.pydata.org/pandas-docs/stable/user_guide/indexing.html#returning-a-view-versus-a-copy\n",
      "  copy_data['RECVR_ROAD_BASE_ADDR'].loc[copy_data['RECVR_ROAD_BASE_ADDR'].str.contains('충북')] = '충청북도'\n",
      "C:\\Users\\user\\AppData\\Local\\Temp\\ipykernel_4664\\302568830.py:51: SettingWithCopyWarning: \n",
      "A value is trying to be set on a copy of a slice from a DataFrame\n",
      "\n",
      "See the caveats in the documentation: https://pandas.pydata.org/pandas-docs/stable/user_guide/indexing.html#returning-a-view-versus-a-copy\n",
      "  copy_data['RECVR_ROAD_BASE_ADDR'].loc[copy_data['RECVR_ROAD_BASE_ADDR'].str.contains('Chungcheongbuk-do')] = '충청북도'\n",
      "C:\\Users\\user\\AppData\\Local\\Temp\\ipykernel_4664\\302568830.py:52: SettingWithCopyWarning: \n",
      "A value is trying to be set on a copy of a slice from a DataFrame\n",
      "\n",
      "See the caveats in the documentation: https://pandas.pydata.org/pandas-docs/stable/user_guide/indexing.html#returning-a-view-versus-a-copy\n",
      "  copy_data['RECVR_ROAD_BASE_ADDR'].loc[copy_data['RECVR_ROAD_BASE_ADDR'].str.contains('전라남도')] = '전라남도'\n",
      "C:\\Users\\user\\AppData\\Local\\Temp\\ipykernel_4664\\302568830.py:53: SettingWithCopyWarning: \n",
      "A value is trying to be set on a copy of a slice from a DataFrame\n",
      "\n",
      "See the caveats in the documentation: https://pandas.pydata.org/pandas-docs/stable/user_guide/indexing.html#returning-a-view-versus-a-copy\n",
      "  copy_data['RECVR_ROAD_BASE_ADDR'].loc[copy_data['RECVR_ROAD_BASE_ADDR'].str.contains('전남')] = '전라남도'\n",
      "C:\\Users\\user\\AppData\\Local\\Temp\\ipykernel_4664\\302568830.py:54: SettingWithCopyWarning: \n",
      "A value is trying to be set on a copy of a slice from a DataFrame\n",
      "\n",
      "See the caveats in the documentation: https://pandas.pydata.org/pandas-docs/stable/user_guide/indexing.html#returning-a-view-versus-a-copy\n",
      "  copy_data['RECVR_ROAD_BASE_ADDR'].loc[copy_data['RECVR_ROAD_BASE_ADDR'].str.contains('Jeollanam-do')] = '전라남도'\n",
      "C:\\Users\\user\\AppData\\Local\\Temp\\ipykernel_4664\\302568830.py:55: SettingWithCopyWarning: \n",
      "A value is trying to be set on a copy of a slice from a DataFrame\n",
      "\n",
      "See the caveats in the documentation: https://pandas.pydata.org/pandas-docs/stable/user_guide/indexing.html#returning-a-view-versus-a-copy\n",
      "  copy_data['RECVR_ROAD_BASE_ADDR'].loc[copy_data['RECVR_ROAD_BASE_ADDR'].str.contains('전라북도')] = '전라북도'\n",
      "C:\\Users\\user\\AppData\\Local\\Temp\\ipykernel_4664\\302568830.py:56: SettingWithCopyWarning: \n",
      "A value is trying to be set on a copy of a slice from a DataFrame\n",
      "\n",
      "See the caveats in the documentation: https://pandas.pydata.org/pandas-docs/stable/user_guide/indexing.html#returning-a-view-versus-a-copy\n",
      "  copy_data['RECVR_ROAD_BASE_ADDR'].loc[copy_data['RECVR_ROAD_BASE_ADDR'].str.contains('전북')] = '전라북도'\n",
      "C:\\Users\\user\\AppData\\Local\\Temp\\ipykernel_4664\\302568830.py:57: SettingWithCopyWarning: \n",
      "A value is trying to be set on a copy of a slice from a DataFrame\n",
      "\n",
      "See the caveats in the documentation: https://pandas.pydata.org/pandas-docs/stable/user_guide/indexing.html#returning-a-view-versus-a-copy\n",
      "  copy_data['RECVR_ROAD_BASE_ADDR'].loc[copy_data['RECVR_ROAD_BASE_ADDR'].str.contains('Jeollabuk-do')] = '전라북도'\n",
      "C:\\Users\\user\\AppData\\Local\\Temp\\ipykernel_4664\\302568830.py:58: SettingWithCopyWarning: \n",
      "A value is trying to be set on a copy of a slice from a DataFrame\n",
      "\n",
      "See the caveats in the documentation: https://pandas.pydata.org/pandas-docs/stable/user_guide/indexing.html#returning-a-view-versus-a-copy\n",
      "  copy_data['RECVR_ROAD_BASE_ADDR'].loc[copy_data['RECVR_ROAD_BASE_ADDR'].str.contains('경상남도')] = '경상남도'\n",
      "C:\\Users\\user\\AppData\\Local\\Temp\\ipykernel_4664\\302568830.py:59: SettingWithCopyWarning: \n",
      "A value is trying to be set on a copy of a slice from a DataFrame\n",
      "\n",
      "See the caveats in the documentation: https://pandas.pydata.org/pandas-docs/stable/user_guide/indexing.html#returning-a-view-versus-a-copy\n",
      "  copy_data['RECVR_ROAD_BASE_ADDR'].loc[copy_data['RECVR_ROAD_BASE_ADDR'].str.contains('경남')] = '경상남도'\n",
      "C:\\Users\\user\\AppData\\Local\\Temp\\ipykernel_4664\\302568830.py:60: SettingWithCopyWarning: \n",
      "A value is trying to be set on a copy of a slice from a DataFrame\n",
      "\n",
      "See the caveats in the documentation: https://pandas.pydata.org/pandas-docs/stable/user_guide/indexing.html#returning-a-view-versus-a-copy\n",
      "  copy_data['RECVR_ROAD_BASE_ADDR'].loc[copy_data['RECVR_ROAD_BASE_ADDR'].str.contains('경상북도')] = '경상북도'\n",
      "C:\\Users\\user\\AppData\\Local\\Temp\\ipykernel_4664\\302568830.py:61: SettingWithCopyWarning: \n",
      "A value is trying to be set on a copy of a slice from a DataFrame\n",
      "\n",
      "See the caveats in the documentation: https://pandas.pydata.org/pandas-docs/stable/user_guide/indexing.html#returning-a-view-versus-a-copy\n",
      "  copy_data['RECVR_ROAD_BASE_ADDR'].loc[copy_data['RECVR_ROAD_BASE_ADDR'].str.contains('경북')] = '경상북도'\n",
      "C:\\Users\\user\\AppData\\Local\\Temp\\ipykernel_4664\\302568830.py:62: SettingWithCopyWarning: \n",
      "A value is trying to be set on a copy of a slice from a DataFrame\n",
      "\n",
      "See the caveats in the documentation: https://pandas.pydata.org/pandas-docs/stable/user_guide/indexing.html#returning-a-view-versus-a-copy\n",
      "  copy_data['RECVR_ROAD_BASE_ADDR'].loc[copy_data['RECVR_ROAD_BASE_ADDR'].str.contains('제주')] = '제주시'\n"
     ]
    }
   ],
   "source": [
    "# 각 지역의 이름이 들어간 경우 해당 시나 도의 이름을 바꾸어준다.\n",
    "# 삭제 예정\n",
    "\n",
    "# copy_data['RECVR_ROAD_BASE_ADDR'].loc[copy_data['RECVR_ROAD_BASE_ADDR'].str.contains('서울')] = '서울시'\n",
    "# copy_data['RECVR_ROAD_BASE_ADDR'].loc[copy_data['RECVR_ROAD_BASE_ADDR'].str.contains('Seoul')] = '서울시'\n",
    "# copy_data['RECVR_ROAD_BASE_ADDR'].loc[copy_data['RECVR_ROAD_BASE_ADDR'].str.contains('인천')] = '인천시'\n",
    "# copy_data['RECVR_ROAD_BASE_ADDR'].loc[copy_data['RECVR_ROAD_BASE_ADDR'].str.contains('Incheon')] = '인천시'\n",
    "# copy_data['RECVR_ROAD_BASE_ADDR'].loc[copy_data['RECVR_ROAD_BASE_ADDR'].str.contains('부산')] = '부산시'\n",
    "# copy_data['RECVR_ROAD_BASE_ADDR'].loc[copy_data['RECVR_ROAD_BASE_ADDR'].str.contains('Busan')] = '부산시'\n",
    "# copy_data['RECVR_ROAD_BASE_ADDR'].loc[copy_data['RECVR_ROAD_BASE_ADDR'].str.contains('대구')] = '대구시'\n",
    "# copy_data['RECVR_ROAD_BASE_ADDR'].loc[copy_data['RECVR_ROAD_BASE_ADDR'].str.contains('Daegu')] = '대구시'\n",
    "# copy_data['RECVR_ROAD_BASE_ADDR'].loc[copy_data['RECVR_ROAD_BASE_ADDR'].str.contains('광주')] = '광주시'\n",
    "# copy_data['RECVR_ROAD_BASE_ADDR'].loc[copy_data['RECVR_ROAD_BASE_ADDR'].str.contains('대전')] = '대전시'\n",
    "# copy_data['RECVR_ROAD_BASE_ADDR'].loc[copy_data['RECVR_ROAD_BASE_ADDR'].str.contains('Daejeon')] = '대전시'\n",
    "# copy_data['RECVR_ROAD_BASE_ADDR'].loc[copy_data['RECVR_ROAD_BASE_ADDR'].str.contains('울산')] = '울산시'\n",
    "# copy_data['RECVR_ROAD_BASE_ADDR'].loc[copy_data['RECVR_ROAD_BASE_ADDR'].str.contains('세종')] = '세종시'\n",
    "# copy_data['RECVR_ROAD_BASE_ADDR'].loc[copy_data['RECVR_ROAD_BASE_ADDR'].str.contains('용인')] = '용인시'\n",
    "# copy_data['RECVR_ROAD_BASE_ADDR'].loc[copy_data['RECVR_ROAD_BASE_ADDR'].str.contains('고양')] = '고양시'\n",
    "# copy_data['RECVR_ROAD_BASE_ADDR'].loc[copy_data['RECVR_ROAD_BASE_ADDR'].str.contains('수원')] = '수원시'\n",
    "# copy_data['RECVR_ROAD_BASE_ADDR'].loc[copy_data['RECVR_ROAD_BASE_ADDR'].str.contains('성남')] = '성남시'\n",
    "# copy_data['RECVR_ROAD_BASE_ADDR'].loc[copy_data['RECVR_ROAD_BASE_ADDR'].str.contains('화성')] = '화성시'\n",
    "# copy_data['RECVR_ROAD_BASE_ADDR'].loc[copy_data['RECVR_ROAD_BASE_ADDR'].str.contains('평택')] = '평택시'\n",
    "# copy_data['RECVR_ROAD_BASE_ADDR'].loc[copy_data['RECVR_ROAD_BASE_ADDR'].str.contains('하남')] = '하남시'\n",
    "# copy_data['RECVR_ROAD_BASE_ADDR'].loc[copy_data['RECVR_ROAD_BASE_ADDR'].str.contains('부천')] = '부천시'\n",
    "# copy_data['RECVR_ROAD_BASE_ADDR'].loc[copy_data['RECVR_ROAD_BASE_ADDR'].str.contains('오산')] = '경기도'\n",
    "# copy_data['RECVR_ROAD_BASE_ADDR'].loc[copy_data['RECVR_ROAD_BASE_ADDR'].str.contains('안산')] = '안산시'\n",
    "# copy_data['RECVR_ROAD_BASE_ADDR'].loc[copy_data['RECVR_ROAD_BASE_ADDR'].str.contains('군포')] = '군포시'\n",
    "# copy_data['RECVR_ROAD_BASE_ADDR'].loc[copy_data['RECVR_ROAD_BASE_ADDR'].str.contains('안성')] = '경기도'\n",
    "# copy_data['RECVR_ROAD_BASE_ADDR'].loc[copy_data['RECVR_ROAD_BASE_ADDR'].str.contains('구리')] = '경기도'\n",
    "# copy_data['RECVR_ROAD_BASE_ADDR'].loc[copy_data['RECVR_ROAD_BASE_ADDR'].str.contains('파주')] = '파주시'\n",
    "# copy_data['RECVR_ROAD_BASE_ADDR'].loc[copy_data['RECVR_ROAD_BASE_ADDR'].str.contains('광명')] = '광명시'\n",
    "# copy_data['RECVR_ROAD_BASE_ADDR'].loc[copy_data['RECVR_ROAD_BASE_ADDR'].str.contains('과천')] = '경기도'\n",
    "# copy_data['RECVR_ROAD_BASE_ADDR'].loc[copy_data['RECVR_ROAD_BASE_ADDR'].str.contains('포천')] = '경기도'\n",
    "# copy_data['RECVR_ROAD_BASE_ADDR'].loc[copy_data['RECVR_ROAD_BASE_ADDR'].str.contains('남양주')] = '남양주시'\n",
    "# copy_data['RECVR_ROAD_BASE_ADDR'].loc[copy_data['RECVR_ROAD_BASE_ADDR'].str.contains('의정부')] = '경기도'\n",
    "# copy_data['RECVR_ROAD_BASE_ADDR'].loc[copy_data['RECVR_ROAD_BASE_ADDR'].str.contains('시흥')] = '경기도'\n",
    "# copy_data['RECVR_ROAD_BASE_ADDR'].loc[copy_data['RECVR_ROAD_BASE_ADDR'].str.contains('연천')] = '경기도'\n",
    "# copy_data['RECVR_ROAD_BASE_ADDR'].loc[copy_data['RECVR_ROAD_BASE_ADDR'].str.contains('여주')] = '경기도'\n",
    "# copy_data['RECVR_ROAD_BASE_ADDR'].loc[copy_data['RECVR_ROAD_BASE_ADDR'].str.contains('의왕')] = '경기도'\n",
    "# copy_data['RECVR_ROAD_BASE_ADDR'].loc[copy_data['RECVR_ROAD_BASE_ADDR'].str.contains('안양')] = '안양시'\n",
    "# copy_data['RECVR_ROAD_BASE_ADDR'].loc[copy_data['RECVR_ROAD_BASE_ADDR'].str.contains('김포')] = '김포시'\n",
    "# copy_data['RECVR_ROAD_BASE_ADDR'].loc[copy_data['RECVR_ROAD_BASE_ADDR'].str.contains('이천')] = '경기도'\n",
    "# copy_data['RECVR_ROAD_BASE_ADDR'].loc[copy_data['RECVR_ROAD_BASE_ADDR'].str.contains('경기')] = '경기도'\n",
    "# copy_data['RECVR_ROAD_BASE_ADDR'].loc[copy_data['RECVR_ROAD_BASE_ADDR'].str.contains('Gyeonggi')] = '경기도'\n",
    "\n",
    "# copy_data['RECVR_ROAD_BASE_ADDR'].loc[copy_data['RECVR_ROAD_BASE_ADDR'].str.contains('강원')] = '강원도'\n",
    "# copy_data['RECVR_ROAD_BASE_ADDR'].loc[copy_data['RECVR_ROAD_BASE_ADDR'].str.contains('Chungcheongnam-do')] = '충청남도'\n",
    "# copy_data['RECVR_ROAD_BASE_ADDR'].loc[copy_data['RECVR_ROAD_BASE_ADDR'].str.contains('충청남도')] = '충청남도'\n",
    "# copy_data['RECVR_ROAD_BASE_ADDR'].loc[copy_data['RECVR_ROAD_BASE_ADDR'].str.contains('충남')] = '충청남도'\n",
    "# copy_data['RECVR_ROAD_BASE_ADDR'].loc[copy_data['RECVR_ROAD_BASE_ADDR'].str.contains('충청북도')] = '충청북도'\n",
    "# copy_data['RECVR_ROAD_BASE_ADDR'].loc[copy_data['RECVR_ROAD_BASE_ADDR'].str.contains('충북')] = '충청북도'\n",
    "# copy_data['RECVR_ROAD_BASE_ADDR'].loc[copy_data['RECVR_ROAD_BASE_ADDR'].str.contains('Chungcheongbuk-do')] = '충청북도'\n",
    "# copy_data['RECVR_ROAD_BASE_ADDR'].loc[copy_data['RECVR_ROAD_BASE_ADDR'].str.contains('전라남도')] = '전라남도'\n",
    "# copy_data['RECVR_ROAD_BASE_ADDR'].loc[copy_data['RECVR_ROAD_BASE_ADDR'].str.contains('전남')] = '전라남도'\n",
    "# copy_data['RECVR_ROAD_BASE_ADDR'].loc[copy_data['RECVR_ROAD_BASE_ADDR'].str.contains('Jeollanam-do')] = '전라남도'\n",
    "# copy_data['RECVR_ROAD_BASE_ADDR'].loc[copy_data['RECVR_ROAD_BASE_ADDR'].str.contains('전라북도')] = '전라북도'\n",
    "# copy_data['RECVR_ROAD_BASE_ADDR'].loc[copy_data['RECVR_ROAD_BASE_ADDR'].str.contains('전북')] = '전라북도'\n",
    "# copy_data['RECVR_ROAD_BASE_ADDR'].loc[copy_data['RECVR_ROAD_BASE_ADDR'].str.contains('Jeollabuk-do')] = '전라북도'\n",
    "# copy_data['RECVR_ROAD_BASE_ADDR'].loc[copy_data['RECVR_ROAD_BASE_ADDR'].str.contains('경상남도')] = '경상남도'\n",
    "# copy_data['RECVR_ROAD_BASE_ADDR'].loc[copy_data['RECVR_ROAD_BASE_ADDR'].str.contains('경남')] = '경상남도'\n",
    "# copy_data['RECVR_ROAD_BASE_ADDR'].loc[copy_data['RECVR_ROAD_BASE_ADDR'].str.contains('경상북도')] = '경상북도'\n",
    "# copy_data['RECVR_ROAD_BASE_ADDR'].loc[copy_data['RECVR_ROAD_BASE_ADDR'].str.contains('경북')] = '경상북도'\n",
    "# copy_data['RECVR_ROAD_BASE_ADDR'].loc[copy_data['RECVR_ROAD_BASE_ADDR'].str.contains('제주')] = '제주시'"
   ]
  },
  {
   "cell_type": "code",
   "execution_count": 209,
   "metadata": {},
   "outputs": [
    {
     "data": {
      "text/plain": [
       "서울시                  260197\n",
       "인천시                   44932\n",
       "경기도                   37897\n",
       "부산시                   30097\n",
       "용인시                   28781\n",
       "수원시                   24538\n",
       "고양시                   23035\n",
       "성남시                   21537\n",
       "경상남도                  19588\n",
       "충청남도                  18045\n",
       "대구시                   16712\n",
       "경상북도                  16306\n",
       "강원도                   15313\n",
       "화성시                   15199\n",
       "광주시                   14864\n",
       "대전시                   13538\n",
       "충청북도                  13101\n",
       "부천시                   12383\n",
       "안양시                   10947\n",
       "전라북도                  10866\n",
       "전라남도                  10571\n",
       "김포시                    8707\n",
       "안산시                    8072\n",
       "남양주시                   7981\n",
       "광명시                    6901\n",
       "평택시                    6844\n",
       "울산시                    6228\n",
       "파주시                    5935\n",
       "군포시                    5363\n",
       "세종시                    5114\n",
       "하남시                    5093\n",
       "제주시                       8\n",
       "농서로84 삼성전자 남자기숙사          3\n",
       "5, To                     2\n",
       "동탄 하나 1길                  1\n",
       "비전2로2                     1\n",
       "창원시성산구상남동                 1\n",
       "10, Y                     1\n",
       "Name: RECVR_ROAD_BASE_ADDR, dtype: int64"
      ]
     },
     "execution_count": 209,
     "metadata": {},
     "output_type": "execute_result"
    }
   ],
   "source": [
    "copy_data['RECVR_ROAD_BASE_ADDR'].value_counts()"
   ]
  },
  {
   "cell_type": "code",
   "execution_count": 210,
   "metadata": {},
   "outputs": [
    {
     "name": "stderr",
     "output_type": "stream",
     "text": [
      "C:\\Users\\user\\AppData\\Local\\Temp\\ipykernel_4664\\3343321146.py:8: SettingWithCopyWarning: \n",
      "A value is trying to be set on a copy of a slice from a DataFrame\n",
      "\n",
      "See the caveats in the documentation: https://pandas.pydata.org/pandas-docs/stable/user_guide/indexing.html#returning-a-view-versus-a-copy\n",
      "  copy_data['RECVR_ROAD_BASE_ADDR'].loc[~copy_data['RECVR_ROAD_BASE_ADDR'].isin(area)] = '경기도'\n"
     ]
    }
   ],
   "source": [
    "# 위 과정을 거치고도 남은 데이터와 잘못 적재 된 데이터들은 NaN값으로 바꾸어준다.\n",
    "# 해당 결측치는 추우 KNN Imputer나 다른 방법으로 메꿀 예정이다. \n",
    "\n",
    "area = ['서울시','인천시','부산시','대구시','광주시','대전시','울산시','세종시','용인시','고양시','수원시', '강원도',\n",
    "        '성남시','화성시','평택시','하남시','부천시','안산시','군포시', '파주시', '광명시', '남양주시', '안양시', \n",
    "        '김포시','경기도','충청남도','충청북도','전라남도','전라북도','경상남도','경상북도','제주시']\n",
    "\n",
    "copy_data['RECVR_ROAD_BASE_ADDR'].loc[~copy_data['RECVR_ROAD_BASE_ADDR'].isin(area)] = '경기도'"
   ]
  },
  {
   "cell_type": "code",
   "execution_count": 14,
   "metadata": {},
   "outputs": [
    {
     "data": {
      "text/html": [
       "<div>\n",
       "<style scoped>\n",
       "    .dataframe tbody tr th:only-of-type {\n",
       "        vertical-align: middle;\n",
       "    }\n",
       "\n",
       "    .dataframe tbody tr th {\n",
       "        vertical-align: top;\n",
       "    }\n",
       "\n",
       "    .dataframe thead th {\n",
       "        text-align: right;\n",
       "    }\n",
       "</style>\n",
       "<table border=\"1\" class=\"dataframe\">\n",
       "  <thead>\n",
       "    <tr style=\"text-align: right;\">\n",
       "      <th></th>\n",
       "      <th>Unnamed: 0</th>\n",
       "      <th>ORD_NO</th>\n",
       "      <th>H_YMD</th>\n",
       "      <th>O_YMD</th>\n",
       "      <th>PKG_GOODS_NO</th>\n",
       "      <th>PKG_GOODS_NM</th>\n",
       "      <th>GOODS_NO</th>\n",
       "      <th>GOODS_NM</th>\n",
       "      <th>STD_GSGR_NO_LEV1_NM</th>\n",
       "      <th>ORD_QTY</th>\n",
       "      <th>CANCEL_QTY</th>\n",
       "      <th>RET_QTY</th>\n",
       "      <th>REAL_ORD_QTY</th>\n",
       "      <th>RECVR_ROAD_BASE_ADDR</th>\n",
       "      <th>SALE_PRICE</th>\n",
       "      <th>DISCOUNT_AMT</th>\n",
       "      <th>FINAL_PRICE</th>\n",
       "    </tr>\n",
       "  </thead>\n",
       "  <tbody>\n",
       "    <tr>\n",
       "      <th>0</th>\n",
       "      <td>0</td>\n",
       "      <td>202201095519105</td>\n",
       "      <td>2022-01-11 00:00:00</td>\n",
       "      <td>2022-01-09 12:26:10</td>\n",
       "      <td>단품</td>\n",
       "      <td>단품</td>\n",
       "      <td>1901012353</td>\n",
       "      <td>수제계란말이(350g)</td>\n",
       "      <td>반찬</td>\n",
       "      <td>1</td>\n",
       "      <td>0</td>\n",
       "      <td>0</td>\n",
       "      <td>1</td>\n",
       "      <td>충청북도 증평군 증평읍 송산로 11 (지평더웰아파트)</td>\n",
       "      <td>6900</td>\n",
       "      <td>569.0</td>\n",
       "      <td>6331</td>\n",
       "    </tr>\n",
       "    <tr>\n",
       "      <th>1</th>\n",
       "      <td>1</td>\n",
       "      <td>202201105522898</td>\n",
       "      <td>2022-01-11 00:00:00</td>\n",
       "      <td>2022-01-10 10:35:49</td>\n",
       "      <td>단품</td>\n",
       "      <td>단품</td>\n",
       "      <td>1901012353</td>\n",
       "      <td>수제계란말이(350g)</td>\n",
       "      <td>반찬</td>\n",
       "      <td>1</td>\n",
       "      <td>0</td>\n",
       "      <td>0</td>\n",
       "      <td>1</td>\n",
       "      <td>서울특별시 강남구 논현로85길 52 (역삼동)</td>\n",
       "      <td>6900</td>\n",
       "      <td>177.0</td>\n",
       "      <td>6723</td>\n",
       "    </tr>\n",
       "    <tr>\n",
       "      <th>2</th>\n",
       "      <td>2</td>\n",
       "      <td>202201115527172</td>\n",
       "      <td>2022-01-12 00:00:00</td>\n",
       "      <td>2022-01-11 11:38:32</td>\n",
       "      <td>단품</td>\n",
       "      <td>단품</td>\n",
       "      <td>1901012353</td>\n",
       "      <td>수제계란말이(350g)</td>\n",
       "      <td>반찬</td>\n",
       "      <td>1</td>\n",
       "      <td>0</td>\n",
       "      <td>0</td>\n",
       "      <td>1</td>\n",
       "      <td>서울특별시 송파구 올림픽로4길 42 (잠실동, 우성아파트)</td>\n",
       "      <td>6900</td>\n",
       "      <td>221.0</td>\n",
       "      <td>6679</td>\n",
       "    </tr>\n",
       "    <tr>\n",
       "      <th>3</th>\n",
       "      <td>3</td>\n",
       "      <td>202201105523467</td>\n",
       "      <td>2022-01-12 00:00:00</td>\n",
       "      <td>2022-01-10 13:21:51</td>\n",
       "      <td>단품</td>\n",
       "      <td>단품</td>\n",
       "      <td>1901012353</td>\n",
       "      <td>수제계란말이(350g)</td>\n",
       "      <td>반찬</td>\n",
       "      <td>1</td>\n",
       "      <td>0</td>\n",
       "      <td>0</td>\n",
       "      <td>1</td>\n",
       "      <td>강원도 속초시 도리원길 11-14 (노학동)</td>\n",
       "      <td>6900</td>\n",
       "      <td>128.0</td>\n",
       "      <td>6772</td>\n",
       "    </tr>\n",
       "    <tr>\n",
       "      <th>4</th>\n",
       "      <td>4</td>\n",
       "      <td>202201105522519</td>\n",
       "      <td>2022-01-11 00:00:00</td>\n",
       "      <td>2022-01-10 08:16:21</td>\n",
       "      <td>단품</td>\n",
       "      <td>단품</td>\n",
       "      <td>1901012353</td>\n",
       "      <td>수제계란말이(350g)</td>\n",
       "      <td>반찬</td>\n",
       "      <td>1</td>\n",
       "      <td>0</td>\n",
       "      <td>0</td>\n",
       "      <td>1</td>\n",
       "      <td>경기도 용인시 수지구 동천로 64 (동천동, 동천마을동문굿모닝힐5차아파트)</td>\n",
       "      <td>6900</td>\n",
       "      <td>157.0</td>\n",
       "      <td>6743</td>\n",
       "    </tr>\n",
       "  </tbody>\n",
       "</table>\n",
       "</div>"
      ],
      "text/plain": [
       "   Unnamed: 0           ORD_NO                H_YMD                O_YMD  \\\n",
       "0           0  202201095519105  2022-01-11 00:00:00  2022-01-09 12:26:10   \n",
       "1           1  202201105522898  2022-01-11 00:00:00  2022-01-10 10:35:49   \n",
       "2           2  202201115527172  2022-01-12 00:00:00  2022-01-11 11:38:32   \n",
       "3           3  202201105523467  2022-01-12 00:00:00  2022-01-10 13:21:51   \n",
       "4           4  202201105522519  2022-01-11 00:00:00  2022-01-10 08:16:21   \n",
       "\n",
       "  PKG_GOODS_NO PKG_GOODS_NM    GOODS_NO      GOODS_NM STD_GSGR_NO_LEV1_NM  \\\n",
       "0           단품           단품  1901012353  수제계란말이(350g)                  반찬   \n",
       "1           단품           단품  1901012353  수제계란말이(350g)                  반찬   \n",
       "2           단품           단품  1901012353  수제계란말이(350g)                  반찬   \n",
       "3           단품           단품  1901012353  수제계란말이(350g)                  반찬   \n",
       "4           단품           단품  1901012353  수제계란말이(350g)                  반찬   \n",
       "\n",
       "   ORD_QTY  CANCEL_QTY  RET_QTY  REAL_ORD_QTY  \\\n",
       "0        1           0        0             1   \n",
       "1        1           0        0             1   \n",
       "2        1           0        0             1   \n",
       "3        1           0        0             1   \n",
       "4        1           0        0             1   \n",
       "\n",
       "                        RECVR_ROAD_BASE_ADDR  SALE_PRICE  DISCOUNT_AMT  \\\n",
       "0              충청북도 증평군 증평읍 송산로 11 (지평더웰아파트)        6900         569.0   \n",
       "1                  서울특별시 강남구 논현로85길 52 (역삼동)        6900         177.0   \n",
       "2           서울특별시 송파구 올림픽로4길 42 (잠실동, 우성아파트)        6900         221.0   \n",
       "3                   강원도 속초시 도리원길 11-14 (노학동)        6900         128.0   \n",
       "4  경기도 용인시 수지구 동천로 64 (동천동, 동천마을동문굿모닝힐5차아파트)        6900         157.0   \n",
       "\n",
       "   FINAL_PRICE  \n",
       "0         6331  \n",
       "1         6723  \n",
       "2         6679  \n",
       "3         6772  \n",
       "4         6743  "
      ]
     },
     "execution_count": 14,
     "metadata": {},
     "output_type": "execute_result"
    }
   ],
   "source": [
    "copy_data.head()"
   ]
  },
  {
   "cell_type": "code",
   "execution_count": 212,
   "metadata": {},
   "outputs": [
    {
     "data": {
      "text/plain": [
       "서울시     260197\n",
       "인천시      44932\n",
       "경기도      37906\n",
       "부산시      30097\n",
       "용인시      28781\n",
       "수원시      24538\n",
       "고양시      23035\n",
       "성남시      21537\n",
       "경상남도     19588\n",
       "충청남도     18045\n",
       "대구시      16712\n",
       "경상북도     16306\n",
       "강원도      15313\n",
       "화성시      15199\n",
       "광주시      14864\n",
       "대전시      13538\n",
       "충청북도     13101\n",
       "부천시      12383\n",
       "안양시      10947\n",
       "전라북도     10866\n",
       "전라남도     10571\n",
       "김포시       8707\n",
       "안산시       8072\n",
       "남양주시      7981\n",
       "광명시       6901\n",
       "평택시       6844\n",
       "울산시       6228\n",
       "파주시       5935\n",
       "군포시       5363\n",
       "세종시       5114\n",
       "하남시       5093\n",
       "제주시          8\n",
       "Name: RECVR_ROAD_BASE_ADDR, dtype: int64"
      ]
     },
     "execution_count": 212,
     "metadata": {},
     "output_type": "execute_result"
    }
   ],
   "source": [
    "# 원하는 지역별로 잘 나누어진 모습이다.\n",
    "copy_data['RECVR_ROAD_BASE_ADDR'].value_counts()"
   ]
  },
  {
   "cell_type": "code",
   "execution_count": 157,
   "metadata": {},
   "outputs": [
    {
     "data": {
      "text/plain": [
       "0"
      ]
     },
     "execution_count": 157,
     "metadata": {},
     "output_type": "execute_result"
    }
   ],
   "source": [
    "# 약 10개 가량의 결측치가 생겼다.\n",
    "# 이는 추후에 KNN imputer나 다른 방식으로 채워줄 예정이다.\n",
    "copy_data['RECVR_ROAD_BASE_ADDR'].isna().sum()"
   ]
  },
  {
   "cell_type": "code",
   "execution_count": 109,
   "metadata": {},
   "outputs": [
    {
     "data": {
      "text/plain": [
       "0                1901012353_수제계란말이(350g)\n",
       "1                1901012353_수제계란말이(350g)\n",
       "2                1901012353_수제계란말이(350g)\n",
       "3                1901012353_수제계란말이(350g)\n",
       "4                1901012353_수제계란말이(350g)\n",
       "                       ...              \n",
       "724697                  14375_옛날잡채(500g)\n",
       "724698    1909013359_가정집 오징어불고기/셀프(380g)\n",
       "724699    1909013359_가정집 오징어불고기/셀프(380g)\n",
       "724700                  14375_옛날잡채(500g)\n",
       "724701                  14375_옛날잡채(500g)\n",
       "Name: GOODS, Length: 724702, dtype: object"
      ]
     },
     "execution_count": 109,
     "metadata": {},
     "output_type": "execute_result"
    }
   ],
   "source": [
    "#자재코드와 자재명 합치기\n",
    "copy_data['GOODS'] = copy_data[\"GOODS_NO\"].astype(str) + '_' +  copy_data['GOODS_NM']\n",
    "copy_data.GOODS"
   ]
  },
  {
   "cell_type": "markdown",
   "metadata": {},
   "source": [
    "c) 불필요한 컬럼 제거"
   ]
  },
  {
   "cell_type": "code",
   "execution_count": 110,
   "metadata": {},
   "outputs": [
    {
     "data": {
      "text/plain": [
       "Index(['Unnamed: 0', 'ORD_NO', 'H_YMD', 'O_YMD', 'PKG_GOODS_NO',\n",
       "       'PKG_GOODS_NM', 'GOODS_NO', 'GOODS_NM', 'STD_GSGR_NO_LEV1_NM',\n",
       "       'ORD_QTY', 'CANCEL_QTY', 'RET_QTY', 'REAL_ORD_QTY',\n",
       "       'RECVR_ROAD_BASE_ADDR', 'SALE_PRICE', 'DISCOUNT_AMT', 'FINAL_PRICE',\n",
       "       'GOODS'],\n",
       "      dtype='object')"
      ]
     },
     "execution_count": 110,
     "metadata": {},
     "output_type": "execute_result"
    }
   ],
   "source": [
    "copy_data.columns "
   ]
  },
  {
   "cell_type": "code",
   "execution_count": 111,
   "metadata": {},
   "outputs": [],
   "source": [
    "dummy_col = ['Unnamed: 0', 'ORD_NO', 'PKG_GOODS_NO', 'RECVR_ROAD_BASE_ADDR',\n",
    "             'GOODS_NO', 'GOODS_NM']\n",
    "copy_data = copy_data.drop(dummy_col, axis=1)"
   ]
  },
  {
   "cell_type": "code",
   "execution_count": 112,
   "metadata": {},
   "outputs": [
    {
     "data": {
      "text/html": [
       "<div>\n",
       "<style scoped>\n",
       "    .dataframe tbody tr th:only-of-type {\n",
       "        vertical-align: middle;\n",
       "    }\n",
       "\n",
       "    .dataframe tbody tr th {\n",
       "        vertical-align: top;\n",
       "    }\n",
       "\n",
       "    .dataframe thead th {\n",
       "        text-align: right;\n",
       "    }\n",
       "</style>\n",
       "<table border=\"1\" class=\"dataframe\">\n",
       "  <thead>\n",
       "    <tr style=\"text-align: right;\">\n",
       "      <th></th>\n",
       "      <th>H_YMD</th>\n",
       "      <th>O_YMD</th>\n",
       "      <th>PKG_GOODS_NM</th>\n",
       "      <th>STD_GSGR_NO_LEV1_NM</th>\n",
       "      <th>ORD_QTY</th>\n",
       "      <th>CANCEL_QTY</th>\n",
       "      <th>RET_QTY</th>\n",
       "      <th>REAL_ORD_QTY</th>\n",
       "      <th>SALE_PRICE</th>\n",
       "      <th>DISCOUNT_AMT</th>\n",
       "      <th>FINAL_PRICE</th>\n",
       "      <th>GOODS</th>\n",
       "    </tr>\n",
       "  </thead>\n",
       "  <tbody>\n",
       "    <tr>\n",
       "      <th>724697</th>\n",
       "      <td>2020-03-12 00:00:00</td>\n",
       "      <td>2020-03-05 00:50:32</td>\n",
       "      <td>단품</td>\n",
       "      <td>메인요리</td>\n",
       "      <td>9</td>\n",
       "      <td>0</td>\n",
       "      <td>0</td>\n",
       "      <td>9</td>\n",
       "      <td>8600</td>\n",
       "      <td>NaN</td>\n",
       "      <td>8600</td>\n",
       "      <td>14375_옛날잡채(500g)</td>\n",
       "    </tr>\n",
       "    <tr>\n",
       "      <th>724698</th>\n",
       "      <td>2020-03-09 00:00:00</td>\n",
       "      <td>2020-03-06 11:38:04</td>\n",
       "      <td>단품</td>\n",
       "      <td>반찬</td>\n",
       "      <td>16</td>\n",
       "      <td>0</td>\n",
       "      <td>0</td>\n",
       "      <td>16</td>\n",
       "      <td>9900</td>\n",
       "      <td>464.0</td>\n",
       "      <td>9436</td>\n",
       "      <td>1909013359_가정집 오징어불고기/셀프(380g)</td>\n",
       "    </tr>\n",
       "    <tr>\n",
       "      <th>724699</th>\n",
       "      <td>2020-03-23 00:00:00</td>\n",
       "      <td>2020-03-20 20:04:27</td>\n",
       "      <td>단품</td>\n",
       "      <td>반찬</td>\n",
       "      <td>16</td>\n",
       "      <td>0</td>\n",
       "      <td>0</td>\n",
       "      <td>16</td>\n",
       "      <td>9900</td>\n",
       "      <td>NaN</td>\n",
       "      <td>9900</td>\n",
       "      <td>1909013359_가정집 오징어불고기/셀프(380g)</td>\n",
       "    </tr>\n",
       "    <tr>\n",
       "      <th>724700</th>\n",
       "      <td>2020-03-26 00:00:00</td>\n",
       "      <td>2020-03-23 19:20:15</td>\n",
       "      <td>단품</td>\n",
       "      <td>메인요리</td>\n",
       "      <td>20</td>\n",
       "      <td>0</td>\n",
       "      <td>0</td>\n",
       "      <td>20</td>\n",
       "      <td>8600</td>\n",
       "      <td>NaN</td>\n",
       "      <td>8600</td>\n",
       "      <td>14375_옛날잡채(500g)</td>\n",
       "    </tr>\n",
       "    <tr>\n",
       "      <th>724701</th>\n",
       "      <td>2020-03-30 00:00:00</td>\n",
       "      <td>2020-03-27 15:04:00</td>\n",
       "      <td>단품</td>\n",
       "      <td>메인요리</td>\n",
       "      <td>30</td>\n",
       "      <td>0</td>\n",
       "      <td>0</td>\n",
       "      <td>30</td>\n",
       "      <td>8600</td>\n",
       "      <td>NaN</td>\n",
       "      <td>8600</td>\n",
       "      <td>14375_옛날잡채(500g)</td>\n",
       "    </tr>\n",
       "  </tbody>\n",
       "</table>\n",
       "</div>"
      ],
      "text/plain": [
       "                      H_YMD                O_YMD PKG_GOODS_NM  \\\n",
       "724697  2020-03-12 00:00:00  2020-03-05 00:50:32           단품   \n",
       "724698  2020-03-09 00:00:00  2020-03-06 11:38:04           단품   \n",
       "724699  2020-03-23 00:00:00  2020-03-20 20:04:27           단품   \n",
       "724700  2020-03-26 00:00:00  2020-03-23 19:20:15           단품   \n",
       "724701  2020-03-30 00:00:00  2020-03-27 15:04:00           단품   \n",
       "\n",
       "       STD_GSGR_NO_LEV1_NM  ORD_QTY  CANCEL_QTY  RET_QTY  REAL_ORD_QTY  \\\n",
       "724697                메인요리        9           0        0             9   \n",
       "724698                  반찬       16           0        0            16   \n",
       "724699                  반찬       16           0        0            16   \n",
       "724700                메인요리       20           0        0            20   \n",
       "724701                메인요리       30           0        0            30   \n",
       "\n",
       "        SALE_PRICE  DISCOUNT_AMT  FINAL_PRICE                           GOODS  \n",
       "724697        8600           NaN         8600                14375_옛날잡채(500g)  \n",
       "724698        9900         464.0         9436  1909013359_가정집 오징어불고기/셀프(380g)  \n",
       "724699        9900           NaN         9900  1909013359_가정집 오징어불고기/셀프(380g)  \n",
       "724700        8600           NaN         8600                14375_옛날잡채(500g)  \n",
       "724701        8600           NaN         8600                14375_옛날잡채(500g)  "
      ]
     },
     "execution_count": 112,
     "metadata": {},
     "output_type": "execute_result"
    }
   ],
   "source": [
    "copy_data.tail()"
   ]
  },
  {
   "cell_type": "code",
   "execution_count": 75,
   "metadata": {},
   "outputs": [
    {
     "data": {
      "text/html": [
       "<div>\n",
       "<style scoped>\n",
       "    .dataframe tbody tr th:only-of-type {\n",
       "        vertical-align: middle;\n",
       "    }\n",
       "\n",
       "    .dataframe tbody tr th {\n",
       "        vertical-align: top;\n",
       "    }\n",
       "\n",
       "    .dataframe thead th {\n",
       "        text-align: right;\n",
       "    }\n",
       "</style>\n",
       "<table border=\"1\" class=\"dataframe\">\n",
       "  <thead>\n",
       "    <tr style=\"text-align: right;\">\n",
       "      <th></th>\n",
       "      <th>ORD_QTY</th>\n",
       "      <th>CANCEL_QTY</th>\n",
       "      <th>RET_QTY</th>\n",
       "      <th>REAL_ORD_QTY</th>\n",
       "      <th>SALE_PRICE</th>\n",
       "      <th>DISCOUNT_AMT</th>\n",
       "      <th>FINAL_PRICE</th>\n",
       "    </tr>\n",
       "  </thead>\n",
       "  <tbody>\n",
       "    <tr>\n",
       "      <th>ORD_QTY</th>\n",
       "      <td>1.000000</td>\n",
       "      <td>0.206051</td>\n",
       "      <td>0.022218</td>\n",
       "      <td>0.826752</td>\n",
       "      <td>0.018099</td>\n",
       "      <td>0.140279</td>\n",
       "      <td>0.000686</td>\n",
       "    </tr>\n",
       "    <tr>\n",
       "      <th>CANCEL_QTY</th>\n",
       "      <td>0.206051</td>\n",
       "      <td>1.000000</td>\n",
       "      <td>-0.009708</td>\n",
       "      <td>-0.380136</td>\n",
       "      <td>-0.010178</td>\n",
       "      <td>0.032517</td>\n",
       "      <td>-0.022129</td>\n",
       "    </tr>\n",
       "    <tr>\n",
       "      <th>RET_QTY</th>\n",
       "      <td>0.022218</td>\n",
       "      <td>-0.009708</td>\n",
       "      <td>1.000000</td>\n",
       "      <td>0.026582</td>\n",
       "      <td>0.003935</td>\n",
       "      <td>0.014294</td>\n",
       "      <td>-0.000072</td>\n",
       "    </tr>\n",
       "    <tr>\n",
       "      <th>REAL_ORD_QTY</th>\n",
       "      <td>0.826752</td>\n",
       "      <td>-0.380136</td>\n",
       "      <td>0.026582</td>\n",
       "      <td>1.000000</td>\n",
       "      <td>0.022960</td>\n",
       "      <td>0.098884</td>\n",
       "      <td>0.013371</td>\n",
       "    </tr>\n",
       "    <tr>\n",
       "      <th>SALE_PRICE</th>\n",
       "      <td>0.018099</td>\n",
       "      <td>-0.010178</td>\n",
       "      <td>0.003935</td>\n",
       "      <td>0.022960</td>\n",
       "      <td>1.000000</td>\n",
       "      <td>0.462131</td>\n",
       "      <td>0.830052</td>\n",
       "    </tr>\n",
       "    <tr>\n",
       "      <th>DISCOUNT_AMT</th>\n",
       "      <td>0.140279</td>\n",
       "      <td>0.032517</td>\n",
       "      <td>0.014294</td>\n",
       "      <td>0.098884</td>\n",
       "      <td>0.462131</td>\n",
       "      <td>1.000000</td>\n",
       "      <td>-0.284285</td>\n",
       "    </tr>\n",
       "    <tr>\n",
       "      <th>FINAL_PRICE</th>\n",
       "      <td>0.000686</td>\n",
       "      <td>-0.022129</td>\n",
       "      <td>-0.000072</td>\n",
       "      <td>0.013371</td>\n",
       "      <td>0.830052</td>\n",
       "      <td>-0.284285</td>\n",
       "      <td>1.000000</td>\n",
       "    </tr>\n",
       "  </tbody>\n",
       "</table>\n",
       "</div>"
      ],
      "text/plain": [
       "               ORD_QTY  CANCEL_QTY   RET_QTY  REAL_ORD_QTY  SALE_PRICE  \\\n",
       "ORD_QTY       1.000000    0.206051  0.022218      0.826752    0.018099   \n",
       "CANCEL_QTY    0.206051    1.000000 -0.009708     -0.380136   -0.010178   \n",
       "RET_QTY       0.022218   -0.009708  1.000000      0.026582    0.003935   \n",
       "REAL_ORD_QTY  0.826752   -0.380136  0.026582      1.000000    0.022960   \n",
       "SALE_PRICE    0.018099   -0.010178  0.003935      0.022960    1.000000   \n",
       "DISCOUNT_AMT  0.140279    0.032517  0.014294      0.098884    0.462131   \n",
       "FINAL_PRICE   0.000686   -0.022129 -0.000072      0.013371    0.830052   \n",
       "\n",
       "              DISCOUNT_AMT  FINAL_PRICE  \n",
       "ORD_QTY           0.140279     0.000686  \n",
       "CANCEL_QTY        0.032517    -0.022129  \n",
       "RET_QTY           0.014294    -0.000072  \n",
       "REAL_ORD_QTY      0.098884     0.013371  \n",
       "SALE_PRICE        0.462131     0.830052  \n",
       "DISCOUNT_AMT      1.000000    -0.284285  \n",
       "FINAL_PRICE      -0.284285     1.000000  "
      ]
     },
     "execution_count": 75,
     "metadata": {},
     "output_type": "execute_result"
    }
   ],
   "source": [
    "# 데이터 상관관계 분석\n",
    "copy_data.corr()"
   ]
  },
  {
   "cell_type": "code",
   "execution_count": 76,
   "metadata": {},
   "outputs": [
    {
     "name": "stderr",
     "output_type": "stream",
     "text": [
      "c:\\Users\\SUNGHYUN\\anaconda3\\lib\\site-packages\\seaborn\\utils.py:95: UserWarning: Glyph 8722 (\\N{MINUS SIGN}) missing from current font.\n",
      "  fig.canvas.draw()\n"
     ]
    },
    {
     "data": {
      "text/plain": [
       "<AxesSubplot:>"
      ]
     },
     "execution_count": 76,
     "metadata": {},
     "output_type": "execute_result"
    },
    {
     "name": "stderr",
     "output_type": "stream",
     "text": [
      "c:\\Users\\SUNGHYUN\\anaconda3\\lib\\site-packages\\IPython\\core\\pylabtools.py:151: UserWarning: Glyph 8722 (\\N{MINUS SIGN}) missing from current font.\n",
      "  fig.canvas.print_figure(bytes_io, **kw)\n"
     ]
    },
    {
     "data": {
      "image/png": "[encoded data removed]",
      "text/plain": [
       "<Figure size 432x288 with 2 Axes>"
      ]
     },
     "metadata": {
      "needs_background": "light"
     },
     "output_type": "display_data"
    }
   ],
   "source": [
    "sns.heatmap(copy_data.corr())"
   ]
  },
  {
   "cell_type": "markdown",
   "metadata": {},
   "source": [
    "### 1.3 단변량 분석"
   ]
  },
  {
   "cell_type": "code",
   "execution_count": null,
   "metadata": {},
   "outputs": [],
   "source": [
    "# 1. 가격이 낮을수록 판매량이 많을 것이다.\n",
    "# 2. 할인액이 높을수록 판매량이 많을 것이다.\n",
    "# 3. 계절별로 판매되는 제품의 수가 다를 것이다.\n",
    "# 4. 고단백 식품이 여름에 더 많이 팔릴 것이다.\n",
    "# 5. 명절에 명절음식 뿐 아니라 다른 음식도 판매량이 늘 것이다.\n",
    "# 6. 네고왕 홍보 이후(2022.05.26)에 판매량이 늘었을 것이다.(06.08 까지)\n",
    "# 7. 카테고리별로 판매량이 다를 것이다.\n",
    "# 8. 배달 주소건수 비율이 높은 지역은 취소나 환불이 적을 것이다.\n",
    "# 9. 주문하는 시간대는 주로 퇴근시간대나 그 이후일 것이다.\n",
    "# 10. 재철재료가 들어간 식품은 그 계절에 잘 팔릴 것이다.\n",
    "# 11. 2022.06.02 대장균 검출 기사가 난 이후 판매량이 줄었을 것이다.\n",
    "# 12. 2021.06.15 새벽배송 시간이 연장되고 주문량이 늘었을 것이다.\n",
    "# 13. 주 고객층은 자녀를 둔 부모나 혼자사는 사람일 것이다."
   ]
  },
  {
   "cell_type": "code",
   "execution_count": 77,
   "metadata": {},
   "outputs": [],
   "source": [
    "#test_data = pd.read_csv(r'C:\\Users\\user\\Desktop\\intern.csv',  parse_dates=[\"H_YMD\"])\n",
    "test_data = copy_data.copy()"
   ]
  },
  {
   "cell_type": "code",
   "execution_count": 78,
   "metadata": {},
   "outputs": [],
   "source": [
    "test_data[\"H_DATETIME\"] = pd.to_datetime(test_data[\"H_YMD\"], format='%Y-%m-%d %H:%M:%S', errors='raise')"
   ]
  },
  {
   "cell_type": "code",
   "execution_count": 79,
   "metadata": {},
   "outputs": [],
   "source": [
    "def extract_20_month(date):\n",
    "    if date.year == 2020:\n",
    "        return str(date.year) + str('-') + str(date.month).rjust(2,'0')\n",
    "\n",
    "def extract_21_month(date):\n",
    "    if date.year == 2021:\n",
    "        return str(date.year) + str('-') + str(date.month).rjust(2,'0')\n",
    "\n",
    "def extract_22_month(date): \n",
    "    if date.year == 2022:\n",
    "        return str(date.year) + str('-') + str(date.month).rjust(2,'0')\n"
   ]
  },
  {
   "cell_type": "code",
   "execution_count": 80,
   "metadata": {},
   "outputs": [
    {
     "data": {
      "text/plain": [
       "[<matplotlib.lines.Line2D at 0x2ede29bf0a0>]"
      ]
     },
     "execution_count": 80,
     "metadata": {},
     "output_type": "execute_result"
    },
    {
     "data": {
      "image/png": "[encoded data removed]",
      "text/plain": [
       "<Figure size 1440x1440 with 3 Axes>"
      ]
     },
     "metadata": {
      "needs_background": "light"
     },
     "output_type": "display_data"
    }
   ],
   "source": [
    "rev_by_20_month=test_data.set_index('H_DATETIME').groupby(extract_20_month).sum()['REAL_ORD_QTY']\n",
    "rev_by_21_month=test_data.set_index('H_DATETIME').groupby(extract_21_month).sum()['REAL_ORD_QTY']\n",
    "rev_by_22_month=test_data.set_index('H_DATETIME').groupby(extract_22_month).sum()['REAL_ORD_QTY']\n",
    "\n",
    "plt.figure(figsize=(20,20))\n",
    "plt.subplot(3,1,1)\n",
    "plt.plot(rev_by_20_month)\n",
    "\n",
    "plt.subplot(3,1,2)\n",
    "plt.plot(rev_by_21_month)\n",
    "\n",
    "plt.subplot(3,1,3)\n",
    "plt.plot(rev_by_22_month)"
   ]
  },
  {
   "cell_type": "markdown",
   "metadata": {},
   "source": [
    "- 12. 2021.06.15 새벽배송 시간이 연장되고 주문량이 늘었을 것이다.\n",
    "- 6. 네고왕 홍보 이후(2022.05.26)에 판매량이 늘었을 것이다.(06.08 까지)\n",
    "\n",
    "- 네고왕의 홍보와 새벽배송 서비스가 매우 효과적이었음을 확인할 수 있다. \n",
    "- 더반찬 어플의 경우 주 고객층의 연령대가 그리 높지 않을 것으로 추측되고, 개인부터 가족까지 그 범위가 다양하기 때문에\n",
    "  그들을 공략할 수 있는 서비스와 홍보가 매우 중요하다는 것을 확인할 수 있었다."
   ]
  },
  {
   "cell_type": "code",
   "execution_count": 81,
   "metadata": {},
   "outputs": [],
   "source": [
    "test_data[\"O_DATETIME\"] = pd.to_datetime(test_data[\"O_YMD\"], format='%Y-%m-%d %H:%M:%S', errors='raise')"
   ]
  },
  {
   "cell_type": "code",
   "execution_count": 82,
   "metadata": {},
   "outputs": [],
   "source": [
    "def extract_20_hour(date):\n",
    "    if date.year == 2020:\n",
    "        return str(date.hour).rjust(2,'0')\n",
    "\n",
    "def extract_21_hour(date):\n",
    "    if date.year == 2021:\n",
    "        return str(date.hour).rjust(2,'0')\n",
    "\n",
    "def extract_22_hour(date):\n",
    "    if date.year == 2022:\n",
    "        return str(date.hour).rjust(2,'0')\n"
   ]
  },
  {
   "cell_type": "code",
   "execution_count": 83,
   "metadata": {},
   "outputs": [
    {
     "data": {
      "text/plain": [
       "[<matplotlib.lines.Line2D at 0x2ede1d91f10>]"
      ]
     },
     "execution_count": 83,
     "metadata": {},
     "output_type": "execute_result"
    },
    {
     "data": {
      "image/png": "[encoded data removed]",
      "text/plain": [
       "<Figure size 1440x1440 with 3 Axes>"
      ]
     },
     "metadata": {
      "needs_background": "light"
     },
     "output_type": "display_data"
    }
   ],
   "source": [
    "rev_by_20_hour=test_data.set_index('O_DATETIME').groupby(extract_20_hour).sum()['REAL_ORD_QTY']\n",
    "rev_by_21_hour=test_data.set_index('O_DATETIME').groupby(extract_21_hour).sum()['REAL_ORD_QTY']\n",
    "rev_by_22_hour=test_data.set_index('O_DATETIME').groupby(extract_22_hour).sum()['REAL_ORD_QTY']\n",
    "\n",
    "plt.figure(figsize=(20,20))\n",
    "plt.subplot(3,1,1)\n",
    "plt.plot(rev_by_20_hour)\n",
    "\n",
    "plt.subplot(3,1,2)\n",
    "plt.plot(rev_by_21_hour)\n",
    "\n",
    "plt.subplot(3,1,3)\n",
    "plt.plot(rev_by_22_hour)"
   ]
  },
  {
   "cell_type": "markdown",
   "metadata": {},
   "source": [
    "- 주로 점심시간 직전, 저녁시간 직전에 주문 수가 많아지는 것을 확인할 수 있다.\n",
    "- 배가고플 때 일반적으로 배달앱을 많이 키는 것처럼 더반찬 사이트에도 많이 접속하는 것으로 볼 수 있다.\n",
    "- 사람들이 배가 고플 때 배달 어플이 아니라 더반찬 어플을 사용할 수 있는 이유을 만들어 주면 더 높은 매출을 달성할 수 있을것이다."
   ]
  },
  {
   "cell_type": "code",
   "execution_count": 85,
   "metadata": {},
   "outputs": [
    {
     "data": {
      "text/html": [
       "<div>\n",
       "<style scoped>\n",
       "    .dataframe tbody tr th:only-of-type {\n",
       "        vertical-align: middle;\n",
       "    }\n",
       "\n",
       "    .dataframe tbody tr th {\n",
       "        vertical-align: top;\n",
       "    }\n",
       "\n",
       "    .dataframe thead th {\n",
       "        text-align: right;\n",
       "    }\n",
       "</style>\n",
       "<table border=\"1\" class=\"dataframe\">\n",
       "  <thead>\n",
       "    <tr style=\"text-align: right;\">\n",
       "      <th></th>\n",
       "      <th></th>\n",
       "      <th>REAL_ORD_QTY</th>\n",
       "    </tr>\n",
       "    <tr>\n",
       "      <th>GOODS</th>\n",
       "      <th>PKG_GOODS_NM</th>\n",
       "      <th></th>\n",
       "    </tr>\n",
       "  </thead>\n",
       "  <tbody>\n",
       "    <tr>\n",
       "      <th rowspan=\"2\" valign=\"top\">13529_메밀소바(2인분)</th>\n",
       "      <th>단품</th>\n",
       "      <td>14747</td>\n",
       "    </tr>\n",
       "    <tr>\n",
       "      <th>세트</th>\n",
       "      <td>1278</td>\n",
       "    </tr>\n",
       "    <tr>\n",
       "      <th>13957_셀프두부조림(600g)</th>\n",
       "      <th>단품</th>\n",
       "      <td>51600</td>\n",
       "    </tr>\n",
       "    <tr>\n",
       "      <th rowspan=\"2\" valign=\"top\">14375_옛날잡채(500g)</th>\n",
       "      <th>단품</th>\n",
       "      <td>116989</td>\n",
       "    </tr>\n",
       "    <tr>\n",
       "      <th>세트</th>\n",
       "      <td>6414</td>\n",
       "    </tr>\n",
       "    <tr>\n",
       "      <th rowspan=\"2\" valign=\"top\">14985_양장피</th>\n",
       "      <th>단품</th>\n",
       "      <td>26697</td>\n",
       "    </tr>\n",
       "    <tr>\n",
       "      <th>세트</th>\n",
       "      <td>36</td>\n",
       "    </tr>\n",
       "    <tr>\n",
       "      <th rowspan=\"2\" valign=\"top\">1712010310_두메산나물비빔밥재료</th>\n",
       "      <th>단품</th>\n",
       "      <td>169708</td>\n",
       "    </tr>\n",
       "    <tr>\n",
       "      <th>세트</th>\n",
       "      <td>8433</td>\n",
       "    </tr>\n",
       "    <tr>\n",
       "      <th>1803010879_고소한도토리묵무침(265g)</th>\n",
       "      <th>단품</th>\n",
       "      <td>22399</td>\n",
       "    </tr>\n",
       "    <tr>\n",
       "      <th>1803010879_고소한도토리묵무침(360g)</th>\n",
       "      <th>단품</th>\n",
       "      <td>4817</td>\n",
       "    </tr>\n",
       "    <tr>\n",
       "      <th>1805011121_건고사리나물볶음(150g)</th>\n",
       "      <th>단품</th>\n",
       "      <td>17964</td>\n",
       "    </tr>\n",
       "    <tr>\n",
       "      <th>1805011121_고사리나물볶음(150g)</th>\n",
       "      <th>단품</th>\n",
       "      <td>4233</td>\n",
       "    </tr>\n",
       "    <tr>\n",
       "      <th rowspan=\"2\" valign=\"top\">1806011271_열무비빔밥재료믹스(2인분)</th>\n",
       "      <th>단품</th>\n",
       "      <td>7594</td>\n",
       "    </tr>\n",
       "    <tr>\n",
       "      <th>세트</th>\n",
       "      <td>2792</td>\n",
       "    </tr>\n",
       "    <tr>\n",
       "      <th rowspan=\"2\" valign=\"top\">1808011751_꼬막무침 (250g)</th>\n",
       "      <th>단품</th>\n",
       "      <td>27054</td>\n",
       "    </tr>\n",
       "    <tr>\n",
       "      <th>세트</th>\n",
       "      <td>39</td>\n",
       "    </tr>\n",
       "    <tr>\n",
       "      <th>1808011751_꼬막무침 (260g)</th>\n",
       "      <th>단품</th>\n",
       "      <td>9708</td>\n",
       "    </tr>\n",
       "    <tr>\n",
       "      <th rowspan=\"2\" valign=\"top\">1823_숙주나물(300g)</th>\n",
       "      <th>단품</th>\n",
       "      <td>42904</td>\n",
       "    </tr>\n",
       "    <tr>\n",
       "      <th>세트</th>\n",
       "      <td>943</td>\n",
       "    </tr>\n",
       "    <tr>\n",
       "      <th rowspan=\"2\" valign=\"top\">1901012353_수제계란말이(350g)</th>\n",
       "      <th>단품</th>\n",
       "      <td>34469</td>\n",
       "    </tr>\n",
       "    <tr>\n",
       "      <th>세트</th>\n",
       "      <td>29</td>\n",
       "    </tr>\n",
       "    <tr>\n",
       "      <th rowspan=\"2\" valign=\"top\">1903012675_순살코다리강정(180g)</th>\n",
       "      <th>단품</th>\n",
       "      <td>16731</td>\n",
       "    </tr>\n",
       "    <tr>\n",
       "      <th>세트</th>\n",
       "      <td>104</td>\n",
       "    </tr>\n",
       "    <tr>\n",
       "      <th rowspan=\"2\" valign=\"top\">1909013359_가정집 오징어불고기/셀프(380g)</th>\n",
       "      <th>단품</th>\n",
       "      <td>25207</td>\n",
       "    </tr>\n",
       "    <tr>\n",
       "      <th>세트</th>\n",
       "      <td>679</td>\n",
       "    </tr>\n",
       "    <tr>\n",
       "      <th rowspan=\"2\" valign=\"top\">2010014667_우삼겹숙주볶음(250g)</th>\n",
       "      <th>단품</th>\n",
       "      <td>16990</td>\n",
       "    </tr>\n",
       "    <tr>\n",
       "      <th>세트</th>\n",
       "      <td>29</td>\n",
       "    </tr>\n",
       "    <tr>\n",
       "      <th rowspan=\"2\" valign=\"top\">2010014707_고구마 품은 라자냐(450g)</th>\n",
       "      <th>단품</th>\n",
       "      <td>18135</td>\n",
       "    </tr>\n",
       "    <tr>\n",
       "      <th>세트</th>\n",
       "      <td>259</td>\n",
       "    </tr>\n",
       "    <tr>\n",
       "      <th rowspan=\"2\" valign=\"top\">2012014895_한돈 제육볶음(700g)</th>\n",
       "      <th>단품</th>\n",
       "      <td>32039</td>\n",
       "    </tr>\n",
       "    <tr>\n",
       "      <th>세트</th>\n",
       "      <td>4571</td>\n",
       "    </tr>\n",
       "    <tr>\n",
       "      <th rowspan=\"2\" valign=\"top\">2103015231_[심방골주부X더반찬] 시골 돼지짜글이(600g)</th>\n",
       "      <th>단품</th>\n",
       "      <td>13208</td>\n",
       "    </tr>\n",
       "    <tr>\n",
       "      <th>세트</th>\n",
       "      <td>4900</td>\n",
       "    </tr>\n",
       "    <tr>\n",
       "      <th rowspan=\"2\" valign=\"top\">2204016772_소고기유니짜장소스(1인분, 200g)</th>\n",
       "      <th>단품</th>\n",
       "      <td>1158</td>\n",
       "    </tr>\n",
       "    <tr>\n",
       "      <th>세트</th>\n",
       "      <td>966</td>\n",
       "    </tr>\n",
       "    <tr>\n",
       "      <th rowspan=\"2\" valign=\"top\">3273_채소계란찜(340g)</th>\n",
       "      <th>단품</th>\n",
       "      <td>40616</td>\n",
       "    </tr>\n",
       "    <tr>\n",
       "      <th>세트</th>\n",
       "      <td>60</td>\n",
       "    </tr>\n",
       "    <tr>\n",
       "      <th>4092_건표고버섯볶음</th>\n",
       "      <th>단품</th>\n",
       "      <td>29752</td>\n",
       "    </tr>\n",
       "  </tbody>\n",
       "</table>\n",
       "</div>"
      ],
      "text/plain": [
       "                                                    REAL_ORD_QTY\n",
       "GOODS                                 PKG_GOODS_NM              \n",
       "13529_메밀소바(2인분)                       단품                   14747\n",
       "                                      세트                    1278\n",
       "13957_셀프두부조림(600g)                    단품                   51600\n",
       "14375_옛날잡채(500g)                      단품                  116989\n",
       "                                      세트                    6414\n",
       "14985_양장피                             단품                   26697\n",
       "                                      세트                      36\n",
       "1712010310_두메산나물비빔밥재료                 단품                  169708\n",
       "                                      세트                    8433\n",
       "1803010879_고소한도토리묵무침(265g)            단품                   22399\n",
       "1803010879_고소한도토리묵무침(360g)            단품                    4817\n",
       "1805011121_건고사리나물볶음(150g)             단품                   17964\n",
       "1805011121_고사리나물볶음(150g)              단품                    4233\n",
       "1806011271_열무비빔밥재료믹스(2인분)             단품                    7594\n",
       "                                      세트                    2792\n",
       "1808011751_꼬막무침 (250g)                단품                   27054\n",
       "                                      세트                      39\n",
       "1808011751_꼬막무침 (260g)                단품                    9708\n",
       "1823_숙주나물(300g)                       단품                   42904\n",
       "                                      세트                     943\n",
       "1901012353_수제계란말이(350g)               단품                   34469\n",
       "                                      세트                      29\n",
       "1903012675_순살코다리강정(180g)              단품                   16731\n",
       "                                      세트                     104\n",
       "1909013359_가정집 오징어불고기/셀프(380g)        단품                   25207\n",
       "                                      세트                     679\n",
       "2010014667_우삼겹숙주볶음(250g)              단품                   16990\n",
       "                                      세트                      29\n",
       "2010014707_고구마 품은 라자냐(450g)           단품                   18135\n",
       "                                      세트                     259\n",
       "2012014895_한돈 제육볶음(700g)              단품                   32039\n",
       "                                      세트                    4571\n",
       "2103015231_[심방골주부X더반찬] 시골 돼지짜글이(600g) 단품                   13208\n",
       "                                      세트                    4900\n",
       "2204016772_소고기유니짜장소스(1인분, 200g)       단품                    1158\n",
       "                                      세트                     966\n",
       "3273_채소계란찜(340g)                      단품                   40616\n",
       "                                      세트                      60\n",
       "4092_건표고버섯볶음                          단품                   29752"
      ]
     },
     "execution_count": 85,
     "metadata": {},
     "output_type": "execute_result"
    }
   ],
   "source": [
    "copy_data.groupby([\"GOODS\", \"PKG_GOODS_NM\"])['REAL_ORD_QTY'].sum().to_frame()"
   ]
  },
  {
   "cell_type": "markdown",
   "metadata": {},
   "source": [
    "- 반찬일 경우 세트로 주문할 확률이 높을 것이다."
   ]
  },
  {
   "cell_type": "code",
   "execution_count": 284,
   "metadata": {},
   "outputs": [
    {
     "data": {
      "text/plain": [
       "메인요리    362212\n",
       "반찬      358623\n",
       "국         3867\n",
       "Name: STD_GSGR_NO_LEV1_NM, dtype: int64"
      ]
     },
     "execution_count": 284,
     "metadata": {},
     "output_type": "execute_result"
    }
   ],
   "source": [
    "copy_data['STD_GSGR_NO_LEV1_NM'].value_counts()"
   ]
  },
  {
   "cell_type": "code",
   "execution_count": 86,
   "metadata": {},
   "outputs": [
    {
     "data": {
      "text/plain": [
       "단품    692612\n",
       "세트     32090\n",
       "Name: PKG_GOODS_NM, dtype: int64"
      ]
     },
     "execution_count": 86,
     "metadata": {},
     "output_type": "execute_result"
    }
   ],
   "source": [
    "copy_data['PKG_GOODS_NM'].value_counts()"
   ]
  },
  {
   "cell_type": "code",
   "execution_count": 87,
   "metadata": {},
   "outputs": [
    {
     "data": {
      "text/html": [
       "<div>\n",
       "<style scoped>\n",
       "    .dataframe tbody tr th:only-of-type {\n",
       "        vertical-align: middle;\n",
       "    }\n",
       "\n",
       "    .dataframe tbody tr th {\n",
       "        vertical-align: top;\n",
       "    }\n",
       "\n",
       "    .dataframe thead th {\n",
       "        text-align: right;\n",
       "    }\n",
       "</style>\n",
       "<table border=\"1\" class=\"dataframe\">\n",
       "  <thead>\n",
       "    <tr style=\"text-align: right;\">\n",
       "      <th></th>\n",
       "      <th></th>\n",
       "      <th>REAL_ORD_QTY</th>\n",
       "    </tr>\n",
       "    <tr>\n",
       "      <th>STD_GSGR_NO_LEV1_NM</th>\n",
       "      <th>PKG_GOODS_NM</th>\n",
       "      <th></th>\n",
       "    </tr>\n",
       "  </thead>\n",
       "  <tbody>\n",
       "    <tr>\n",
       "      <th rowspan=\"2\" valign=\"top\">국</th>\n",
       "      <th>단품</th>\n",
       "      <td>2676</td>\n",
       "    </tr>\n",
       "    <tr>\n",
       "      <th>세트</th>\n",
       "      <td>1191</td>\n",
       "    </tr>\n",
       "    <tr>\n",
       "      <th rowspan=\"2\" valign=\"top\">메인요리</th>\n",
       "      <th>단품</th>\n",
       "      <td>337126</td>\n",
       "    </tr>\n",
       "    <tr>\n",
       "      <th>세트</th>\n",
       "      <td>25086</td>\n",
       "    </tr>\n",
       "    <tr>\n",
       "      <th rowspan=\"2\" valign=\"top\">반찬</th>\n",
       "      <th>단품</th>\n",
       "      <td>352810</td>\n",
       "    </tr>\n",
       "    <tr>\n",
       "      <th>세트</th>\n",
       "      <td>5813</td>\n",
       "    </tr>\n",
       "  </tbody>\n",
       "</table>\n",
       "</div>"
      ],
      "text/plain": [
       "                                  REAL_ORD_QTY\n",
       "STD_GSGR_NO_LEV1_NM PKG_GOODS_NM              \n",
       "국                   단품                    2676\n",
       "                    세트                    1191\n",
       "메인요리                단품                  337126\n",
       "                    세트                   25086\n",
       "반찬                  단품                  352810\n",
       "                    세트                    5813"
      ]
     },
     "execution_count": 87,
     "metadata": {},
     "output_type": "execute_result"
    }
   ],
   "source": [
    "copy_data.groupby([\"STD_GSGR_NO_LEV1_NM\", \"PKG_GOODS_NM\"])['REAL_ORD_QTY'].count().to_frame()"
   ]
  },
  {
   "cell_type": "code",
   "execution_count": 88,
   "metadata": {},
   "outputs": [],
   "source": [
    "plt.rcParams['font.family'] = 'Malgun Gothic'"
   ]
  },
  {
   "cell_type": "code",
   "execution_count": 89,
   "metadata": {},
   "outputs": [
    {
     "data": {
      "text/plain": [
       "<AxesSubplot:xlabel='STD_GSGR_NO_LEV1_NM', ylabel='count'>"
      ]
     },
     "execution_count": 89,
     "metadata": {},
     "output_type": "execute_result"
    },
    {
     "data": {
      "image/png": "[encoded data removed]",
      "text/plain": [
       "<Figure size 432x288 with 1 Axes>"
      ]
     },
     "metadata": {
      "needs_background": "light"
     },
     "output_type": "display_data"
    }
   ],
   "source": [
    "sns.countplot(data=copy_data, x=\"STD_GSGR_NO_LEV1_NM\", hue='PKG_GOODS_NM')"
   ]
  },
  {
   "cell_type": "markdown",
   "metadata": {},
   "source": [
    "- 큰 차이는 아니지만 예상 외로 메인보다 반찬의 경우가 세트로 팔릴 확률이 높은 것으로 나타났다.\n",
    "- 국의 경우는 단품과 세트로 사는 경우가 반반이었다."
   ]
  },
  {
   "cell_type": "code",
   "execution_count": 113,
   "metadata": {},
   "outputs": [
    {
     "data": {
      "text/html": [
       "<div>\n",
       "<style scoped>\n",
       "    .dataframe tbody tr th:only-of-type {\n",
       "        vertical-align: middle;\n",
       "    }\n",
       "\n",
       "    .dataframe tbody tr th {\n",
       "        vertical-align: top;\n",
       "    }\n",
       "\n",
       "    .dataframe thead th {\n",
       "        text-align: right;\n",
       "    }\n",
       "</style>\n",
       "<table border=\"1\" class=\"dataframe\">\n",
       "  <thead>\n",
       "    <tr style=\"text-align: right;\">\n",
       "      <th></th>\n",
       "      <th>GOODS</th>\n",
       "    </tr>\n",
       "  </thead>\n",
       "  <tbody>\n",
       "    <tr>\n",
       "      <th>1806011271_열무비빔밥재료믹스(2인분)</th>\n",
       "      <td>2835</td>\n",
       "    </tr>\n",
       "    <tr>\n",
       "      <th>1823_숙주나물(300g)</th>\n",
       "      <td>971</td>\n",
       "    </tr>\n",
       "    <tr>\n",
       "      <th>2204016772_소고기유니짜장소스(1인분, 200g)</th>\n",
       "      <td>970</td>\n",
       "    </tr>\n",
       "    <tr>\n",
       "      <th>1712010310_두메산나물비빔밥재료</th>\n",
       "      <td>395</td>\n",
       "    </tr>\n",
       "    <tr>\n",
       "      <th>1909013359_가정집 오징어불고기/셀프(380g)</th>\n",
       "      <td>376</td>\n",
       "    </tr>\n",
       "    <tr>\n",
       "      <th>1903012675_순살코다리강정(180g)</th>\n",
       "      <td>105</td>\n",
       "    </tr>\n",
       "    <tr>\n",
       "      <th>3273_채소계란찜(340g)</th>\n",
       "      <td>58</td>\n",
       "    </tr>\n",
       "    <tr>\n",
       "      <th>1808011751_꼬막무침 (250g)</th>\n",
       "      <td>39</td>\n",
       "    </tr>\n",
       "    <tr>\n",
       "      <th>1901012353_수제계란말이(350g)</th>\n",
       "      <td>32</td>\n",
       "    </tr>\n",
       "    <tr>\n",
       "      <th>2010014667_우삼겹숙주볶음(250g)</th>\n",
       "      <td>32</td>\n",
       "    </tr>\n",
       "  </tbody>\n",
       "</table>\n",
       "</div>"
      ],
      "text/plain": [
       "                                 GOODS\n",
       "1806011271_열무비빔밥재료믹스(2인분)         2835\n",
       "1823_숙주나물(300g)                    971\n",
       "2204016772_소고기유니짜장소스(1인분, 200g)    970\n",
       "1712010310_두메산나물비빔밥재료              395\n",
       "1909013359_가정집 오징어불고기/셀프(380g)     376\n",
       "1903012675_순살코다리강정(180g)           105\n",
       "3273_채소계란찜(340g)                    58\n",
       "1808011751_꼬막무침 (250g)              39\n",
       "1901012353_수제계란말이(350g)             32\n",
       "2010014667_우삼겹숙주볶음(250g)            32"
      ]
     },
     "execution_count": 113,
     "metadata": {},
     "output_type": "execute_result"
    }
   ],
   "source": [
    "copy_data['GOODS'].loc[(copy_data['STD_GSGR_NO_LEV1_NM']=='반찬') & (copy_data['PKG_GOODS_NM']=='세트')].value_counts().to_frame()"
   ]
  },
  {
   "cell_type": "markdown",
   "metadata": {},
   "source": [
    "- 세트로 팔린 반찬의 경우 주로 메인에 필요한 재료들이 세트로 팔린 것을 확인할 수 있다.\n",
    "- 정말 반찬으로 소비되는 식품을 세트로 사는 경우는 매우 희박한 것을 확인할 수 있었다."
   ]
  },
  {
   "cell_type": "markdown",
   "metadata": {},
   "source": [
    "### 1.4 이변량 분석"
   ]
  },
  {
   "cell_type": "markdown",
   "metadata": {},
   "source": [
    "## 2. 데이터 전처리"
   ]
  },
  {
   "cell_type": "markdown",
   "metadata": {},
   "source": [
    "### 2.0 이상치 처리"
   ]
  },
  {
   "cell_type": "code",
   "execution_count": 114,
   "metadata": {},
   "outputs": [
    {
     "data": {
      "text/html": [
       "<div>\n",
       "<style scoped>\n",
       "    .dataframe tbody tr th:only-of-type {\n",
       "        vertical-align: middle;\n",
       "    }\n",
       "\n",
       "    .dataframe tbody tr th {\n",
       "        vertical-align: top;\n",
       "    }\n",
       "\n",
       "    .dataframe thead th {\n",
       "        text-align: right;\n",
       "    }\n",
       "</style>\n",
       "<table border=\"1\" class=\"dataframe\">\n",
       "  <thead>\n",
       "    <tr style=\"text-align: right;\">\n",
       "      <th></th>\n",
       "      <th>ORD_QTY</th>\n",
       "      <th>CANCEL_QTY</th>\n",
       "      <th>RET_QTY</th>\n",
       "      <th>REAL_ORD_QTY</th>\n",
       "      <th>SALE_PRICE</th>\n",
       "      <th>DISCOUNT_AMT</th>\n",
       "      <th>FINAL_PRICE</th>\n",
       "    </tr>\n",
       "  </thead>\n",
       "  <tbody>\n",
       "    <tr>\n",
       "      <th>count</th>\n",
       "      <td>724702.00000</td>\n",
       "      <td>724702.000000</td>\n",
       "      <td>724702.000000</td>\n",
       "      <td>724702.000000</td>\n",
       "      <td>724702.000000</td>\n",
       "      <td>348455.000000</td>\n",
       "      <td>724702.000000</td>\n",
       "    </tr>\n",
       "    <tr>\n",
       "      <th>mean</th>\n",
       "      <td>1.12172</td>\n",
       "      <td>0.050588</td>\n",
       "      <td>0.003917</td>\n",
       "      <td>1.071131</td>\n",
       "      <td>7262.438891</td>\n",
       "      <td>1118.631562</td>\n",
       "      <td>6724.572622</td>\n",
       "    </tr>\n",
       "    <tr>\n",
       "      <th>std</th>\n",
       "      <td>0.47063</td>\n",
       "      <td>0.286248</td>\n",
       "      <td>0.071317</td>\n",
       "      <td>0.497911</td>\n",
       "      <td>2417.240294</td>\n",
       "      <td>1852.828670</td>\n",
       "      <td>2388.223550</td>\n",
       "    </tr>\n",
       "    <tr>\n",
       "      <th>min</th>\n",
       "      <td>1.00000</td>\n",
       "      <td>0.000000</td>\n",
       "      <td>0.000000</td>\n",
       "      <td>0.000000</td>\n",
       "      <td>2600.000000</td>\n",
       "      <td>0.000000</td>\n",
       "      <td>-31390.000000</td>\n",
       "    </tr>\n",
       "    <tr>\n",
       "      <th>25%</th>\n",
       "      <td>1.00000</td>\n",
       "      <td>0.000000</td>\n",
       "      <td>0.000000</td>\n",
       "      <td>1.000000</td>\n",
       "      <td>4900.000000</td>\n",
       "      <td>169.000000</td>\n",
       "      <td>4783.000000</td>\n",
       "    </tr>\n",
       "    <tr>\n",
       "      <th>50%</th>\n",
       "      <td>1.00000</td>\n",
       "      <td>0.000000</td>\n",
       "      <td>0.000000</td>\n",
       "      <td>1.000000</td>\n",
       "      <td>7000.000000</td>\n",
       "      <td>480.000000</td>\n",
       "      <td>6900.000000</td>\n",
       "    </tr>\n",
       "    <tr>\n",
       "      <th>75%</th>\n",
       "      <td>1.00000</td>\n",
       "      <td>0.000000</td>\n",
       "      <td>0.000000</td>\n",
       "      <td>1.000000</td>\n",
       "      <td>8800.000000</td>\n",
       "      <td>1250.000000</td>\n",
       "      <td>8600.000000</td>\n",
       "    </tr>\n",
       "    <tr>\n",
       "      <th>max</th>\n",
       "      <td>45.00000</td>\n",
       "      <td>31.000000</td>\n",
       "      <td>7.000000</td>\n",
       "      <td>45.000000</td>\n",
       "      <td>35600.000000</td>\n",
       "      <td>39990.000000</td>\n",
       "      <td>35600.000000</td>\n",
       "    </tr>\n",
       "  </tbody>\n",
       "</table>\n",
       "</div>"
      ],
      "text/plain": [
       "            ORD_QTY     CANCEL_QTY        RET_QTY   REAL_ORD_QTY  \\\n",
       "count  724702.00000  724702.000000  724702.000000  724702.000000   \n",
       "mean        1.12172       0.050588       0.003917       1.071131   \n",
       "std         0.47063       0.286248       0.071317       0.497911   \n",
       "min         1.00000       0.000000       0.000000       0.000000   \n",
       "25%         1.00000       0.000000       0.000000       1.000000   \n",
       "50%         1.00000       0.000000       0.000000       1.000000   \n",
       "75%         1.00000       0.000000       0.000000       1.000000   \n",
       "max        45.00000      31.000000       7.000000      45.000000   \n",
       "\n",
       "          SALE_PRICE   DISCOUNT_AMT    FINAL_PRICE  \n",
       "count  724702.000000  348455.000000  724702.000000  \n",
       "mean     7262.438891    1118.631562    6724.572622  \n",
       "std      2417.240294    1852.828670    2388.223550  \n",
       "min      2600.000000       0.000000  -31390.000000  \n",
       "25%      4900.000000     169.000000    4783.000000  \n",
       "50%      7000.000000     480.000000    6900.000000  \n",
       "75%      8800.000000    1250.000000    8600.000000  \n",
       "max     35600.000000   39990.000000   35600.000000  "
      ]
     },
     "execution_count": 114,
     "metadata": {},
     "output_type": "execute_result"
    }
   ],
   "source": [
    "copy_data.describe()"
   ]
  },
  {
   "cell_type": "code",
   "execution_count": 115,
   "metadata": {},
   "outputs": [
    {
     "name": "stderr",
     "output_type": "stream",
     "text": [
      "c:\\Users\\SUNGHYUN\\anaconda3\\lib\\site-packages\\seaborn\\_core.py:1326: UserWarning: Vertical orientation ignored with only `x` specified.\n",
      "  warnings.warn(single_var_warning.format(\"Vertical\", \"x\"))\n",
      "c:\\Users\\SUNGHYUN\\anaconda3\\lib\\site-packages\\seaborn\\_core.py:1326: UserWarning: Vertical orientation ignored with only `x` specified.\n",
      "  warnings.warn(single_var_warning.format(\"Vertical\", \"x\"))\n",
      "c:\\Users\\SUNGHYUN\\anaconda3\\lib\\site-packages\\seaborn\\_core.py:1326: UserWarning: Vertical orientation ignored with only `x` specified.\n",
      "  warnings.warn(single_var_warning.format(\"Vertical\", \"x\"))\n",
      "c:\\Users\\SUNGHYUN\\anaconda3\\lib\\site-packages\\seaborn\\_core.py:1326: UserWarning: Vertical orientation ignored with only `x` specified.\n",
      "  warnings.warn(single_var_warning.format(\"Vertical\", \"x\"))\n",
      "c:\\Users\\SUNGHYUN\\anaconda3\\lib\\site-packages\\seaborn\\_core.py:1326: UserWarning: Vertical orientation ignored with only `x` specified.\n",
      "  warnings.warn(single_var_warning.format(\"Vertical\", \"x\"))\n",
      "c:\\Users\\SUNGHYUN\\anaconda3\\lib\\site-packages\\seaborn\\_core.py:1326: UserWarning: Vertical orientation ignored with only `x` specified.\n",
      "  warnings.warn(single_var_warning.format(\"Vertical\", \"x\"))\n",
      "c:\\Users\\SUNGHYUN\\anaconda3\\lib\\site-packages\\seaborn\\_core.py:1326: UserWarning: Vertical orientation ignored with only `x` specified.\n",
      "  warnings.warn(single_var_warning.format(\"Vertical\", \"x\"))\n"
     ]
    },
    {
     "data": {
      "text/plain": [
       "<AxesSubplot:xlabel='FINAL_PRICE'>"
      ]
     },
     "execution_count": 115,
     "metadata": {},
     "output_type": "execute_result"
    },
    {
     "name": "stderr",
     "output_type": "stream",
     "text": [
      "c:\\Users\\SUNGHYUN\\anaconda3\\lib\\site-packages\\IPython\\core\\pylabtools.py:151: UserWarning: Glyph 8722 (\\N{MINUS SIGN}) missing from current font.\n",
      "  fig.canvas.print_figure(bytes_io, **kw)\n"
     ]
    },
    {
     "data": {
      "image/png": "[encoded data removed]",
      "text/plain": [
       "<Figure size 2160x2160 with 7 Axes>"
      ]
     },
     "metadata": {
      "needs_background": "light"
     },
     "output_type": "display_data"
    }
   ],
   "source": [
    "plt.figure(figsize=(30,30))\n",
    "plt.subplot(3,3,1)\n",
    "sns.boxplot(x='ORD_QTY',  orient = \"v\", data=copy_data)\n",
    "\n",
    "plt.subplot(3,3,2)\n",
    "sns.boxplot(x='CANCEL_QTY', orient = \"v\", data=copy_data)\n",
    "\n",
    "plt.subplot(3,3,3)\n",
    "sns.boxplot(x='RET_QTY', orient = \"v\", data=copy_data)\n",
    "\n",
    "plt.subplot(3,3,4)\n",
    "sns.boxplot(x='REAL_ORD_QTY', orient = \"v\", data=copy_data)\n",
    "\n",
    "plt.subplot(3,3,5)\n",
    "sns.boxplot(x='SALE_PRICE', orient = \"v\", data=copy_data)\n",
    "\n",
    "plt.subplot(3,3,6)\n",
    "sns.boxplot(x='DISCOUNT_AMT', orient = \"v\", data=copy_data)\n",
    "\n",
    "plt.subplot(3,3,7)\n",
    "sns.boxplot(x='FINAL_PRICE', orient = \"v\", data=copy_data)\n"
   ]
  },
  {
   "cell_type": "code",
   "execution_count": 116,
   "metadata": {},
   "outputs": [
    {
     "data": {
      "text/plain": [
       "1.0"
      ]
     },
     "execution_count": 116,
     "metadata": {},
     "output_type": "execute_result"
    }
   ],
   "source": [
    "q1 = copy_data['ORD_QTY'].quantile(0.25)\n",
    "q1\n",
    "q3 = copy_data['ORD_QTY'].quantile(0.75)\n",
    "q3"
   ]
  },
  {
   "cell_type": "code",
   "execution_count": 117,
   "metadata": {},
   "outputs": [],
   "source": [
    "def outlier(df,col):\n",
    "    q1 = df[col].quantile(0.25)\n",
    "    q3 = df[col].quantile(0.75)\n",
    "    iqr = q3 - q1\n",
    "\n",
    "    df.loc[(df[col] > (q3 + 1.5 * iqr)) | (df[col] < (q1 - 1.5 * iqr)), col] = df[col].mean()"
   ]
  },
  {
   "cell_type": "code",
   "execution_count": 118,
   "metadata": {},
   "outputs": [],
   "source": [
    "ol_col = ['ORD_QTY', 'CANCEL_QTY', 'RET_QTY', 'REAL_ORD_QTY', 'SALE_PRICE', 'FINAL_PRICE']\n",
    "\n",
    "for i in ol_col:\n",
    "    outlier(copy_data, i)\n"
   ]
  },
  {
   "cell_type": "code",
   "execution_count": 119,
   "metadata": {},
   "outputs": [
    {
     "name": "stdout",
     "output_type": "stream",
     "text": [
      "<class 'pandas.core.frame.DataFrame'>\n",
      "RangeIndex: 724702 entries, 0 to 724701\n",
      "Data columns (total 12 columns):\n",
      " #   Column               Non-Null Count   Dtype  \n",
      "---  ------               --------------   -----  \n",
      " 0   H_YMD                724702 non-null  object \n",
      " 1   O_YMD                724702 non-null  object \n",
      " 2   PKG_GOODS_NM         724702 non-null  object \n",
      " 3   STD_GSGR_NO_LEV1_NM  724702 non-null  object \n",
      " 4   ORD_QTY              724702 non-null  float64\n",
      " 5   CANCEL_QTY           724702 non-null  float64\n",
      " 6   RET_QTY              724702 non-null  float64\n",
      " 7   REAL_ORD_QTY         724702 non-null  float64\n",
      " 8   SALE_PRICE           724702 non-null  float64\n",
      " 9   DISCOUNT_AMT         348455 non-null  float64\n",
      " 10  FINAL_PRICE          724702 non-null  float64\n",
      " 11  GOODS                724702 non-null  object \n",
      "dtypes: float64(7), object(5)\n",
      "memory usage: 66.3+ MB\n"
     ]
    }
   ],
   "source": [
    "copy_data.info()"
   ]
  },
  {
   "cell_type": "code",
   "execution_count": 120,
   "metadata": {},
   "outputs": [
    {
     "name": "stderr",
     "output_type": "stream",
     "text": [
      "c:\\Users\\SUNGHYUN\\anaconda3\\lib\\site-packages\\seaborn\\_core.py:1326: UserWarning: Vertical orientation ignored with only `x` specified.\n",
      "  warnings.warn(single_var_warning.format(\"Vertical\", \"x\"))\n",
      "c:\\Users\\SUNGHYUN\\anaconda3\\lib\\site-packages\\seaborn\\_core.py:1326: UserWarning: Vertical orientation ignored with only `x` specified.\n",
      "  warnings.warn(single_var_warning.format(\"Vertical\", \"x\"))\n",
      "c:\\Users\\SUNGHYUN\\anaconda3\\lib\\site-packages\\seaborn\\_core.py:1326: UserWarning: Vertical orientation ignored with only `x` specified.\n",
      "  warnings.warn(single_var_warning.format(\"Vertical\", \"x\"))\n",
      "c:\\Users\\SUNGHYUN\\anaconda3\\lib\\site-packages\\seaborn\\_core.py:1326: UserWarning: Vertical orientation ignored with only `x` specified.\n",
      "  warnings.warn(single_var_warning.format(\"Vertical\", \"x\"))\n",
      "c:\\Users\\SUNGHYUN\\anaconda3\\lib\\site-packages\\seaborn\\_core.py:1326: UserWarning: Vertical orientation ignored with only `x` specified.\n",
      "  warnings.warn(single_var_warning.format(\"Vertical\", \"x\"))\n",
      "c:\\Users\\SUNGHYUN\\anaconda3\\lib\\site-packages\\seaborn\\_core.py:1326: UserWarning: Vertical orientation ignored with only `x` specified.\n",
      "  warnings.warn(single_var_warning.format(\"Vertical\", \"x\"))\n",
      "c:\\Users\\SUNGHYUN\\anaconda3\\lib\\site-packages\\seaborn\\_core.py:1326: UserWarning: Vertical orientation ignored with only `x` specified.\n",
      "  warnings.warn(single_var_warning.format(\"Vertical\", \"x\"))\n"
     ]
    },
    {
     "data": {
      "text/plain": [
       "<AxesSubplot:xlabel='FINAL_PRICE'>"
      ]
     },
     "execution_count": 120,
     "metadata": {},
     "output_type": "execute_result"
    },
    {
     "data": {
      "image/png": "[encoded data removed]",
      "text/plain": [
       "<Figure size 2160x2160 with 7 Axes>"
      ]
     },
     "metadata": {
      "needs_background": "light"
     },
     "output_type": "display_data"
    }
   ],
   "source": [
    "plt.figure(figsize=(30,30))\n",
    "plt.subplot(3,3,1)\n",
    "sns.boxplot(x='ORD_QTY',  orient = \"v\", data=copy_data)\n",
    "\n",
    "plt.subplot(3,3,2)\n",
    "sns.boxplot(x='CANCEL_QTY', orient = \"v\", data=copy_data)\n",
    "\n",
    "plt.subplot(3,3,3)\n",
    "sns.boxplot(x='RET_QTY', orient = \"v\", data=copy_data)\n",
    "\n",
    "plt.subplot(3,3,4)\n",
    "sns.boxplot(x='REAL_ORD_QTY', orient = \"v\", data=copy_data)\n",
    "\n",
    "plt.subplot(3,3,5)\n",
    "sns.boxplot(x='SALE_PRICE', orient = \"v\", data=copy_data)\n",
    "\n",
    "plt.subplot(3,3,6)\n",
    "sns.boxplot(x='DISCOUNT_AMT', orient = \"v\", data=copy_data)\n",
    "\n",
    "plt.subplot(3,3,7)\n",
    "sns.boxplot(x='FINAL_PRICE', orient = \"v\", data=copy_data)\n"
   ]
  },
  {
   "cell_type": "code",
   "execution_count": 121,
   "metadata": {},
   "outputs": [
    {
     "data": {
      "text/plain": [
       "H_YMD                       0\n",
       "O_YMD                       0\n",
       "PKG_GOODS_NM                0\n",
       "STD_GSGR_NO_LEV1_NM         0\n",
       "ORD_QTY                     0\n",
       "CANCEL_QTY                  0\n",
       "RET_QTY                     0\n",
       "REAL_ORD_QTY                0\n",
       "SALE_PRICE                  0\n",
       "DISCOUNT_AMT           376247\n",
       "FINAL_PRICE                 0\n",
       "GOODS                       0\n",
       "dtype: int64"
      ]
     },
     "execution_count": 121,
     "metadata": {},
     "output_type": "execute_result"
    }
   ],
   "source": [
    "copy_data.isna().sum()"
   ]
  },
  {
   "cell_type": "code",
   "execution_count": 122,
   "metadata": {},
   "outputs": [],
   "source": [
    "copy_data['DISCOUNT_AMT'].fillna(0, inplace=True)"
   ]
  },
  {
   "cell_type": "markdown",
   "metadata": {},
   "source": [
    "### 2.1 가변수화"
   ]
  },
  {
   "cell_type": "code",
   "execution_count": 123,
   "metadata": {},
   "outputs": [
    {
     "name": "stdout",
     "output_type": "stream",
     "text": [
      "<class 'pandas.core.frame.DataFrame'>\n",
      "RangeIndex: 724702 entries, 0 to 724701\n",
      "Data columns (total 12 columns):\n",
      " #   Column               Non-Null Count   Dtype  \n",
      "---  ------               --------------   -----  \n",
      " 0   H_YMD                724702 non-null  object \n",
      " 1   O_YMD                724702 non-null  object \n",
      " 2   PKG_GOODS_NM         724702 non-null  object \n",
      " 3   STD_GSGR_NO_LEV1_NM  724702 non-null  object \n",
      " 4   ORD_QTY              724702 non-null  float64\n",
      " 5   CANCEL_QTY           724702 non-null  float64\n",
      " 6   RET_QTY              724702 non-null  float64\n",
      " 7   REAL_ORD_QTY         724702 non-null  float64\n",
      " 8   SALE_PRICE           724702 non-null  float64\n",
      " 9   DISCOUNT_AMT         724702 non-null  float64\n",
      " 10  FINAL_PRICE          724702 non-null  float64\n",
      " 11  GOODS                724702 non-null  object \n",
      "dtypes: float64(7), object(5)\n",
      "memory usage: 66.3+ MB\n"
     ]
    }
   ],
   "source": [
    "copy_data.info()"
   ]
  },
  {
   "cell_type": "code",
   "execution_count": 124,
   "metadata": {},
   "outputs": [
    {
     "data": {
      "text/html": [
       "<div>\n",
       "<style scoped>\n",
       "    .dataframe tbody tr th:only-of-type {\n",
       "        vertical-align: middle;\n",
       "    }\n",
       "\n",
       "    .dataframe tbody tr th {\n",
       "        vertical-align: top;\n",
       "    }\n",
       "\n",
       "    .dataframe thead th {\n",
       "        text-align: right;\n",
       "    }\n",
       "</style>\n",
       "<table border=\"1\" class=\"dataframe\">\n",
       "  <thead>\n",
       "    <tr style=\"text-align: right;\">\n",
       "      <th></th>\n",
       "      <th>H_YMD</th>\n",
       "      <th>O_YMD</th>\n",
       "      <th>ORD_QTY</th>\n",
       "      <th>CANCEL_QTY</th>\n",
       "      <th>RET_QTY</th>\n",
       "      <th>REAL_ORD_QTY</th>\n",
       "      <th>SALE_PRICE</th>\n",
       "      <th>DISCOUNT_AMT</th>\n",
       "      <th>FINAL_PRICE</th>\n",
       "      <th>PKG_GOODS_NM_세트</th>\n",
       "      <th>...</th>\n",
       "      <th>GOODS_1901012353_수제계란말이(350g)</th>\n",
       "      <th>GOODS_1903012675_순살코다리강정(180g)</th>\n",
       "      <th>GOODS_1909013359_가정집 오징어불고기/셀프(380g)</th>\n",
       "      <th>GOODS_2010014667_우삼겹숙주볶음(250g)</th>\n",
       "      <th>GOODS_2010014707_고구마 품은 라자냐(450g)</th>\n",
       "      <th>GOODS_2012014895_한돈 제육볶음(700g)</th>\n",
       "      <th>GOODS_2103015231_[심방골주부X더반찬] 시골 돼지짜글이(600g)</th>\n",
       "      <th>GOODS_2204016772_소고기유니짜장소스(1인분, 200g)</th>\n",
       "      <th>GOODS_3273_채소계란찜(340g)</th>\n",
       "      <th>GOODS_4092_건표고버섯볶음</th>\n",
       "    </tr>\n",
       "  </thead>\n",
       "  <tbody>\n",
       "    <tr>\n",
       "      <th>0</th>\n",
       "      <td>2022-01-11 00:00:00</td>\n",
       "      <td>2022-01-09 12:26:10</td>\n",
       "      <td>1.0</td>\n",
       "      <td>0.0</td>\n",
       "      <td>0.0</td>\n",
       "      <td>1.0</td>\n",
       "      <td>6900.0</td>\n",
       "      <td>569.0</td>\n",
       "      <td>6331.0</td>\n",
       "      <td>0</td>\n",
       "      <td>...</td>\n",
       "      <td>1</td>\n",
       "      <td>0</td>\n",
       "      <td>0</td>\n",
       "      <td>0</td>\n",
       "      <td>0</td>\n",
       "      <td>0</td>\n",
       "      <td>0</td>\n",
       "      <td>0</td>\n",
       "      <td>0</td>\n",
       "      <td>0</td>\n",
       "    </tr>\n",
       "    <tr>\n",
       "      <th>1</th>\n",
       "      <td>2022-01-11 00:00:00</td>\n",
       "      <td>2022-01-10 10:35:49</td>\n",
       "      <td>1.0</td>\n",
       "      <td>0.0</td>\n",
       "      <td>0.0</td>\n",
       "      <td>1.0</td>\n",
       "      <td>6900.0</td>\n",
       "      <td>177.0</td>\n",
       "      <td>6723.0</td>\n",
       "      <td>0</td>\n",
       "      <td>...</td>\n",
       "      <td>1</td>\n",
       "      <td>0</td>\n",
       "      <td>0</td>\n",
       "      <td>0</td>\n",
       "      <td>0</td>\n",
       "      <td>0</td>\n",
       "      <td>0</td>\n",
       "      <td>0</td>\n",
       "      <td>0</td>\n",
       "      <td>0</td>\n",
       "    </tr>\n",
       "    <tr>\n",
       "      <th>2</th>\n",
       "      <td>2022-01-12 00:00:00</td>\n",
       "      <td>2022-01-11 11:38:32</td>\n",
       "      <td>1.0</td>\n",
       "      <td>0.0</td>\n",
       "      <td>0.0</td>\n",
       "      <td>1.0</td>\n",
       "      <td>6900.0</td>\n",
       "      <td>221.0</td>\n",
       "      <td>6679.0</td>\n",
       "      <td>0</td>\n",
       "      <td>...</td>\n",
       "      <td>1</td>\n",
       "      <td>0</td>\n",
       "      <td>0</td>\n",
       "      <td>0</td>\n",
       "      <td>0</td>\n",
       "      <td>0</td>\n",
       "      <td>0</td>\n",
       "      <td>0</td>\n",
       "      <td>0</td>\n",
       "      <td>0</td>\n",
       "    </tr>\n",
       "    <tr>\n",
       "      <th>3</th>\n",
       "      <td>2022-01-12 00:00:00</td>\n",
       "      <td>2022-01-10 13:21:51</td>\n",
       "      <td>1.0</td>\n",
       "      <td>0.0</td>\n",
       "      <td>0.0</td>\n",
       "      <td>1.0</td>\n",
       "      <td>6900.0</td>\n",
       "      <td>128.0</td>\n",
       "      <td>6772.0</td>\n",
       "      <td>0</td>\n",
       "      <td>...</td>\n",
       "      <td>1</td>\n",
       "      <td>0</td>\n",
       "      <td>0</td>\n",
       "      <td>0</td>\n",
       "      <td>0</td>\n",
       "      <td>0</td>\n",
       "      <td>0</td>\n",
       "      <td>0</td>\n",
       "      <td>0</td>\n",
       "      <td>0</td>\n",
       "    </tr>\n",
       "    <tr>\n",
       "      <th>4</th>\n",
       "      <td>2022-01-11 00:00:00</td>\n",
       "      <td>2022-01-10 08:16:21</td>\n",
       "      <td>1.0</td>\n",
       "      <td>0.0</td>\n",
       "      <td>0.0</td>\n",
       "      <td>1.0</td>\n",
       "      <td>6900.0</td>\n",
       "      <td>157.0</td>\n",
       "      <td>6743.0</td>\n",
       "      <td>0</td>\n",
       "      <td>...</td>\n",
       "      <td>1</td>\n",
       "      <td>0</td>\n",
       "      <td>0</td>\n",
       "      <td>0</td>\n",
       "      <td>0</td>\n",
       "      <td>0</td>\n",
       "      <td>0</td>\n",
       "      <td>0</td>\n",
       "      <td>0</td>\n",
       "      <td>0</td>\n",
       "    </tr>\n",
       "  </tbody>\n",
       "</table>\n",
       "<p>5 rows × 34 columns</p>\n",
       "</div>"
      ],
      "text/plain": [
       "                 H_YMD                O_YMD  ORD_QTY  CANCEL_QTY  RET_QTY  \\\n",
       "0  2022-01-11 00:00:00  2022-01-09 12:26:10      1.0         0.0      0.0   \n",
       "1  2022-01-11 00:00:00  2022-01-10 10:35:49      1.0         0.0      0.0   \n",
       "2  2022-01-12 00:00:00  2022-01-11 11:38:32      1.0         0.0      0.0   \n",
       "3  2022-01-12 00:00:00  2022-01-10 13:21:51      1.0         0.0      0.0   \n",
       "4  2022-01-11 00:00:00  2022-01-10 08:16:21      1.0         0.0      0.0   \n",
       "\n",
       "   REAL_ORD_QTY  SALE_PRICE  DISCOUNT_AMT  FINAL_PRICE  PKG_GOODS_NM_세트  ...  \\\n",
       "0           1.0      6900.0         569.0       6331.0                0  ...   \n",
       "1           1.0      6900.0         177.0       6723.0                0  ...   \n",
       "2           1.0      6900.0         221.0       6679.0                0  ...   \n",
       "3           1.0      6900.0         128.0       6772.0                0  ...   \n",
       "4           1.0      6900.0         157.0       6743.0                0  ...   \n",
       "\n",
       "   GOODS_1901012353_수제계란말이(350g)  GOODS_1903012675_순살코다리강정(180g)  \\\n",
       "0                              1                               0   \n",
       "1                              1                               0   \n",
       "2                              1                               0   \n",
       "3                              1                               0   \n",
       "4                              1                               0   \n",
       "\n",
       "   GOODS_1909013359_가정집 오징어불고기/셀프(380g)  GOODS_2010014667_우삼겹숙주볶음(250g)  \\\n",
       "0                                     0                               0   \n",
       "1                                     0                               0   \n",
       "2                                     0                               0   \n",
       "3                                     0                               0   \n",
       "4                                     0                               0   \n",
       "\n",
       "   GOODS_2010014707_고구마 품은 라자냐(450g)  GOODS_2012014895_한돈 제육볶음(700g)  \\\n",
       "0                                  0                               0   \n",
       "1                                  0                               0   \n",
       "2                                  0                               0   \n",
       "3                                  0                               0   \n",
       "4                                  0                               0   \n",
       "\n",
       "   GOODS_2103015231_[심방골주부X더반찬] 시골 돼지짜글이(600g)  \\\n",
       "0                                            0   \n",
       "1                                            0   \n",
       "2                                            0   \n",
       "3                                            0   \n",
       "4                                            0   \n",
       "\n",
       "   GOODS_2204016772_소고기유니짜장소스(1인분, 200g)  GOODS_3273_채소계란찜(340g)  \\\n",
       "0                                      0                       0   \n",
       "1                                      0                       0   \n",
       "2                                      0                       0   \n",
       "3                                      0                       0   \n",
       "4                                      0                       0   \n",
       "\n",
       "   GOODS_4092_건표고버섯볶음  \n",
       "0                   0  \n",
       "1                   0  \n",
       "2                   0  \n",
       "3                   0  \n",
       "4                   0  \n",
       "\n",
       "[5 rows x 34 columns]"
      ]
     },
     "execution_count": 124,
     "metadata": {},
     "output_type": "execute_result"
    }
   ],
   "source": [
    "cols = ['PKG_GOODS_NM', 'STD_GSGR_NO_LEV1_NM', 'GOODS']\n",
    "\n",
    "copy_data= pd.get_dummies(copy_data, columns = cols ,drop_first = True)\n",
    "copy_data.head()"
   ]
  },
  {
   "cell_type": "markdown",
   "metadata": {},
   "source": [
    "### 2.2 target, feature 분리"
   ]
  },
  {
   "cell_type": "code",
   "execution_count": 125,
   "metadata": {},
   "outputs": [],
   "source": [
    "# 희망배송일과 주문 날짜를 pd.datetime형식으로 바꾸고 int형으로 변환해준다.\n",
    "copy_data['H_YMD'] = pd.to_numeric(pd.to_datetime(copy_data['H_YMD']))\n",
    "copy_data['O_YMD'] = pd.to_numeric(pd.to_datetime(copy_data['O_YMD']))"
   ]
  },
  {
   "cell_type": "code",
   "execution_count": 126,
   "metadata": {},
   "outputs": [],
   "source": [
    "target = 'REAL_ORD_QTY'\n",
    "x = copy_data.drop(target, axis=1)\n",
    "y = copy_data[target]"
   ]
  },
  {
   "cell_type": "code",
   "execution_count": 127,
   "metadata": {},
   "outputs": [
    {
     "data": {
      "text/plain": [
       "0         1.000000\n",
       "1         1.000000\n",
       "2         1.000000\n",
       "3         1.000000\n",
       "4         1.000000\n",
       "            ...   \n",
       "724697    1.071131\n",
       "724698    1.071131\n",
       "724699    1.071131\n",
       "724700    1.071131\n",
       "724701    1.071131\n",
       "Name: REAL_ORD_QTY, Length: 724702, dtype: float64"
      ]
     },
     "execution_count": 127,
     "metadata": {},
     "output_type": "execute_result"
    }
   ],
   "source": [
    "copy_data[target]"
   ]
  },
  {
   "cell_type": "markdown",
   "metadata": {},
   "source": [
    "### 2.4 추가 옵션 도출(feature Engineering)"
   ]
  },
  {
   "cell_type": "markdown",
   "metadata": {},
   "source": [
    "### 2.5 데이터 분할"
   ]
  },
  {
   "cell_type": "code",
   "execution_count": 128,
   "metadata": {},
   "outputs": [],
   "source": [
    "X, x_test, y, y_test = train_test_split(x, y, test_size = 0.01, random_state = 2022)"
   ]
  },
  {
   "cell_type": "code",
   "execution_count": 129,
   "metadata": {},
   "outputs": [],
   "source": [
    "X_train, X_val, y_train, y_val = train_test_split(X, y, test_size = .2, random_state = 2022)"
   ]
  },
  {
   "cell_type": "markdown",
   "metadata": {},
   "source": [
    "### 2.6 스케일링"
   ]
  },
  {
   "cell_type": "code",
   "execution_count": 130,
   "metadata": {},
   "outputs": [],
   "source": [
    "from sklearn.preprocessing import MinMaxScaler\n",
    "col_x = list(x)\n",
    "scaler = MinMaxScaler()\n",
    "X_train_s = scaler.fit_transform(X_train)\n",
    "X_val_s = scaler.transform(X_val)"
   ]
  },
  {
   "cell_type": "markdown",
   "metadata": {},
   "source": [
    "## 3. 모델링"
   ]
  },
  {
   "cell_type": "code",
   "execution_count": 132,
   "metadata": {},
   "outputs": [
    {
     "name": "stdout",
     "output_type": "stream",
     "text": [
      "Collecting xgboost\n",
      "  Downloading xgboost-1.6.1-py3-none-win_amd64.whl (125.4 MB)\n",
      "Requirement already satisfied: numpy in c:\\users\\sunghyun\\anaconda3\\lib\\site-packages (from xgboost) (1.21.5)\n",
      "Requirement already satisfied: scipy in c:\\users\\sunghyun\\anaconda3\\lib\\site-packages (from xgboost) (1.7.3)\n",
      "Installing collected packages: xgboost\n",
      "Successfully installed xgboost-1.6.1\n"
     ]
    }
   ],
   "source": [
    "!pip install xgboost"
   ]
  },
  {
   "cell_type": "code",
   "execution_count": 133,
   "metadata": {},
   "outputs": [],
   "source": [
    "from xgboost import XGBRegressor\n",
    "from xgboost import plot_importance\n",
    "\n",
    "%matplotlib inline"
   ]
  },
  {
   "cell_type": "code",
   "execution_count": 134,
   "metadata": {},
   "outputs": [],
   "source": [
    "model = XGBRegressor(\n",
    "    max_depth=8,\n",
    "    n_estimators=1000,\n",
    "    min_child_weight=300, \n",
    "    colsample_bytree=0.8, \n",
    "    subsample=0.8, \n",
    "    eta=0.3,    \n",
    "    seed=42)"
   ]
  },
  {
   "cell_type": "code",
   "execution_count": 135,
   "metadata": {},
   "outputs": [
    {
     "name": "stderr",
     "output_type": "stream",
     "text": [
      "c:\\Users\\SUNGHYUN\\anaconda3\\lib\\site-packages\\xgboost\\sklearn.py:793: UserWarning: `eval_metric` in `fit` method is deprecated for better compatibility with scikit-learn, use `eval_metric` in constructor or`set_params` instead.\n",
      "  warnings.warn(\n",
      "c:\\Users\\SUNGHYUN\\anaconda3\\lib\\site-packages\\xgboost\\sklearn.py:793: UserWarning: `early_stopping_rounds` in `fit` method is deprecated for better compatibility with scikit-learn, use `early_stopping_rounds` in constructor or`set_params` instead.\n",
      "  warnings.warn(\n"
     ]
    },
    {
     "name": "stdout",
     "output_type": "stream",
     "text": [
      "[0]\tvalidation_0-rmse:0.35712\tvalidation_1-rmse:0.35705\n",
      "[1]\tvalidation_0-rmse:0.24998\tvalidation_1-rmse:0.24994\n",
      "[2]\tvalidation_0-rmse:0.17499\tvalidation_1-rmse:0.17496\n",
      "[3]\tvalidation_0-rmse:0.12249\tvalidation_1-rmse:0.12247\n",
      "[4]\tvalidation_0-rmse:0.08574\tvalidation_1-rmse:0.08573\n",
      "[5]\tvalidation_0-rmse:0.06004\tvalidation_1-rmse:0.06003\n",
      "[6]\tvalidation_0-rmse:0.04203\tvalidation_1-rmse:0.04202\n",
      "[7]\tvalidation_0-rmse:0.02942\tvalidation_1-rmse:0.02941\n",
      "[8]\tvalidation_0-rmse:0.02060\tvalidation_1-rmse:0.02059\n",
      "[9]\tvalidation_0-rmse:0.01442\tvalidation_1-rmse:0.01441\n",
      "[10]\tvalidation_0-rmse:0.01009\tvalidation_1-rmse:0.01009\n",
      "[11]\tvalidation_0-rmse:0.00707\tvalidation_1-rmse:0.00707\n",
      "[12]\tvalidation_0-rmse:0.00496\tvalidation_1-rmse:0.00495\n",
      "[13]\tvalidation_0-rmse:0.00347\tvalidation_1-rmse:0.00347\n",
      "[14]\tvalidation_0-rmse:0.00244\tvalidation_1-rmse:0.00243\n",
      "[15]\tvalidation_0-rmse:0.00171\tvalidation_1-rmse:0.00171\n",
      "[16]\tvalidation_0-rmse:0.00121\tvalidation_1-rmse:0.00121\n",
      "[17]\tvalidation_0-rmse:0.00086\tvalidation_1-rmse:0.00086\n",
      "[18]\tvalidation_0-rmse:0.00063\tvalidation_1-rmse:0.00062\n",
      "[19]\tvalidation_0-rmse:0.00046\tvalidation_1-rmse:0.00045\n",
      "[20]\tvalidation_0-rmse:0.00036\tvalidation_1-rmse:0.00035\n",
      "[21]\tvalidation_0-rmse:0.00029\tvalidation_1-rmse:0.00028\n",
      "[22]\tvalidation_0-rmse:0.00025\tvalidation_1-rmse:0.00024\n",
      "[23]\tvalidation_0-rmse:0.00023\tvalidation_1-rmse:0.00021\n",
      "[24]\tvalidation_0-rmse:0.00022\tvalidation_1-rmse:0.00020\n",
      "[25]\tvalidation_0-rmse:0.00021\tvalidation_1-rmse:0.00019\n",
      "[26]\tvalidation_0-rmse:0.00021\tvalidation_1-rmse:0.00019\n",
      "[27]\tvalidation_0-rmse:0.00021\tvalidation_1-rmse:0.00019\n",
      "[28]\tvalidation_0-rmse:0.00021\tvalidation_1-rmse:0.00019\n",
      "[29]\tvalidation_0-rmse:0.00021\tvalidation_1-rmse:0.00019\n",
      "[30]\tvalidation_0-rmse:0.00021\tvalidation_1-rmse:0.00018\n",
      "[31]\tvalidation_0-rmse:0.00021\tvalidation_1-rmse:0.00018\n",
      "[32]\tvalidation_0-rmse:0.00021\tvalidation_1-rmse:0.00018\n",
      "[33]\tvalidation_0-rmse:0.00021\tvalidation_1-rmse:0.00018\n",
      "[34]\tvalidation_0-rmse:0.00021\tvalidation_1-rmse:0.00018\n",
      "[35]\tvalidation_0-rmse:0.00021\tvalidation_1-rmse:0.00018\n",
      "[36]\tvalidation_0-rmse:0.00021\tvalidation_1-rmse:0.00018\n",
      "[37]\tvalidation_0-rmse:0.00021\tvalidation_1-rmse:0.00018\n",
      "[38]\tvalidation_0-rmse:0.00021\tvalidation_1-rmse:0.00018\n",
      "[39]\tvalidation_0-rmse:0.00021\tvalidation_1-rmse:0.00018\n",
      "[40]\tvalidation_0-rmse:0.00021\tvalidation_1-rmse:0.00018\n",
      "[41]\tvalidation_0-rmse:0.00021\tvalidation_1-rmse:0.00018\n",
      "[42]\tvalidation_0-rmse:0.00021\tvalidation_1-rmse:0.00018\n",
      "[43]\tvalidation_0-rmse:0.00021\tvalidation_1-rmse:0.00018\n",
      "[44]\tvalidation_0-rmse:0.00021\tvalidation_1-rmse:0.00018\n",
      "[45]\tvalidation_0-rmse:0.00021\tvalidation_1-rmse:0.00018\n",
      "[46]\tvalidation_0-rmse:0.00021\tvalidation_1-rmse:0.00018\n",
      "[47]\tvalidation_0-rmse:0.00021\tvalidation_1-rmse:0.00018\n",
      "[48]\tvalidation_0-rmse:0.00021\tvalidation_1-rmse:0.00018\n",
      "[49]\tvalidation_0-rmse:0.00021\tvalidation_1-rmse:0.00018\n",
      "[50]\tvalidation_0-rmse:0.00021\tvalidation_1-rmse:0.00018\n",
      "[51]\tvalidation_0-rmse:0.00021\tvalidation_1-rmse:0.00018\n",
      "[52]\tvalidation_0-rmse:0.00021\tvalidation_1-rmse:0.00018\n",
      "[53]\tvalidation_0-rmse:0.00021\tvalidation_1-rmse:0.00018\n",
      "[54]\tvalidation_0-rmse:0.00021\tvalidation_1-rmse:0.00018\n",
      "[55]\tvalidation_0-rmse:0.00021\tvalidation_1-rmse:0.00018\n",
      "[56]\tvalidation_0-rmse:0.00021\tvalidation_1-rmse:0.00018\n",
      "[57]\tvalidation_0-rmse:0.00021\tvalidation_1-rmse:0.00018\n",
      "[58]\tvalidation_0-rmse:0.00021\tvalidation_1-rmse:0.00018\n",
      "[59]\tvalidation_0-rmse:0.00021\tvalidation_1-rmse:0.00018\n",
      "[60]\tvalidation_0-rmse:0.00021\tvalidation_1-rmse:0.00018\n"
     ]
    },
    {
     "data": {
      "text/plain": [
       "XGBRegressor(base_score=0.5, booster='gbtree', callbacks=None,\n",
       "             colsample_bylevel=1, colsample_bynode=1, colsample_bytree=0.8,\n",
       "             early_stopping_rounds=None, enable_categorical=False, eta=0.3,\n",
       "             eval_metric=None, gamma=0, gpu_id=-1, grow_policy='depthwise',\n",
       "             importance_type=None, interaction_constraints='',\n",
       "             learning_rate=0.300000012, max_bin=256, max_cat_to_onehot=4,\n",
       "             max_delta_step=0, max_depth=8, max_leaves=0, min_child_weight=300,\n",
       "             missing=nan, monotone_constraints='()', n_estimators=1000,\n",
       "             n_jobs=0, num_parallel_tree=1, predictor='auto', random_state=42,\n",
       "             reg_alpha=0, ...)"
      ]
     },
     "execution_count": 135,
     "metadata": {},
     "output_type": "execute_result"
    }
   ],
   "source": [
    "model.fit(\n",
    "    X_train_s, \n",
    "    y_train, \n",
    "    eval_metric=\"rmse\", \n",
    "    eval_set=[(X_train_s, y_train), (X_val_s, y_val)], \n",
    "    verbose=True, \n",
    "    early_stopping_rounds = 10)"
   ]
  },
  {
   "cell_type": "code",
   "execution_count": 136,
   "metadata": {},
   "outputs": [],
   "source": [
    "Y_pred = model.predict(X_val_s).clip(0, 20)\n",
    "Y_test = model.predict(x_test).clip(0, 20)"
   ]
  },
  {
   "cell_type": "code",
   "execution_count": 139,
   "metadata": {},
   "outputs": [
    {
     "data": {
      "text/html": [
       "<div>\n",
       "<style scoped>\n",
       "    .dataframe tbody tr th:only-of-type {\n",
       "        vertical-align: middle;\n",
       "    }\n",
       "\n",
       "    .dataframe tbody tr th {\n",
       "        vertical-align: top;\n",
       "    }\n",
       "\n",
       "    .dataframe thead th {\n",
       "        text-align: right;\n",
       "    }\n",
       "</style>\n",
       "<table border=\"1\" class=\"dataframe\">\n",
       "  <thead>\n",
       "    <tr style=\"text-align: right;\">\n",
       "      <th></th>\n",
       "      <th>H_YMD</th>\n",
       "      <th>O_YMD</th>\n",
       "      <th>ORD_QTY</th>\n",
       "      <th>CANCEL_QTY</th>\n",
       "      <th>RET_QTY</th>\n",
       "      <th>REAL_ORD_QTY</th>\n",
       "      <th>SALE_PRICE</th>\n",
       "      <th>DISCOUNT_AMT</th>\n",
       "      <th>FINAL_PRICE</th>\n",
       "      <th>PKG_GOODS_NM_세트</th>\n",
       "      <th>...</th>\n",
       "      <th>GOODS_1901012353_수제계란말이(350g)</th>\n",
       "      <th>GOODS_1903012675_순살코다리강정(180g)</th>\n",
       "      <th>GOODS_1909013359_가정집 오징어불고기/셀프(380g)</th>\n",
       "      <th>GOODS_2010014667_우삼겹숙주볶음(250g)</th>\n",
       "      <th>GOODS_2010014707_고구마 품은 라자냐(450g)</th>\n",
       "      <th>GOODS_2012014895_한돈 제육볶음(700g)</th>\n",
       "      <th>GOODS_2103015231_[심방골주부X더반찬] 시골 돼지짜글이(600g)</th>\n",
       "      <th>GOODS_2204016772_소고기유니짜장소스(1인분, 200g)</th>\n",
       "      <th>GOODS_3273_채소계란찜(340g)</th>\n",
       "      <th>GOODS_4092_건표고버섯볶음</th>\n",
       "    </tr>\n",
       "  </thead>\n",
       "  <tbody>\n",
       "    <tr>\n",
       "      <th>0</th>\n",
       "      <td>1641859200000000000</td>\n",
       "      <td>1641731170000000000</td>\n",
       "      <td>1.0</td>\n",
       "      <td>0.0</td>\n",
       "      <td>0.0</td>\n",
       "      <td>1.0</td>\n",
       "      <td>6900.0</td>\n",
       "      <td>569.0</td>\n",
       "      <td>6331.0</td>\n",
       "      <td>0</td>\n",
       "      <td>...</td>\n",
       "      <td>1</td>\n",
       "      <td>0</td>\n",
       "      <td>0</td>\n",
       "      <td>0</td>\n",
       "      <td>0</td>\n",
       "      <td>0</td>\n",
       "      <td>0</td>\n",
       "      <td>0</td>\n",
       "      <td>0</td>\n",
       "      <td>0</td>\n",
       "    </tr>\n",
       "    <tr>\n",
       "      <th>1</th>\n",
       "      <td>1641859200000000000</td>\n",
       "      <td>1641810949000000000</td>\n",
       "      <td>1.0</td>\n",
       "      <td>0.0</td>\n",
       "      <td>0.0</td>\n",
       "      <td>1.0</td>\n",
       "      <td>6900.0</td>\n",
       "      <td>177.0</td>\n",
       "      <td>6723.0</td>\n",
       "      <td>0</td>\n",
       "      <td>...</td>\n",
       "      <td>1</td>\n",
       "      <td>0</td>\n",
       "      <td>0</td>\n",
       "      <td>0</td>\n",
       "      <td>0</td>\n",
       "      <td>0</td>\n",
       "      <td>0</td>\n",
       "      <td>0</td>\n",
       "      <td>0</td>\n",
       "      <td>0</td>\n",
       "    </tr>\n",
       "    <tr>\n",
       "      <th>2</th>\n",
       "      <td>1641945600000000000</td>\n",
       "      <td>1641901112000000000</td>\n",
       "      <td>1.0</td>\n",
       "      <td>0.0</td>\n",
       "      <td>0.0</td>\n",
       "      <td>1.0</td>\n",
       "      <td>6900.0</td>\n",
       "      <td>221.0</td>\n",
       "      <td>6679.0</td>\n",
       "      <td>0</td>\n",
       "      <td>...</td>\n",
       "      <td>1</td>\n",
       "      <td>0</td>\n",
       "      <td>0</td>\n",
       "      <td>0</td>\n",
       "      <td>0</td>\n",
       "      <td>0</td>\n",
       "      <td>0</td>\n",
       "      <td>0</td>\n",
       "      <td>0</td>\n",
       "      <td>0</td>\n",
       "    </tr>\n",
       "    <tr>\n",
       "      <th>3</th>\n",
       "      <td>1641945600000000000</td>\n",
       "      <td>1641820911000000000</td>\n",
       "      <td>1.0</td>\n",
       "      <td>0.0</td>\n",
       "      <td>0.0</td>\n",
       "      <td>1.0</td>\n",
       "      <td>6900.0</td>\n",
       "      <td>128.0</td>\n",
       "      <td>6772.0</td>\n",
       "      <td>0</td>\n",
       "      <td>...</td>\n",
       "      <td>1</td>\n",
       "      <td>0</td>\n",
       "      <td>0</td>\n",
       "      <td>0</td>\n",
       "      <td>0</td>\n",
       "      <td>0</td>\n",
       "      <td>0</td>\n",
       "      <td>0</td>\n",
       "      <td>0</td>\n",
       "      <td>0</td>\n",
       "    </tr>\n",
       "    <tr>\n",
       "      <th>4</th>\n",
       "      <td>1641859200000000000</td>\n",
       "      <td>1641802581000000000</td>\n",
       "      <td>1.0</td>\n",
       "      <td>0.0</td>\n",
       "      <td>0.0</td>\n",
       "      <td>1.0</td>\n",
       "      <td>6900.0</td>\n",
       "      <td>157.0</td>\n",
       "      <td>6743.0</td>\n",
       "      <td>0</td>\n",
       "      <td>...</td>\n",
       "      <td>1</td>\n",
       "      <td>0</td>\n",
       "      <td>0</td>\n",
       "      <td>0</td>\n",
       "      <td>0</td>\n",
       "      <td>0</td>\n",
       "      <td>0</td>\n",
       "      <td>0</td>\n",
       "      <td>0</td>\n",
       "      <td>0</td>\n",
       "    </tr>\n",
       "  </tbody>\n",
       "</table>\n",
       "<p>5 rows × 34 columns</p>\n",
       "</div>"
      ],
      "text/plain": [
       "                 H_YMD                O_YMD  ORD_QTY  CANCEL_QTY  RET_QTY  \\\n",
       "0  1641859200000000000  1641731170000000000      1.0         0.0      0.0   \n",
       "1  1641859200000000000  1641810949000000000      1.0         0.0      0.0   \n",
       "2  1641945600000000000  1641901112000000000      1.0         0.0      0.0   \n",
       "3  1641945600000000000  1641820911000000000      1.0         0.0      0.0   \n",
       "4  1641859200000000000  1641802581000000000      1.0         0.0      0.0   \n",
       "\n",
       "   REAL_ORD_QTY  SALE_PRICE  DISCOUNT_AMT  FINAL_PRICE  PKG_GOODS_NM_세트  ...  \\\n",
       "0           1.0      6900.0         569.0       6331.0                0  ...   \n",
       "1           1.0      6900.0         177.0       6723.0                0  ...   \n",
       "2           1.0      6900.0         221.0       6679.0                0  ...   \n",
       "3           1.0      6900.0         128.0       6772.0                0  ...   \n",
       "4           1.0      6900.0         157.0       6743.0                0  ...   \n",
       "\n",
       "   GOODS_1901012353_수제계란말이(350g)  GOODS_1903012675_순살코다리강정(180g)  \\\n",
       "0                              1                               0   \n",
       "1                              1                               0   \n",
       "2                              1                               0   \n",
       "3                              1                               0   \n",
       "4                              1                               0   \n",
       "\n",
       "   GOODS_1909013359_가정집 오징어불고기/셀프(380g)  GOODS_2010014667_우삼겹숙주볶음(250g)  \\\n",
       "0                                     0                               0   \n",
       "1                                     0                               0   \n",
       "2                                     0                               0   \n",
       "3                                     0                               0   \n",
       "4                                     0                               0   \n",
       "\n",
       "   GOODS_2010014707_고구마 품은 라자냐(450g)  GOODS_2012014895_한돈 제육볶음(700g)  \\\n",
       "0                                  0                               0   \n",
       "1                                  0                               0   \n",
       "2                                  0                               0   \n",
       "3                                  0                               0   \n",
       "4                                  0                               0   \n",
       "\n",
       "   GOODS_2103015231_[심방골주부X더반찬] 시골 돼지짜글이(600g)  \\\n",
       "0                                            0   \n",
       "1                                            0   \n",
       "2                                            0   \n",
       "3                                            0   \n",
       "4                                            0   \n",
       "\n",
       "   GOODS_2204016772_소고기유니짜장소스(1인분, 200g)  GOODS_3273_채소계란찜(340g)  \\\n",
       "0                                      0                       0   \n",
       "1                                      0                       0   \n",
       "2                                      0                       0   \n",
       "3                                      0                       0   \n",
       "4                                      0                       0   \n",
       "\n",
       "   GOODS_4092_건표고버섯볶음  \n",
       "0                   0  \n",
       "1                   0  \n",
       "2                   0  \n",
       "3                   0  \n",
       "4                   0  \n",
       "\n",
       "[5 rows x 34 columns]"
      ]
     },
     "execution_count": 139,
     "metadata": {},
     "output_type": "execute_result"
    }
   ],
   "source": [
    "copy_data.head()"
   ]
  },
  {
   "cell_type": "code",
   "execution_count": 141,
   "metadata": {},
   "outputs": [],
   "source": [
    "import pickle\n",
    "\n",
    "submission = pd.DataFrame({\n",
    "    \"ID\": x_test.index, \n",
    "    \"item_cnt_month\": Y_test\n",
    "})\n",
    "submission.to_csv('xgb_submission.csv', index=False)\n",
    "\n",
    "# save predictions for an ensemble\n",
    "pickle.dump(Y_pred, open('xgb_train.pickle', 'wb'))\n",
    "pickle.dump(Y_test, open('xgb_test.pickle', 'wb'))"
   ]
  },
  {
   "cell_type": "code",
   "execution_count": 105,
   "metadata": {},
   "outputs": [
    {
     "data": {
      "text/plain": [
       "(573963, 33)"
      ]
     },
     "execution_count": 105,
     "metadata": {},
     "output_type": "execute_result"
    }
   ],
   "source": [
    "X_train_s.shape"
   ]
  },
  {
   "cell_type": "code",
   "execution_count": 182,
   "metadata": {},
   "outputs": [
    {
     "name": "stderr",
     "output_type": "stream",
     "text": [
      "C:\\Users\\user\\AppData\\Local\\Temp\\ipykernel_4664\\1473618002.py:1: FutureWarning: The squeeze argument has been deprecated and will be removed in a future version. Append .squeeze(\"columns\") to the call to squeeze.\n",
      "\n",
      "\n",
      "  test = pd.read_csv(r'C:\\Users\\user\\Desktop\\intern.csv', usecols=['H_YMD', 'REAL_ORD_QTY'], header=0, index_col=0, squeeze=True)\n"
     ]
    },
    {
     "data": {
      "text/plain": [
       "H_YMD\n",
       "2022-01-11 00:00:00    1\n",
       "2022-01-11 00:00:00    1\n",
       "2022-01-12 00:00:00    1\n",
       "2022-01-12 00:00:00    1\n",
       "2022-01-11 00:00:00    1\n",
       "Name: REAL_ORD_QTY, dtype: int64"
      ]
     },
     "execution_count": 182,
     "metadata": {},
     "output_type": "execute_result"
    }
   ],
   "source": [
    "test = pd.read_csv(r'C:\\Users\\user\\Desktop\\intern.csv', usecols=['H_YMD', 'REAL_ORD_QTY'], header=0, index_col=0, squeeze=True)\n",
    "test.head()"
   ]
  },
  {
   "cell_type": "code",
   "execution_count": 184,
   "metadata": {},
   "outputs": [
    {
     "name": "stdout",
     "output_type": "stream",
     "text": [
      "<class 'pandas.core.series.Series'>\n",
      "Index: 724702 entries, 2022-01-11 00:00:00 to 2020-03-30 00:00:00\n",
      "Series name: REAL_ORD_QTY\n",
      "Non-Null Count   Dtype\n",
      "--------------   -----\n",
      "724702 non-null  int64\n",
      "dtypes: int64(1)\n",
      "memory usage: 27.2+ MB\n"
     ]
    }
   ],
   "source": [
    "test.info()"
   ]
  },
  {
   "cell_type": "code",
   "execution_count": 185,
   "metadata": {},
   "outputs": [
    {
     "name": "stderr",
     "output_type": "stream",
     "text": [
      "c:\\Users\\user\\anaconda3\\lib\\site-packages\\statsmodels\\graphics\\tsaplots.py:348: FutureWarning: The default method 'yw' can produce PACF values outside of the [-1,1] interval. After 0.13, the default will change tounadjusted Yule-Walker ('ywm'). You can use this method now by setting method='ywm'.\n",
      "  warnings.warn(\n"
     ]
    },
    {
     "data": {
      "image/png": "[encoded data removed]",
      "text/plain": [
       "<Figure size 432x288 with 1 Axes>"
      ]
     },
     "metadata": {
      "needs_background": "light"
     },
     "output_type": "display_data"
    },
    {
     "data": {
      "image/png": "[encoded data removed]",
      "text/plain": [
       "<Figure size 432x288 with 1 Axes>"
      ]
     },
     "metadata": {
      "needs_background": "light"
     },
     "output_type": "display_data"
    }
   ],
   "source": [
    "import matplotlib.pyplot as plt\n",
    "from statsmodels.graphics.tsaplots import plot_acf, plot_pacf\n",
    "\n",
    "plot_acf(test)\n",
    "plot_pacf(test)\n",
    "plt.show()"
   ]
  },
  {
   "cell_type": "code",
   "execution_count": 186,
   "metadata": {},
   "outputs": [
    {
     "name": "stderr",
     "output_type": "stream",
     "text": [
      "c:\\Users\\user\\anaconda3\\lib\\site-packages\\statsmodels\\graphics\\tsaplots.py:348: FutureWarning: The default method 'yw' can produce PACF values outside of the [-1,1] interval. After 0.13, the default will change tounadjusted Yule-Walker ('ywm'). You can use this method now by setting method='ywm'.\n",
      "  warnings.warn(\n"
     ]
    },
    {
     "data": {
      "image/png": "[encoded data removed]",
      "text/plain": [
       "<Figure size 432x288 with 1 Axes>"
      ]
     },
     "metadata": {
      "needs_background": "light"
     },
     "output_type": "display_data"
    },
    {
     "data": {
      "image/png": "[encoded data removed]",
      "text/plain": [
       "<Figure size 432x288 with 1 Axes>"
      ]
     },
     "metadata": {
      "needs_background": "light"
     },
     "output_type": "display_data"
    },
    {
     "data": {
      "image/png": "[encoded data removed]",
      "text/plain": [
       "<Figure size 432x288 with 1 Axes>"
      ]
     },
     "metadata": {
      "needs_background": "light"
     },
     "output_type": "display_data"
    }
   ],
   "source": [
    "diff_1=test.diff(periods=1).iloc[1:]\n",
    "diff_1.plot()\n",
    "plot_acf(diff_1)\n",
    "plot_pacf(diff_1)\n",
    "plt.show()"
   ]
  },
  {
   "cell_type": "code",
   "execution_count": 198,
   "metadata": {},
   "outputs": [
    {
     "ename": "NotImplementedError",
     "evalue": "\nstatsmodels.tsa.arima_model.ARMA and statsmodels.tsa.arima_model.ARIMA have\nbeen removed in favor of statsmodels.tsa.arima.model.ARIMA (note the .\nbetween arima and model) and statsmodels.tsa.SARIMAX.\n\nstatsmodels.tsa.arima.model.ARIMA makes use of the statespace framework and\nis both well tested and maintained. It also offers alternative specialized\nparameter estimators.\n",
     "output_type": "error",
     "traceback": [
      "\u001b[1;31m---------------------------------------------------------------------------\u001b[0m",
      "\u001b[1;31mNotImplementedError\u001b[0m                       Traceback (most recent call last)",
      "\u001b[1;32mc:\\Users\\user\\Dongwon\\Dongwon_Project\\더반찬_주문량예측.ipynb Cell 85'\u001b[0m in \u001b[0;36m<cell line: 5>\u001b[1;34m()\u001b[0m\n\u001b[0;32m      <a href='vscode-notebook-cell:/c%3A/Users/user/Dongwon/Dongwon_Project/%EB%8D%94%EB%B0%98%EC%B0%AC_%EC%A3%BC%EB%AC%B8%EB%9F%89%EC%98%88%EC%B8%A1.ipynb#ch0000120?line=1'>2</a>\u001b[0m \u001b[39mimport\u001b[39;00m \u001b[39mstatsmodels\u001b[39;00m\u001b[39m.\u001b[39;00m\u001b[39mapi\u001b[39;00m \u001b[39mas\u001b[39;00m \u001b[39msm\u001b[39;00m\n\u001b[0;32m      <a href='vscode-notebook-cell:/c%3A/Users/user/Dongwon/Dongwon_Project/%EB%8D%94%EB%B0%98%EC%B0%AC_%EC%A3%BC%EB%AC%B8%EB%9F%89%EC%98%88%EC%B8%A1.ipynb#ch0000120?line=3'>4</a>\u001b[0m \u001b[39m# (AR = 2, 차분 =1, MA=2) 파라미터로 ARIMA 모델을 학습한다.\u001b[39;00m\n\u001b[1;32m----> <a href='vscode-notebook-cell:/c%3A/Users/user/Dongwon/Dongwon_Project/%EB%8D%94%EB%B0%98%EC%B0%AC_%EC%A3%BC%EB%AC%B8%EB%9F%89%EC%98%88%EC%B8%A1.ipynb#ch0000120?line=4'>5</a>\u001b[0m model \u001b[39m=\u001b[39m ARIMA(test, order \u001b[39m=\u001b[39;49m (\u001b[39m2\u001b[39;49m,\u001b[39m1\u001b[39;49m,\u001b[39m2\u001b[39;49m))\n\u001b[0;32m      <a href='vscode-notebook-cell:/c%3A/Users/user/Dongwon/Dongwon_Project/%EB%8D%94%EB%B0%98%EC%B0%AC_%EC%A3%BC%EB%AC%B8%EB%9F%89%EC%98%88%EC%B8%A1.ipynb#ch0000120?line=5'>6</a>\u001b[0m model_fit \u001b[39m=\u001b[39m model\u001b[39m.\u001b[39mfit(trend \u001b[39m=\u001b[39m \u001b[39m'\u001b[39m\u001b[39mc\u001b[39m\u001b[39m'\u001b[39m, full_output \u001b[39m=\u001b[39m \u001b[39mTrue\u001b[39;00m, disp \u001b[39m=\u001b[39m \u001b[39mTrue\u001b[39;00m)\n\u001b[0;32m      <a href='vscode-notebook-cell:/c%3A/Users/user/Dongwon/Dongwon_Project/%EB%8D%94%EB%B0%98%EC%B0%AC_%EC%A3%BC%EB%AC%B8%EB%9F%89%EC%98%88%EC%B8%A1.ipynb#ch0000120?line=6'>7</a>\u001b[0m \u001b[39mprint\u001b[39m(model_fit\u001b[39m.\u001b[39msummary())\n",
      "File \u001b[1;32mc:\\Users\\user\\anaconda3\\lib\\site-packages\\statsmodels\\tsa\\arima_model.py:45\u001b[0m, in \u001b[0;36mARIMA.__init__\u001b[1;34m(self, *args, **kwargs)\u001b[0m\n\u001b[0;32m     44\u001b[0m \u001b[39mdef\u001b[39;00m \u001b[39m__init__\u001b[39m(\u001b[39mself\u001b[39m, \u001b[39m*\u001b[39margs, \u001b[39m*\u001b[39m\u001b[39m*\u001b[39mkwargs):\n\u001b[1;32m---> 45\u001b[0m     \u001b[39msuper\u001b[39m()\u001b[39m.\u001b[39m\u001b[39m__init__\u001b[39m(\u001b[39m*\u001b[39margs, \u001b[39m*\u001b[39m\u001b[39m*\u001b[39mkwargs)\n",
      "File \u001b[1;32mc:\\Users\\user\\anaconda3\\lib\\site-packages\\statsmodels\\tsa\\arima_model.py:29\u001b[0m, in \u001b[0;36mARMA.__init__\u001b[1;34m(self, *args, **kwargs)\u001b[0m\n\u001b[0;32m     28\u001b[0m \u001b[39mdef\u001b[39;00m \u001b[39m__init__\u001b[39m(\u001b[39mself\u001b[39m, \u001b[39m*\u001b[39margs, \u001b[39m*\u001b[39m\u001b[39m*\u001b[39mkwargs):\n\u001b[1;32m---> 29\u001b[0m     \u001b[39mraise\u001b[39;00m \u001b[39mNotImplementedError\u001b[39;00m(ARIMA_DEPRECATION_ERROR)\n",
      "\u001b[1;31mNotImplementedError\u001b[0m: \nstatsmodels.tsa.arima_model.ARMA and statsmodels.tsa.arima_model.ARIMA have\nbeen removed in favor of statsmodels.tsa.arima.model.ARIMA (note the .\nbetween arima and model) and statsmodels.tsa.SARIMAX.\n\nstatsmodels.tsa.arima.model.ARIMA makes use of the statespace framework and\nis both well tested and maintained. It also offers alternative specialized\nparameter estimators.\n"
     ]
    }
   ],
   "source": [
    "from statsmodels.tsa.arima_model import ARIMA\n",
    "import statsmodels.api as sm\n",
    "\n",
    "# (AR = 2, 차분 =1, MA=2) 파라미터로 ARIMA 모델을 학습한다.\n",
    "model = ARIMA(test, order = (2,1,2))\n",
    "model_fit = model.fit(trend = 'c', full_output = True, disp = True)\n",
    "print(model_fit.summary())"
   ]
  },
  {
   "cell_type": "code",
   "execution_count": 193,
   "metadata": {},
   "outputs": [
    {
     "name": "stdout",
     "output_type": "stream",
     "text": [
      "Results of KPSS Test:\n",
      "Test Statistic              0.273181\n",
      "p-value                     0.100000\n",
      "Lags Used                1408.000000\n",
      "Critical Value (10%)        0.347000\n",
      "Critical Value (5%)         0.463000\n",
      "Critical Value (2.5%)       0.574000\n",
      "Critical Value (1%)         0.739000\n",
      "dtype: float64\n"
     ]
    },
    {
     "name": "stderr",
     "output_type": "stream",
     "text": [
      "c:\\Users\\user\\anaconda3\\lib\\site-packages\\statsmodels\\tsa\\stattools.py:2022: InterpolationWarning: The test statistic is outside of the range of p-values available in the\n",
      "look-up table. The actual p-value is greater than the p-value returned.\n",
      "\n",
      "  warnings.warn(\n"
     ]
    }
   ],
   "source": [
    "from statsmodels.tsa.stattools import kpss\n"
   ]
  },
  {
   "cell_type": "markdown",
   "metadata": {},
   "source": [
    "### 3.1 머신러닝 모델 3개"
   ]
  },
  {
   "cell_type": "markdown",
   "metadata": {},
   "source": [
    "### 3.2 딥러닝 모델"
   ]
  },
  {
   "cell_type": "markdown",
   "metadata": {},
   "source": [
    "## 4. 성능 비교"
   ]
  },
  {
   "cell_type": "markdown",
   "metadata": {},
   "source": [
    "## 5. 비지니스 인사이트 도출"
   ]
  }
 ],
 "metadata": {
  "kernelspec": {
   "display_name": "Python 3.9.12 ('base')",
   "language": "python",
   "name": "python3"
  },
  "language_info": {
   "codemirror_mode": {
    "name": "ipython",
    "version": 3
   },
   "file_extension": ".py",
   "mimetype": "text/x-python",
   "name": "python",
   "nbconvert_exporter": "python",
   "pygments_lexer": "ipython3",
   "version": "3.9.12"
  },
  "orig_nbformat": 4,
  "vscode": {
   "interpreter": {
    "hash": "5f3be07b9e3185c6a8e63ab1dbb8746546f7fbcbaf9e8efc507ca447609650d5"
   }
  }
 },
 "nbformat": 4,
 "nbformat_minor": 2
}

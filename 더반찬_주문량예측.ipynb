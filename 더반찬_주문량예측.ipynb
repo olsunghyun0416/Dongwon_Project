{
 "cells": [
  {
   "cell_type": "markdown",
   "metadata": {},
   "source": [
    "# 과제#1. 더반찬 주문량 예측"
   ]
  },
  {
   "cell_type": "markdown",
   "metadata": {},
   "source": [
    "* 비지니스 상황\n",
    "\n"
   ]
  },
  {
   "cell_type": "markdown",
   "metadata": {},
   "source": [
    "|\t필드이름\t|\t유형\t|\t설명\t|\n",
    "|\t----\t|\t----\t|\t----\t|\n",
    "|\tORD_NO \t|\tSTRING\t|\torder 시리얼 넘버\t|   \n",
    "|\tH_YMD \t|\tSTRING\t|\t희망배송일\t|  \n",
    "|\tO_YMD \t|\tSTRING\t|\t오더 시간\t|  \n",
    "|\tPKG_GOODS_NO \t|\tSTRING\t|\t단품인지 세트인지 구성상품\t|   \n",
    "|\tPKG_GOODS_NM \t|\tSTRING\t|\t단품인지 세트인지 구성상품\t|   \n",
    "|\tGOODS_NO \t|\tSTRING\t|\t자재코드\t|   \n",
    "|\tGOODS_NM \t|\tSTRING\t|\t자재명\t|   \n",
    "|\tSTD_GSGR_NO_LEV1_NM \t|\t STRING\t|\t자재 카테고리\t|   \n",
    "|\tORD_QTY \t|\t INTEGER\t|\t오더건수\t|   \n",
    "|\tCANCEL_QTY \t|\t INTEGER\t|\t취소 오더건수\t|   \n",
    "|\tRET_QTY \t|\t INTEGER\t|\t환불 오더건수\t|   \n",
    "|\tREAL_ORD_QTY \t|\t INTEGER\t|\t최종 오더건수\t|   \n",
    "|\tRECVR_ROAD_BASE_ADDR \t|\t STRING\t|\t주소\t|   \n",
    "|\tSALE_PRICE \t|\t INTEGER\t|\t판매가격\t|   \n",
    "|\tDISCOUNT_AMT\t|\t INTEGER\t|\t할인액  |   \n",
    "|\tFINAL-PRICE \t|\t INTEGER\t|\t최종 판매 가격\t|   "
   ]
  },
  {
   "cell_type": "markdown",
   "metadata": {},
   "source": [
    "## 가설"
   ]
  },
  {
   "cell_type": "markdown",
   "metadata": {},
   "source": [
    "## 0. 환경준비"
   ]
  },
  {
   "cell_type": "markdown",
   "metadata": {},
   "source": [
    "### 0.1 Import"
   ]
  },
  {
   "cell_type": "markdown",
   "metadata": {},
   "source": [
    "### 0.2 Data Loading"
   ]
  },
  {
   "cell_type": "markdown",
   "metadata": {},
   "source": [
    "## 1. 데이터 탐색"
   ]
  },
  {
   "cell_type": "markdown",
   "metadata": {},
   "source": [
    "## 2. 데이터 전처리"
   ]
  },
  {
   "cell_type": "markdown",
   "metadata": {},
   "source": [
    "### 2.1 target, feature 분리"
   ]
  },
  {
   "cell_type": "markdown",
   "metadata": {},
   "source": [
    "### 2.2 NaN 결측치 처리"
   ]
  },
  {
   "cell_type": "markdown",
   "metadata": {},
   "source": [
    "### 2.3 가변수화"
   ]
  },
  {
   "cell_type": "markdown",
   "metadata": {},
   "source": [
    "### 2.4 추가 옵션 도출(feature Engineering)"
   ]
  },
  {
   "cell_type": "markdown",
   "metadata": {},
   "source": [
    "### 2.5 데이터 분할"
   ]
  },
  {
   "cell_type": "markdown",
   "metadata": {},
   "source": [
    "### 2.6 스케일링"
   ]
  },
  {
   "cell_type": "markdown",
   "metadata": {},
   "source": [
    "## 3. 모델링"
   ]
  },
  {
   "cell_type": "markdown",
   "metadata": {},
   "source": [
    "### 3.1 머신러닝 모델 3개"
   ]
  },
  {
   "cell_type": "markdown",
   "metadata": {},
   "source": [
    "### 3.2 딥러닝 모델"
   ]
  },
  {
   "cell_type": "markdown",
   "metadata": {},
   "source": [
    "## 4. 성능 비교"
   ]
  },
  {
   "cell_type": "markdown",
   "metadata": {},
   "source": [
    "## 5. 비지니스 인사이트 도출"
   ]
  }
 ],
 "metadata": {
  "language_info": {
   "name": "python"
  },
  "orig_nbformat": 4
 },
 "nbformat": 4,
 "nbformat_minor": 2
}
